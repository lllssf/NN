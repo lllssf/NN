{
 "cells": [
  {
   "cell_type": "markdown",
   "metadata": {},
   "source": [
    "# PyTorch 学习\n",
    "当前主机版本是cpu_only"
   ]
  },
  {
   "cell_type": "code",
   "execution_count": 1,
   "metadata": {},
   "outputs": [
    {
     "name": "stdout",
     "output_type": "stream",
     "text": [
      "1.3.1\n",
      "False\n"
     ]
    }
   ],
   "source": [
    "import torch\n",
    "from torch.autograd import Variable\n",
    "print(torch.__version__)\n",
    "print(torch.cuda.is_available())"
   ]
  },
  {
   "cell_type": "markdown",
   "metadata": {},
   "source": [
    "\n",
    "## 线性回归\n",
    "1. `linspace` 生成100个[a,b]之间间隔均匀的数字\n",
    "2. `randn` 生成满足正态分布的随机数\n",
    "3. **绘制数据前要用data获取Variable包裹的Tensor并转成numpy.ndarray**\n",
    "4. `expand_as(other) / expand(other.size())` 可以升维  \n",
    "5. `ariable.data.zero_()` 可以清空数值"
   ]
  },
  {
   "cell_type": "code",
   "execution_count": 14,
   "metadata": {},
   "outputs": [
    {
     "name": "stdout",
     "output_type": "stream",
     "text": [
      "93.446434\n"
     ]
    },
    {
     "data": {
      "image/png": "[encoded data removed]",
      "text/plain": [
       "<Figure size 360x288 with 1 Axes>"
      ]
     },
     "metadata": {
      "needs_background": "light"
     },
     "output_type": "display_data"
    }
   ],
   "source": [
    "import matplotlib.pyplot as plt\n",
    "\n",
    "x = Variable(torch.linspace(0,99).type(torch.FloatTensor))\n",
    "r = Variable(torch.randn(100))*10\n",
    "\n",
    "y = x+r\n",
    "\n",
    "a = Variable(torch.rand(1), requires_grad = True)\n",
    "b = Variable(torch.rand(1), requires_grad = True)\n",
    "\n",
    "J = []\n",
    "learning_rate = 0.0001\n",
    "for i in range(1000):\n",
    "    # 每次迭代要清空存储在变量a，b中的梯度信息以免在backward过程中反复累加\n",
    "    if (a.grad is not None) and (b.grad is not None):\n",
    "        a.grad.data.zero_()\n",
    "        b.grad.data.zero_()\n",
    "    y_hat = a.expand_as(x) * x + b.expand_as(x)\n",
    "    loss = torch.mean((y_hat - y)**2)\n",
    "    J.append(loss)\n",
    "    loss.backward()\n",
    "    a.data.add_(- learning_rate * a.grad.data)\n",
    "    b.data.add_(- learning_rate * b.grad.data)\n",
    "\n",
    "print(loss.data.numpy())\n",
    "\n",
    "plt.figure(figsize = (5,4))\n",
    "plt.plot(J)\n",
    "plt.show()"
   ]
  },
  {
   "cell_type": "code",
   "execution_count": 15,
   "metadata": {},
   "outputs": [
    {
     "data": {
      "image/png": "[encoded data removed]",
      "text/plain": [
       "<Figure size 432x288 with 1 Axes>"
      ]
     },
     "metadata": {
      "needs_background": "light"
     },
     "output_type": "display_data"
    }
   ],
   "source": [
    "X = x.data.numpy()\n",
    "Y = y.data.numpy()\n",
    "xplot, = plt.plot(X, Y, 'ro')\n",
    "yplot, = plt.plot(X, a.data.numpy()*X+b.data.numpy())\n",
    "plt.xlabel('X')\n",
    "plt.ylabel('Y')\n",
    "line = str(a.data.numpy()[0])+'x + '+str(b.data.numpy()[0])\n",
    "plt.legend([xplot,yplot],['Data',line])\n",
    "plt.show()"
   ]
  },
  {
   "cell_type": "markdown",
   "metadata": {},
   "source": [
    "## 简单三层NN的回归任务\n",
    "使用[共享单车数据](http://labfile.oss.aliyuncs.com/courses/1073/bike-sharing-dataset.zip)，对单车使用量的预测\n",
    "### 数据处理\n",
    "\n",
    "因为数据文件中的数据具有不同的数据类型，不同的取值范围，所以要先预处理。\n",
    "\n",
    "#### 处理不同类型特征\n",
    "- 类型变量：value仅表示不同的类型，无高低之分，不能直接输入到神经网络，因为数值越高并不表示信号强度越大，对于此类变量可以用one-hot来编码。`pandas.get_dummies()`可以用于one-hot编码\n",
    "- 数值型变量：每个数值型变量都是独立的，如温度，其绝对值大小与问题本身无关，为了消除数值大小的差异，可以对每一个数值型变量进行标准化处理，让其数值都围绕着0波动（var-mean）/std\n",
    "\n",
    "#### 数据集分割\n",
    "- 在变量集合上，分为特征和目标两个集合\n",
    "- 将所有数据划分为训练集、（验证集）和测试集\n",
    "\n",
    "\n",
    "1. pandas的head方法可以将数据的表头和部分数据打印出来\n",
    "2. `DataFrame.loc[]` 可以按照索引来选择行列\n",
    "3. `DataFrame.values` 可以转换为numpy.ndarray\n",
    "4. `array.astype(floiat)`保证数据实数"
   ]
  },
  {
   "cell_type": "code",
   "execution_count": 2,
   "metadata": {},
   "outputs": [],
   "source": [
    "import numpy as np\n",
    "import pandas as pd\n",
    "import matplotlib.pyplot as plt"
   ]
  },
  {
   "cell_type": "code",
   "execution_count": 3,
   "metadata": {},
   "outputs": [
    {
     "data": {
      "text/html": [
       "<div>\n",
       "<style scoped>\n",
       "    .dataframe tbody tr th:only-of-type {\n",
       "        vertical-align: middle;\n",
       "    }\n",
       "\n",
       "    .dataframe tbody tr th {\n",
       "        vertical-align: top;\n",
       "    }\n",
       "\n",
       "    .dataframe thead th {\n",
       "        text-align: right;\n",
       "    }\n",
       "</style>\n",
       "<table border=\"1\" class=\"dataframe\">\n",
       "  <thead>\n",
       "    <tr style=\"text-align: right;\">\n",
       "      <th></th>\n",
       "      <th>instant</th>\n",
       "      <th>dteday</th>\n",
       "      <th>season</th>\n",
       "      <th>yr</th>\n",
       "      <th>mnth</th>\n",
       "      <th>hr</th>\n",
       "      <th>holiday</th>\n",
       "      <th>weekday</th>\n",
       "      <th>workingday</th>\n",
       "      <th>weathersit</th>\n",
       "      <th>temp</th>\n",
       "      <th>atemp</th>\n",
       "      <th>hum</th>\n",
       "      <th>windspeed</th>\n",
       "      <th>casual</th>\n",
       "      <th>registered</th>\n",
       "      <th>cnt</th>\n",
       "    </tr>\n",
       "  </thead>\n",
       "  <tbody>\n",
       "    <tr>\n",
       "      <th>0</th>\n",
       "      <td>1</td>\n",
       "      <td>2011-01-01</td>\n",
       "      <td>1</td>\n",
       "      <td>0</td>\n",
       "      <td>1</td>\n",
       "      <td>0</td>\n",
       "      <td>0</td>\n",
       "      <td>6</td>\n",
       "      <td>0</td>\n",
       "      <td>1</td>\n",
       "      <td>0.24</td>\n",
       "      <td>0.2879</td>\n",
       "      <td>0.81</td>\n",
       "      <td>0.0</td>\n",
       "      <td>3</td>\n",
       "      <td>13</td>\n",
       "      <td>16</td>\n",
       "    </tr>\n",
       "    <tr>\n",
       "      <th>1</th>\n",
       "      <td>2</td>\n",
       "      <td>2011-01-01</td>\n",
       "      <td>1</td>\n",
       "      <td>0</td>\n",
       "      <td>1</td>\n",
       "      <td>1</td>\n",
       "      <td>0</td>\n",
       "      <td>6</td>\n",
       "      <td>0</td>\n",
       "      <td>1</td>\n",
       "      <td>0.22</td>\n",
       "      <td>0.2727</td>\n",
       "      <td>0.80</td>\n",
       "      <td>0.0</td>\n",
       "      <td>8</td>\n",
       "      <td>32</td>\n",
       "      <td>40</td>\n",
       "    </tr>\n",
       "    <tr>\n",
       "      <th>2</th>\n",
       "      <td>3</td>\n",
       "      <td>2011-01-01</td>\n",
       "      <td>1</td>\n",
       "      <td>0</td>\n",
       "      <td>1</td>\n",
       "      <td>2</td>\n",
       "      <td>0</td>\n",
       "      <td>6</td>\n",
       "      <td>0</td>\n",
       "      <td>1</td>\n",
       "      <td>0.22</td>\n",
       "      <td>0.2727</td>\n",
       "      <td>0.80</td>\n",
       "      <td>0.0</td>\n",
       "      <td>5</td>\n",
       "      <td>27</td>\n",
       "      <td>32</td>\n",
       "    </tr>\n",
       "    <tr>\n",
       "      <th>3</th>\n",
       "      <td>4</td>\n",
       "      <td>2011-01-01</td>\n",
       "      <td>1</td>\n",
       "      <td>0</td>\n",
       "      <td>1</td>\n",
       "      <td>3</td>\n",
       "      <td>0</td>\n",
       "      <td>6</td>\n",
       "      <td>0</td>\n",
       "      <td>1</td>\n",
       "      <td>0.24</td>\n",
       "      <td>0.2879</td>\n",
       "      <td>0.75</td>\n",
       "      <td>0.0</td>\n",
       "      <td>3</td>\n",
       "      <td>10</td>\n",
       "      <td>13</td>\n",
       "    </tr>\n",
       "    <tr>\n",
       "      <th>4</th>\n",
       "      <td>5</td>\n",
       "      <td>2011-01-01</td>\n",
       "      <td>1</td>\n",
       "      <td>0</td>\n",
       "      <td>1</td>\n",
       "      <td>4</td>\n",
       "      <td>0</td>\n",
       "      <td>6</td>\n",
       "      <td>0</td>\n",
       "      <td>1</td>\n",
       "      <td>0.24</td>\n",
       "      <td>0.2879</td>\n",
       "      <td>0.75</td>\n",
       "      <td>0.0</td>\n",
       "      <td>0</td>\n",
       "      <td>1</td>\n",
       "      <td>1</td>\n",
       "    </tr>\n",
       "  </tbody>\n",
       "</table>\n",
       "</div>"
      ],
      "text/plain": [
       "   instant      dteday  season  yr  mnth  hr  holiday  weekday  workingday  \\\n",
       "0        1  2011-01-01       1   0     1   0        0        6           0   \n",
       "1        2  2011-01-01       1   0     1   1        0        6           0   \n",
       "2        3  2011-01-01       1   0     1   2        0        6           0   \n",
       "3        4  2011-01-01       1   0     1   3        0        6           0   \n",
       "4        5  2011-01-01       1   0     1   4        0        6           0   \n",
       "\n",
       "   weathersit  temp   atemp   hum  windspeed  casual  registered  cnt  \n",
       "0           1  0.24  0.2879  0.81        0.0       3          13   16  \n",
       "1           1  0.22  0.2727  0.80        0.0       8          32   40  \n",
       "2           1  0.22  0.2727  0.80        0.0       5          27   32  \n",
       "3           1  0.24  0.2879  0.75        0.0       3          10   13  \n",
       "4           1  0.24  0.2879  0.75        0.0       0           1    1  "
      ]
     },
     "execution_count": 3,
     "metadata": {},
     "output_type": "execute_result"
    }
   ],
   "source": [
    "data_path = 'bike-sharing-dataset/hour.csv'\n",
    "data = pd.read_csv(data_path)\n",
    "\n",
    "# 对于类型变量season，weathesit，mnth，hr，weekday可以用one-hot编码\n",
    "# seanson就会变成season_1，season_2, season_3, season_4\n",
    "dummy_fields = ['season','mnth','hr','weekday','weathersit']\n",
    "data = pd.get_dummies(data, columns=dummy_fields)\n",
    "no_use = ['instant','dteday','atemp','workingday']\n",
    "bikes = data.drop(no_use,axis=1)\n",
    "bikes.head()"
   ]
  },
  {
   "cell_type": "code",
   "execution_count": 5,
   "metadata": {},
   "outputs": [],
   "source": [
    "# 对于数值型变量的归一化\n",
    "quants = ['cnt','temp','hum','windspeed']\n",
    "scaled_feature = {} #将均值和方差存储起来，用于之后的测试数据的预测值与真实值的对比\n",
    "for i in quants:\n",
    "    mean, std = bikes[i].mean(), bikes[i].std()\n",
    "    scaled_feature[i] = [mean, std]\n",
    "    bikes.loc[:,i] = (bikes[i] - mean)/std\n",
    "\n",
    "# 划分数据集\n",
    "test_data = bikes[-21*24:]\n",
    "train_data = bikes[:-21*24]\n",
    "\n",
    "targets = ['cnt','casual','registered']\n",
    "train_feature, train_target = train_data.drop(targets,axis=1), train_data[targets]\n",
    "test_feature, test_target = test_data.drop(targets,axis=1), test_data[targets]\n",
    "\n",
    "X = train_feature.values\n",
    "Y = train_target['cnt'].values # cnt代表用户数，即使用量\n",
    "Y = Y.astype(float)\n",
    "Y = Y.reshape([len(Y),1])"
   ]
  },
  {
   "cell_type": "markdown",
   "metadata": {},
   "source": [
    "## 定义神经网络\n",
    "1. `torch.nn.Sequential`可以将一系列运算模块按顺序搭建成一个多层的神经网络\n",
    "2. `torch.nn.Linear()`是从输入到输出的线型映射\n",
    "3. `torch.nn.Sigmoid()` logic function\n",
    "4. `torch.nn.MSELoss()`是计算均方误差的损失函数，是一个函数指针，赋给变量cost后还需要调用cost(x,y)\n",
    "5. `torch.optim.SGD()`SGD"
   ]
  },
  {
   "cell_type": "code",
   "execution_count": 8,
   "metadata": {},
   "outputs": [
    {
     "name": "stdout",
     "output_type": "stream",
     "text": [
      "100 step loss: 0.27889516949653625\n",
      "200 step loss: 0.23993229866027832\n",
      "300 step loss: 0.171216681599617\n",
      "400 step loss: 0.11047184467315674\n",
      "500 step loss: 0.08158671855926514\n",
      "600 step loss: 0.07113143801689148\n",
      "700 step loss: 0.0667930543422699\n",
      "800 step loss: 0.06436645984649658\n",
      "900 step loss: 0.06277201324701309\n",
      "1000 step loss: 0.06163715571165085\n",
      "1100 step loss: 0.060773227363824844\n",
      "1200 step loss: 0.060066286474466324\n",
      "1300 step loss: 0.059441111981868744\n",
      "1400 step loss: 0.058845579624176025\n",
      "1500 step loss: 0.05825112760066986\n",
      "1600 step loss: 0.057665083557367325\n",
      "1700 step loss: 0.057122718542814255\n",
      "1800 step loss: 0.056646525859832764\n",
      "1900 step loss: 0.05622846260666847\n",
      "2000 step loss: 0.05585019290447235\n"
     ]
    }
   ],
   "source": [
    "input_size = train_feature.shape[1]\n",
    "hidden_size = 10\n",
    "output_size = 1\n",
    "batch_size = 128\n",
    "\n",
    "nn = torch.nn.Sequential(\n",
    "        torch.nn.Linear(input_size, hidden_size),\n",
    "        torch.nn.Sigmoid(),\n",
    "        torch.nn.Linear(hidden_size,output_size),\n",
    ")\n",
    "cost = torch.nn.MSELoss()\n",
    "optimizer = torch.optim.SGD(nn.parameters(), lr=0.01)\n",
    "\n",
    "losses = []\n",
    "for i in range(2000):\n",
    "    batch_loss = []\n",
    "    for start in range(0, X.shape[0], batch_size ):\n",
    "        end = start+batch_size if start+batch_size<len(X) else len(X)\n",
    "        x = Variable(torch.FloatTensor(X[start:end]))\n",
    "        y = Variable(torch.FloatTensor(Y[start:end]))\n",
    "        y_hat = nn(x)\n",
    "        loss = cost(y_hat,y)\n",
    "        optimizer.zero_grad()\n",
    "        loss.backward()\n",
    "        optimizer.step()\n",
    "        batch_loss.append(loss.data.numpy())\n",
    "        \n",
    "    if (i+1)%100 == 0:\n",
    "        losses.append(np.mean(batch_loss))\n",
    "        print('{} step loss: {}'.format(i+1, np.mean(batch_loss)))\n",
    "        \n",
    "plt.plot(np.arange(len(losses))*100,losses,'o-')\n",
    "plt.xlabel('epoch')\n",
    "plt.ylabel('MSE')"
   ]
  },
  {
   "cell_type": "markdown",
   "metadata": {},
   "source": [
    "## 测试\n",
    "1. `fig,ax = plt.subplots()`返回一个包含figure和axes对象的元组"
   ]
  },
  {
   "cell_type": "code",
   "execution_count": 11,
   "metadata": {},
   "outputs": [
    {
     "data": {
      "image/png": "[encoded data removed]",
      "text/plain": [
       "<Figure size 432x288 with 1 Axes>"
      ]
     },
     "metadata": {
      "needs_background": "light"
     },
     "output_type": "display_data"
    }
   ],
   "source": [
    "# 测试\n",
    "real = test_target['cnt']\n",
    "real = real.values.reshape([len(real),1])\n",
    "real = real.astype(float)\n",
    "\n",
    "yy = Variable(torch.FloatTensor(real))\n",
    "xx = Variable(torch.FloatTensor(test_feature.values))\n",
    "\n",
    "yy_hat = nn(xx)\n",
    "yy_hat = yy_hat.data.numpy()\n",
    "# 将预测数据与真实数据画在一起比较\n",
    "fig, ax = plt.subplots()\n",
    "\n",
    "mean, std = scaled_feature['cnt']\n",
    "ax.plot(yy_hat*std+mean, label='prediction', linestyle = '--')\n",
    "ax.plot(yy*std+mean, label='real data', linestyle='-')\n",
    "ax.legend()\n",
    "ax.set_xlabel('Date')\n",
    "ax.set_ylabel('Counts')\n",
    "# 对横坐标坐标轴标注\n",
    "dates = pd.to_datetime(data.loc[test_data.index]['dteday'])\n",
    "dates = dates.apply(lambda d: d.strftime('%b %d'))\n",
    "ax.set_xticks(np.arange(len(dates))[12::24])\n",
    "_ = ax.set_xticklabels(dates[12::24], rotation =45)"
   ]
  },
  {
   "cell_type": "markdown",
   "metadata": {},
   "source": [
    "## CNN\n"
   ]
  },
  {
   "cell_type": "code",
   "execution_count": 1,
   "metadata": {},
   "outputs": [],
   "source": [
    "import torch\n",
    "import torch.nn as nn\n",
    "import torch.optim as optim\n",
    "import torch.nn.functional as F\n",
    "\n",
    "import torchvision.datasets as dsets\n",
    "import torchvision.transforms as transforms"
   ]
  },
  {
   "cell_type": "markdown",
   "metadata": {},
   "source": [
    "### 数据预处理\n",
    "**PyTorch 数据加载三套件：**\n",
    "当数据格式比较特殊，以及数据规模很大（内存无法同时加载所有数据）时，可以使用pytorch自带的数据加载器，`dataset`,`sampler`以及`data_loader`这三个对象组成的三套件。特别是当需要不同的处理器来并行加载数据时，pytorch数据加载器还可以自动地进行数据的分布式加载。\n",
    "> `dataset`用来装载数据集，`sampler`用来采样数据集，`data_loader`完成数据集的迭代和循环。"
   ]
  },
  {
   "cell_type": "code",
   "execution_count": 4,
   "metadata": {},
   "outputs": [],
   "source": [
    "# Hyperparameters\n",
    "img_size = 28\n",
    "num_classes = 10\n",
    "num_epochs = 20 \n",
    "batch_size = 64\n",
    "\n",
    "# 数据预处理\n",
    "# torchvision 自带MNIST，可以直接调用\n",
    "train_dataset = dsets.MNIST(root='./data', #存放路径\n",
    "                           train=True, # 提取训练集\n",
    "                           transform=transforms.ToTensor(), # 将图像转化为tensor\n",
    "                           download=True) # 找不到文件时自动下载\n",
    "test_dataset = dsets.MNIST(root='./data',train=False,transform = transforms.ToTensor())\n",
    "\n",
    "# 训练数据集的加载器，自动将数据分割成batch，顺序随机打乱\n",
    "train_loader = torch.utils.data.DataLoader(dataset=train_dataset,\n",
    "                                          batch_size = batch_size,\n",
    "                                          shuffle = True)\n",
    "# 测试数据集划分为validate和test数据\n",
    "# 创建test_dataset中所有数据的索引\n",
    "indices = range(len(test_dataset))\n",
    "indices_val = indices[:5000]\n",
    "indices_test = indices[5000:]\n",
    "\n",
    "# 定义采样器，可以从数据集中随机采样\n",
    "# 根据分好的下标，构造两个数据集的 SubsetRandomSampler 采样器，会对下标进行采样\n",
    "sampler_val = torch.utils.data.sampler.SubsetRandomSampler(indices_val)\n",
    "sampler_test = torch.utils.data.sampler.SubsetRandomSampler(indices_test)\n",
    "\n",
    "# 验证集数据加载器\n",
    "val_loader = torch.utils.data.DataLoader(dataset = test_dataset,\n",
    "                                        batch_size = batch_size,\n",
    "                                        sampler = sampler_val)\n",
    "# 测试集数据加载器\n",
    "test_loader = torch.utils.data.DataLoader(dataset = test_dataset,\n",
    "                                         batch_size = batch_size,\n",
    "                                         sampler = sampler_test)"
   ]
  },
  {
   "cell_type": "markdown",
   "metadata": {},
   "source": [
    "### 构建CNN\n",
    "1. 首先构造ConvNet类，是对nn.Module的继承\n",
    "2. 重写父类的`init`和`forward`函数\n",
    "3. 在ConvNet类中编写自定义的方法"
   ]
  },
  {
   "cell_type": "code",
   "execution_count": null,
   "metadata": {},
   "outputs": [],
   "source": [
    "# 卷积核厚度\n",
    "depth = [4,8]\n",
    "class ConvNet(nn.Module):\n",
    "    def __init__(self):\n",
    "        # 首先调用父类相应的构造函数\n",
    "        super(ConvNet, self).__init__()\n",
    "        # 其次构造ConvNet需要用到的各个神经模块\n",
    "        self.conv1 = nn.Conv2d(1,4,5,padding=2) #输入1，输出4，窗口5"
   ]
  }
 ],
 "metadata": {
  "kernelspec": {
   "display_name": "Python 3",
   "language": "python",
   "name": "python3"
  },
  "language_info": {
   "codemirror_mode": {
    "name": "ipython",
    "version": 3
   },
   "file_extension": ".py",
   "mimetype": "text/x-python",
   "name": "python",
   "nbconvert_exporter": "python",
   "pygments_lexer": "ipython3",
   "version": "3.7.3"
  }
 },
 "nbformat": 4,
 "nbformat_minor": 2
}
