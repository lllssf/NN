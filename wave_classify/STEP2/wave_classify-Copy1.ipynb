{
 "cells": [
  {
   "cell_type": "markdown",
   "metadata": {},
   "source": [
    "# 扰动信号分类\n",
    "\n",
    "## 构建一维CNN实现三类信号识别"
   ]
  },
  {
   "cell_type": "code",
   "execution_count": 2,
   "metadata": {},
   "outputs": [],
   "source": [
    "import numpy as np\n",
    "import matplotlib.pyplot as plt\n",
    "from sklearn.utils import shuffle\n",
    "\n",
    "import tensorflow as tf\n",
    "from tensorflow.keras.models import Model\n",
    "from tensorflow.keras.preprocessing.sequence import pad_sequences\n",
    "from tensorflow.keras.layers import Input, Activation, Conv1D, Add, Multiply, BatchNormalization, GlobalMaxPooling1D, Dropout\n",
    "from tensorflow.keras.optimizers import Adam\n",
    "from tensorflow.keras.callbacks import ModelCheckpoint, ReduceLROnPlateau"
   ]
  },
  {
   "cell_type": "code",
   "execution_count": 6,
   "metadata": {},
   "outputs": [],
   "source": [
    "# 加载数据集\n",
    "X_train, X_val, X_test = [], [], []\n",
    "Y_train, Y_val, Y_test = [], [], []\n",
    "with open('train_data.txt','r') as f:\n",
    "    for line in f:\n",
    "        temp = line.strip().split(',')\n",
    "        X_train.append([int(x) for x in temp])\n",
    "with open('val_data.txt','r') as f:\n",
    "    for line in f:\n",
    "        temp = line.strip().split(',')\n",
    "        X_val.append([int(x) for x in temp])\n",
    "with open('test_data.txt','r') as f:\n",
    "    for line in f:\n",
    "        temp = line.strip().split(',')\n",
    "        X_test.append([int(x) for x in temp])\n",
    "with open('train_label.txt','r') as f:\n",
    "    for line in f:\n",
    "        Y_train.append(int(line.strip()))\n",
    "with open('val_label.txt','r') as f:\n",
    "    for line in f:\n",
    "        Y_val.append(int(line.strip()))\n",
    "with open('test_label.txt','r') as f:\n",
    "    for line in f:\n",
    "        Y_test.append(int(line.strip()))\n",
    "X_train, X_val, X_test = np.array(X_train), np.array(X_val), np.array(X_test)\n",
    "Y_train, Y_val, Y_test = np.array(Y_train), np.array(Y_val), np.array(Y_test)"
   ]
  },
  {
   "cell_type": "code",
   "execution_count": 7,
   "metadata": {},
   "outputs": [],
   "source": [
    "# 升维\n",
    "X_train, X_val, X_test = np.expand_dims(X_train,axis = 1),np.expand_dims(X_val,axis = 1),np.expand_dims(X_test,axis = 1)\n",
    "Y_train, Y_val, Y_test = np.expand_dims(Y_train,axis = 1),np.expand_dims(Y_val,axis = 1),np.expand_dims(Y_test,axis = 1)"
   ]
  },
  {
   "cell_type": "code",
   "execution_count": 9,
   "metadata": {},
   "outputs": [
    {
     "data": {
      "text/plain": [
       "(4995, 1)"
      ]
     },
     "execution_count": 9,
     "metadata": {},
     "output_type": "execute_result"
    }
   ],
   "source": [
    "Y_train.shape"
   ]
  },
  {
   "cell_type": "code",
   "execution_count": 10,
   "metadata": {},
   "outputs": [],
   "source": [
    "batch_size = 32\n",
    "\n",
    "def batch_generator(x, y, batch_size=batch_size): \n",
    "    offset = 0\n",
    "    while True:\n",
    "        offset += batch_size\n",
    "        \n",
    "        if offset == batch_size or offset >= len(x):\n",
    "            x, y = shuffle(x, y)\n",
    "            offset = batch_size\n",
    "            \n",
    "        X_batch = x[offset - batch_size: offset]    \n",
    "        Y_batch = y[offset - batch_size: offset]\n",
    "        \n",
    "        yield (X_batch, Y_batch)"
   ]
  },
  {
   "cell_type": "code",
   "execution_count": 23,
   "metadata": {
    "scrolled": true
   },
   "outputs": [
    {
     "name": "stdout",
     "output_type": "stream",
     "text": [
      "Epoch 1/20\n",
      "78/78 [==============================] - 290s 4s/step - loss: 0.4510 - accuracy: 0.8448 - val_loss: 0.8864 - val_accuracy: 0.5826\n",
      "Epoch 2/20\n",
      "78/78 [==============================] - 11s 146ms/step - loss: 0.1668 - accuracy: 0.9547 - val_loss: 0.4433 - val_accuracy: 0.8214\n",
      "Epoch 3/20\n",
      "78/78 [==============================] - 11s 140ms/step - loss: 0.0929 - accuracy: 0.9786 - val_loss: 0.1462 - val_accuracy: 0.9464\n",
      "Epoch 4/20\n",
      "78/78 [==============================] - 11s 140ms/step - loss: 0.0780 - accuracy: 0.9804 - val_loss: 0.3628 - val_accuracy: 0.8862\n",
      "Epoch 5/20\n",
      "78/78 [==============================] - 11s 141ms/step - loss: 0.0641 - accuracy: 0.9846 - val_loss: 0.2557 - val_accuracy: 0.9196\n",
      "Epoch 6/20\n",
      "78/78 [==============================] - 11s 138ms/step - loss: 0.0399 - accuracy: 0.9914 - val_loss: 0.1423 - val_accuracy: 0.9487\n",
      "Epoch 7/20\n",
      "78/78 [==============================] - 11s 147ms/step - loss: 0.0315 - accuracy: 0.9916 - val_loss: 0.1941 - val_accuracy: 0.9263\n",
      "Epoch 8/20\n",
      "78/78 [==============================] - 12s 148ms/step - loss: 0.0440 - accuracy: 0.9876 - val_loss: 0.4241 - val_accuracy: 0.8594\n",
      "Epoch 9/20\n",
      "78/78 [==============================] - 11s 141ms/step - loss: 0.0236 - accuracy: 0.9950 - val_loss: 0.2277 - val_accuracy: 0.9241\n",
      "Epoch 10/20\n",
      "78/78 [==============================] - 11s 142ms/step - loss: 0.0173 - accuracy: 0.9968 - val_loss: 0.1197 - val_accuracy: 0.9643\n",
      "Epoch 11/20\n",
      "78/78 [==============================] - 11s 141ms/step - loss: 0.0141 - accuracy: 0.9970 - val_loss: 0.1000 - val_accuracy: 0.9732\n",
      "Epoch 12/20\n",
      "78/78 [==============================] - 11s 140ms/step - loss: 0.0126 - accuracy: 0.9976 - val_loss: 0.0950 - val_accuracy: 0.9732\n",
      "Epoch 13/20\n",
      "78/78 [==============================] - 11s 139ms/step - loss: 0.0094 - accuracy: 0.9992 - val_loss: 0.0933 - val_accuracy: 0.9688\n",
      "Epoch 14/20\n",
      "78/78 [==============================] - 11s 141ms/step - loss: 0.0088 - accuracy: 0.9992 - val_loss: 0.1201 - val_accuracy: 0.9598\n",
      "Epoch 15/20\n",
      "78/78 [==============================] - 11s 138ms/step - loss: 0.0086 - accuracy: 0.9984 - val_loss: 0.1088 - val_accuracy: 0.9576\n",
      "Epoch 16/20\n",
      "78/78 [==============================] - 11s 138ms/step - loss: 0.0075 - accuracy: 0.9992 - val_loss: 0.1063 - val_accuracy: 0.9621\n",
      "Epoch 17/20\n",
      "78/78 [==============================] - 11s 136ms/step - loss: 0.0081 - accuracy: 0.9992 - val_loss: 0.1096 - val_accuracy: 0.9643\n",
      "Epoch 18/20\n",
      "78/78 [==============================] - 11s 147ms/step - loss: 0.0060 - accuracy: 0.9998 - val_loss: 0.1083 - val_accuracy: 0.9643\n",
      "Epoch 19/20\n",
      "78/78 [==============================] - 11s 147ms/step - loss: 0.0059 - accuracy: 0.9992 - val_loss: 0.0978 - val_accuracy: 0.9732\n",
      "Epoch 20/20\n",
      "78/78 [==============================] - 11s 145ms/step - loss: 0.0065 - accuracy: 0.9990 - val_loss: 0.0808 - val_accuracy: 0.9754\n"
     ]
    }
   ],
   "source": [
    "epochs = 20\n",
    "num_blocks = 3\n",
    "filters = 64\n",
    "drop_rate = 0.5\n",
    "num_class = 3\n",
    "\n",
    "X = Input(shape=(1,3750), dtype='float32')\n",
    "\n",
    "def conv1d(inputs, filters, kernel_size, dilation_rate):\n",
    "    return Conv1D(filters=filters, kernel_size=kernel_size, strides=1, padding='causal', activation=None, dilation_rate=dilation_rate)(inputs)\n",
    "\n",
    "def batchnorm(inputs):\n",
    "    return BatchNormalization()(inputs)\n",
    "\n",
    "def activation(inputs, activation):\n",
    "    return Activation(activation)(inputs)\n",
    "\n",
    "def res_block(inputs, filters, kernel_size, dilation_rate):\n",
    "    hf = activation(batchnorm(conv1d(inputs, filters, kernel_size, dilation_rate)), 'relu')\n",
    "    hg = activation(batchnorm(conv1d(inputs, filters, kernel_size, dilation_rate)), 'sigmoid')\n",
    "    h0 = Multiply()([hf, hg])\n",
    "    \n",
    "    ha = activation(batchnorm(conv1d(h0, filters, 1, 1)), 'relu')\n",
    "    hs = activation(batchnorm(conv1d(h0, filters, 1, 1)), 'relu')\n",
    "    \n",
    "    return Add()([ha, inputs]), hs\n",
    "\n",
    "h0 = activation(batchnorm(conv1d(X, filters, 1, 1)), 'relu')\n",
    "shortcut = []\n",
    "for i in range(num_blocks):\n",
    "    for r in [1, 2, 4, 8, 16]:\n",
    "        h0, s = res_block(h0, filters, 7, r)\n",
    "        shortcut.append(s)\n",
    "\n",
    "h1 = activation(Add()(shortcut), 'relu')\n",
    "h1 = activation(batchnorm(conv1d(h1, filters, 1, 1)), 'relu') # batch_size, seq_len, filters\n",
    "h1 = batchnorm(conv1d(h1, num_class, 1, 1)) # batch_size, seq_len, num_class\n",
    "h1 = GlobalMaxPooling1D()(h1) # batch_size, num_class\n",
    "Y = activation(h1, 'softmax')\n",
    "\n",
    "optimizer = Adam(lr=0.01, clipnorm=5)\n",
    "model = Model(inputs=X, outputs=Y)\n",
    "model.compile(loss='sparse_categorical_crossentropy', optimizer=optimizer, metrics=['accuracy'])\n",
    "\n",
    "checkpointer = ModelCheckpoint(filepath='zhuhai.h5', verbose=0)\n",
    "lr_decay = ReduceLROnPlateau(monitor='loss', factor=0.2, patience=1, min_lr=0.000)\n",
    "\n",
    "history = model.fit_generator(\n",
    "    generator=batch_generator(X_train, Y_train), \n",
    "    steps_per_epoch=len(X_train) // batch_size,\n",
    "    epochs=epochs, \n",
    "    validation_data=batch_generator(X_val, Y_val), \n",
    "    validation_steps=len(X_val) // batch_size, \n",
    "    callbacks=[checkpointer, lr_decay])"
   ]
  },
  {
   "cell_type": "markdown",
   "metadata": {},
   "source": [
    "## 对比训练集与验证集的loss及准确率变化"
   ]
  },
  {
   "cell_type": "code",
   "execution_count": 24,
   "metadata": {},
   "outputs": [
    {
     "data": {
      "image/png": "[encoded data removed]",
      "text/plain": [
       "<Figure size 432x288 with 1 Axes>"
      ]
     },
     "metadata": {
      "needs_background": "light"
     },
     "output_type": "display_data"
    },
    {
     "data": {
      "image/png": "[encoded data removed]",
      "text/plain": [
       "<Figure size 432x288 with 1 Axes>"
      ]
     },
     "metadata": {
      "needs_background": "light"
     },
     "output_type": "display_data"
    }
   ],
   "source": [
    "# 损失函数变化曲线\n",
    "train_loss = history.history['loss']\n",
    "valid_loss = history.history['val_loss']\n",
    "plt.plot(train_loss, label='train')\n",
    "plt.plot(valid_loss, label='valid')\n",
    "plt.legend(loc='upper right')\n",
    "plt.xlabel('Epoch')\n",
    "plt.ylabel('Loss')\n",
    "plt.show()\n",
    "\n",
    "train_acc = history.history['accuracy']\n",
    "valid_acc = history.history['val_accuracy']\n",
    "plt.plot(train_acc, label='train')\n",
    "plt.plot(valid_acc, label='valid')\n",
    "plt.legend(loc='upper right')\n",
    "plt.xlabel('Epoch')\n",
    "plt.ylabel('Accuracy')\n",
    "plt.show()"
   ]
  },
  {
   "cell_type": "markdown",
   "metadata": {},
   "source": [
    "## 在测试集上验证"
   ]
  },
  {
   "cell_type": "code",
   "execution_count": 25,
   "metadata": {},
   "outputs": [
    {
     "name": "stdout",
     "output_type": "stream",
     "text": [
      "训练集loss为0.006494189302126567，准确率为0.9989984035491943\n",
      "验证集loss为0.08075833001307078，准确率为0.9754464030265808\n",
      "测试集loss为0.08794098829259415，准确率为0.9640718698501587\n"
     ]
    }
   ],
   "source": [
    "# 准确率\n",
    "print('训练集loss为{}，准确率为{}'.format(history.history['loss'][-1], history.history['accuracy'][-1]))\n",
    "print('验证集loss为{}，准确率为{}'.format(history.history['val_loss'][-1], history.history['val_accuracy'][-1]))\n",
    "score = model.evaluate(X_test, Y_test, verbose=0)\n",
    "print('测试集loss为{}，准确率为{}'.format(score[0], score[1]))"
   ]
  },
  {
   "cell_type": "code",
   "execution_count": 26,
   "metadata": {},
   "outputs": [
    {
     "name": "stdout",
     "output_type": "stream",
     "text": [
      "预测结果是foot，其标签为foot\n"
     ]
    }
   ],
   "source": [
    "# 对测试集任一信号进行分类\n",
    "num = 1\n",
    "prediction = model.predict(np.expand_dims(X_test[num],axis=0))\n",
    "prediction = np.argmax(prediction, axis=1)[0]\n",
    "label = ['foot','hand','stick']\n",
    "print('预测结果是{}，其标签为{}'.format(label[prediction], label[int(Y_test[num][0])]))"
   ]
  },
  {
   "cell_type": "markdown",
   "metadata": {},
   "source": [
    "## 保存训练好的模型"
   ]
  },
  {
   "cell_type": "code",
   "execution_count": 27,
   "metadata": {},
   "outputs": [],
   "source": [
    "# 保存模型\n",
    "model.save('DVS2000.h5')\n",
    "model.save_weights('DVS2000_weights.h5')"
   ]
  },
  {
   "cell_type": "markdown",
   "metadata": {},
   "source": [
    "## 加载训练好的模型"
   ]
  },
  {
   "cell_type": "code",
   "execution_count": 6,
   "metadata": {},
   "outputs": [],
   "source": [
    "from tensorflow.keras.models import load_model"
   ]
  },
  {
   "cell_type": "code",
   "execution_count": 7,
   "metadata": {},
   "outputs": [
    {
     "name": "stderr",
     "output_type": "stream",
     "text": [
      "WARNING: Logging before flag parsing goes to stderr.\n",
      "W1210 08:20:22.705821 140666047768384 deprecation.py:323] From /usr/local/lib/python3.6/dist-packages/tensorflow_core/python/ops/math_grad.py:1251: add_dispatch_support.<locals>.wrapper (from tensorflow.python.ops.array_ops) is deprecated and will be removed in a future version.\n",
      "Instructions for updating:\n",
      "Use tf.where in 2.0, which has the same broadcast rule as np.where\n",
      "W1210 08:20:55.781458 140666047768384 deprecation.py:323] From /usr/local/lib/python3.6/dist-packages/tensorflow_core/python/keras/optimizer_v2/optimizer_v2.py:460: BaseResourceVariable.constraint (from tensorflow.python.ops.resource_variable_ops) is deprecated and will be removed in a future version.\n",
      "Instructions for updating:\n",
      "Apply a constraint manually following the optimizer update step.\n"
     ]
    }
   ],
   "source": [
    "model = load_model('DVS1210.h5')"
   ]
  },
  {
   "cell_type": "code",
   "execution_count": 8,
   "metadata": {},
   "outputs": [
    {
     "name": "stdout",
     "output_type": "stream",
     "text": [
      "预测结果是stick，其标签为hand\n"
     ]
    }
   ],
   "source": [
    "num = 34\n",
    "prediction = model.predict(np.expand_dims(X_test[num],axis=0))\n",
    "prediction = np.argmax(prediction, axis=1)[0]\n",
    "label = ['noraml','foot','hand','stick']\n",
    "print('预测结果是{}，其标签为{}'.format(label[prediction], label[int(Y_test[num][0])]))"
   ]
  },
  {
   "cell_type": "code",
   "execution_count": 10,
   "metadata": {},
   "outputs": [
    {
     "name": "stdout",
     "output_type": "stream",
     "text": [
      "测试集loss为2.307941883748716，准确率为0.2940940856933594\n"
     ]
    }
   ],
   "source": [
    "score = model.evaluate(X_train, Y_train, verbose=0)\n",
    "print('测试集loss为{}，准确率为{}'.format(score[0], score[1]))"
   ]
  },
  {
   "cell_type": "code",
   "execution_count": null,
   "metadata": {},
   "outputs": [],
   "source": []
  }
 ],
 "metadata": {
  "kernelspec": {
   "display_name": "Python 3",
   "language": "python",
   "name": "python3"
  },
  "language_info": {
   "codemirror_mode": {
    "name": "ipython",
    "version": 3
   },
   "file_extension": ".py",
   "mimetype": "text/x-python",
   "name": "python",
   "nbconvert_exporter": "python",
   "pygments_lexer": "ipython3",
   "version": "3.6.8"
  }
 },
 "nbformat": 4,
 "nbformat_minor": 2
}
