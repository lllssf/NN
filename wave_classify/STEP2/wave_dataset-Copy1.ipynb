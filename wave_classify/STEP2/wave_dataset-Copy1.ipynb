{
 "cells": [
  {
   "cell_type": "markdown",
   "metadata": {},
   "source": [
    "# 构造数据集\n",
    "## 相差处理\n",
    "处理各个初始文件，3900为一组，后一组减去前一组。\n",
    "首先明确各个文件名"
   ]
  },
  {
   "cell_type": "code",
   "execution_count": 1,
   "metadata": {},
   "outputs": [
    {
     "data": {
      "text/plain": [
       "['hand-data-2019-12-08-19-44-33.txt',\n",
       " 'hand-data-2019-12-08-19-58-45.txt',\n",
       " 'foot-data-2019-12-08-19-36-03.txt',\n",
       " 'stick-data-2019-12-08-19-47-49.txt',\n",
       " 'stick-data-2019-12-08-19-45-44.txt',\n",
       " 'foot-data-2019-12-08-20-02-28.txt',\n",
       " 'stick-data-2019-12-08-20-06-46.txt',\n",
       " 'hand-data-2019-12-08-19-57-31.txt',\n",
       " 'foot-data-2019-12-08-20-05-39.txt',\n",
       " 'foot-data-2019-12-08-19-37-11.txt',\n",
       " 'foot-data-2019-12-08-20-04-36.txt',\n",
       " 'stick-data-2019-12-08-20-08-47.txt',\n",
       " 'hand-data-2019-12-08-20-01-10.txt',\n",
       " 'stick-data-2019-12-08-20-07-45.txt',\n",
       " 'hand-data-2019-12-08-19-42-17.txt',\n",
       " 'hand-data-2019-12-08-19-43-25.txt',\n",
       " 'foot-data-2019-12-08-19-23-49.txt',\n",
       " 'stick-data-2019-12-08-19-48-56.txt',\n",
       " 'foot-data-2019-12-08-19-38-42.txt',\n",
       " 'foot-data-2019-12-08-20-03-31.txt',\n",
       " 'stick-data-2019-12-08-19-46-41.txt',\n",
       " 'hand-data-2019-12-08-19-41-17.txt',\n",
       " 'stick-data-2019-12-08-20-09-52.txt',\n",
       " 'hand-data-2019-12-08-20-00-07.txt']"
      ]
     },
     "execution_count": 1,
     "metadata": {},
     "output_type": "execute_result"
    }
   ],
   "source": [
    "import os\n",
    "import numpy as np\n",
    "import matplotlib.pyplot as plt\n",
    "\n",
    "files = os.listdir('data2000')\n",
    "files"
   ]
  },
  {
   "cell_type": "code",
   "execution_count": 2,
   "metadata": {},
   "outputs": [],
   "source": [
    "def loadData(data):\n",
    "    '''\n",
    "    相差法处理原始数据,得到有效数据\n",
    "    '''\n",
    "    data = np.array(data)\n",
    "    valid_data = []\n",
    "    interval = 3750\n",
    "    for i in range(0,len(data)-interval,interval):\n",
    "        temp = [x for x in map(abs, data[i+interval:i+interval*2]-data[i:i+interval])]\n",
    "        valid_data.append(temp)\n",
    "    print('共{}组数据，每组数据有{}个点'.format(len(valid_data),len(valid_data[0])))\n",
    "    return valid_data"
   ]
  },
  {
   "cell_type": "code",
   "execution_count": 21,
   "metadata": {},
   "outputs": [
    {
     "name": "stdout",
     "output_type": "stream",
     "text": [
      "foot-data-2019-12-08-19-36-03.txt is finished.\n",
      "foot-data-2019-12-08-20-02-28.txt is finished.\n",
      "foot-data-2019-12-08-20-05-39.txt is finished.\n",
      "foot-data-2019-12-08-19-37-11.txt is finished.\n",
      "foot-data-2019-12-08-20-04-36.txt is finished.\n",
      "foot-data-2019-12-08-19-23-49.txt is finished.\n",
      "foot-data-2019-12-08-19-38-42.txt is finished.\n",
      "foot-data-2019-12-08-20-03-31.txt is finished.\n"
     ]
    }
   ],
   "source": [
    "# 处理脚踏数据\n",
    "data = []\n",
    "for i in files:\n",
    "    if 'foot' in i:\n",
    "        with open(os.path.join('data2000',i),'r') as f:\n",
    "            for line in f:\n",
    "                data.append(int(line.strip()))\n",
    "            print('{} is finished.'.format(i))"
   ]
  },
  {
   "cell_type": "code",
   "execution_count": 36,
   "metadata": {},
   "outputs": [
    {
     "name": "stdout",
     "output_type": "stream",
     "text": [
      "共1999组数据，每组数据有3750个点\n"
     ]
    }
   ],
   "source": [
    "foot_data = loadData(data)    \n",
    "# 保存脚踏数据\n",
    "with open('foot_data.txt','w') as f:\n",
    "    for line in foot_data:\n",
    "        f.write(str(line)+'\\n')"
   ]
  },
  {
   "cell_type": "code",
   "execution_count": 42,
   "metadata": {},
   "outputs": [
    {
     "name": "stdout",
     "output_type": "stream",
     "text": [
      "hand-data-2019-12-08-19-44-33.txt is finished.\n",
      "hand-data-2019-12-08-19-58-45.txt is finished.\n",
      "hand-data-2019-12-08-19-57-31.txt is finished.\n",
      "hand-data-2019-12-08-20-01-10.txt is finished.\n",
      "hand-data-2019-12-08-19-42-17.txt is finished.\n",
      "hand-data-2019-12-08-19-43-25.txt is finished.\n",
      "hand-data-2019-12-08-19-41-17.txt is finished.\n",
      "hand-data-2019-12-08-20-00-07.txt is finished.\n",
      "共1999组数据，每组数据有3750个点\n"
     ]
    }
   ],
   "source": [
    "# 处理手触数据\n",
    "data = []\n",
    "for i in files:\n",
    "    if 'hand' in i:\n",
    "        with open(os.path.join('data2000',i),'r') as f:\n",
    "            for line in f:\n",
    "                data.append(int(line.strip()))\n",
    "            print('{} is finished.'.format(i))\n",
    "\n",
    "hand_data = loadData(data)\n",
    "# 保存手触数据\n",
    "with open('hand_data.txt','w') as f:\n",
    "    for line in hand_data:\n",
    "        f.write(str(line)+'\\n')"
   ]
  },
  {
   "cell_type": "code",
   "execution_count": 43,
   "metadata": {},
   "outputs": [
    {
     "name": "stdout",
     "output_type": "stream",
     "text": [
      "stick-data-2019-12-08-19-47-49.txt is finished.\n",
      "stick-data-2019-12-08-19-45-44.txt is finished.\n",
      "stick-data-2019-12-08-20-06-46.txt is finished.\n",
      "stick-data-2019-12-08-20-08-47.txt is finished.\n",
      "stick-data-2019-12-08-20-07-45.txt is finished.\n",
      "stick-data-2019-12-08-19-48-56.txt is finished.\n",
      "stick-data-2019-12-08-19-46-41.txt is finished.\n",
      "stick-data-2019-12-08-20-09-52.txt is finished.\n",
      "共1999组数据，每组数据有3750个点\n"
     ]
    }
   ],
   "source": [
    "# 处理棒击数据\n",
    "data = []\n",
    "for i in files:\n",
    "    if 'stick' in i:\n",
    "        with open(os.path.join('data2000',i),'r') as f:\n",
    "            for line in f:\n",
    "                data.append(int(line.strip()))\n",
    "            print('{} is finished.'.format(i))\n",
    "\n",
    "stick_data = loadData(data)\n",
    "# 保存手触数据\n",
    "with open('stick_data.txt','w') as f:\n",
    "    for line in stick_data:\n",
    "        f.write(str(line)+'\\n')"
   ]
  },
  {
   "cell_type": "code",
   "execution_count": 45,
   "metadata": {},
   "outputs": [
    {
     "data": {
      "image/png": "[encoded data removed]",
      "text/plain": [
       "<Figure size 864x576 with 3 Axes>"
      ]
     },
     "metadata": {
      "needs_background": "light"
     },
     "output_type": "display_data"
    }
   ],
   "source": [
    "plt.figure(figsize=(12,8))\n",
    "plt.subplot(221)\n",
    "plt.title('foot_data')\n",
    "plt.plot(foot_data[-1])\n",
    "plt.subplot(222)\n",
    "plt.title('hand_data')\n",
    "plt.plot(hand_data[-1])\n",
    "plt.subplot(223)\n",
    "plt.title('stick_data')\n",
    "plt.plot(stick_data[-1])\n",
    "# plt.subplot(224)\n",
    "# plt.title('normal_data')\n",
    "# plt.plot(normal_data[11])\n",
    "plt.show()"
   ]
  },
  {
   "cell_type": "markdown",
   "metadata": {},
   "source": [
    "## 划分数据集\n",
    "每类数据共499个，则训练数据417个，验证数据41个，测试数据41个。\\\n",
    "建立`train.txt`, `train_label.txt`, `val.txt`, `val_label.txt`, `test.txt`, `test_label.txt`。\n",
    "1. 依次取出四种数据，打乱内部顺序\n",
    "2. 取前417个放入`train_data`，接着41个放入`val_data`，最后41个放入`test_data`。\n",
    "3. 构造依次417个foot，hand，stick，normal的`train_label`，同样的还有`val_label`,`test_label`\n",
    "4. 利用`sklearn.utils.shuffle()`函数同步打乱data与其label并放入各自文件夹"
   ]
  },
  {
   "cell_type": "code",
   "execution_count": 3,
   "metadata": {},
   "outputs": [],
   "source": [
    "from sklearn.utils import shuffle"
   ]
  },
  {
   "cell_type": "code",
   "execution_count": 4,
   "metadata": {},
   "outputs": [],
   "source": [
    "def handle_data(name,data,train_data,val_data,test_data,train_label,val_label,test_label):\n",
    "    '''\n",
    "    拿出数据，打乱，存放\n",
    "    '''\n",
    "    data = shuffle(data)\n",
    "    for i in range(1665):\n",
    "        train_data.append(data[i])\n",
    "    for i in range(1665,1665+167):\n",
    "        val_data.append(data[i])\n",
    "    for i in range(1665+167,1999):\n",
    "        test_data.append(data[i])\n",
    "        \n",
    "    # 将label编码为整数，foot-1，hand-2,stick-3\n",
    "    if name == 'foot': name = 0\n",
    "    elif name == 'hand': name = 1\n",
    "    else: name = 2\n",
    "    for i in range(1665):\n",
    "        train_label.append(name)\n",
    "    for i in range(167):\n",
    "        val_label.append(name)\n",
    "        test_label.append(name)\n",
    "    return train_data,val_data,test_data,train_label,val_label,test_label"
   ]
  },
  {
   "cell_type": "code",
   "execution_count": 5,
   "metadata": {},
   "outputs": [
    {
     "name": "stdout",
     "output_type": "stream",
     "text": [
      "当前有1665条训练数据，167条验证数据，167条测试数据\n",
      "当前有1665个训练标签，167个验证标签，167个测试标签\n",
      "当前有3330条训练数据，334条验证数据，334条测试数据\n",
      "当前有3330个训练标签，334个验证标签，334个测试标签\n",
      "当前有4995条训练数据，501条验证数据，501条测试数据\n",
      "当前有4995个训练标签，501个验证标签，501个测试标签\n"
     ]
    }
   ],
   "source": [
    "file_name = ['foot','hand','stick']\n",
    "train_data,val_data,test_data,train_label,val_label,test_label = [],[],[],[],[],[]\n",
    "for name in file_name:\n",
    "    data = []\n",
    "    with open(name+'_data.txt','r') as f:\n",
    "        for line in f:\n",
    "            data.append(line.strip('[]\\n'))\n",
    "    handle_data(name,data,train_data,val_data,test_data,train_label,val_label,test_label)\n",
    "    print('当前有{}条训练数据，{}条验证数据，{}条测试数据'.format(len(train_data),len(val_data),len(test_data)))\n",
    "    print('当前有{}个训练标签，{}个验证标签，{}个测试标签'.format(len(train_label),len(val_label),len(test_label)))#"
   ]
  },
  {
   "cell_type": "code",
   "execution_count": 6,
   "metadata": {},
   "outputs": [],
   "source": [
    "# 成对打乱数据\n",
    "train_data, train_label = shuffle(train_data, train_label)\n",
    "val_data, val_label = shuffle(val_data, val_label)\n",
    "test_data, test_label = shuffle(test_data, test_label)\n",
    "# 写入文件\n",
    "with open('train_data.txt','w') as f:\n",
    "    for line in train_data:\n",
    "        f.write(line+'\\n')\n",
    "with open('val_data.txt','w') as f:\n",
    "    for line in val_data:\n",
    "        f.write(line+'\\n')\n",
    "with open('test_data.txt','w') as f:\n",
    "    for line in test_data:\n",
    "        f.write(line+'\\n')\n",
    "with open('train_label.txt','w') as f:\n",
    "    for line in train_label:\n",
    "        f.write(str(line)+'\\n')\n",
    "with open('val_label.txt','w') as f:\n",
    "    for line in val_label:\n",
    "        f.write(str(line)+'\\n')\n",
    "with open('test_label.txt','w') as f:\n",
    "    for line in test_label:\n",
    "        f.write(str(line)+'\\n')"
   ]
  },
  {
   "cell_type": "code",
   "execution_count": null,
   "metadata": {},
   "outputs": [],
   "source": []
  }
 ],
 "metadata": {
  "kernelspec": {
   "display_name": "Python 3",
   "language": "python",
   "name": "python3"
  },
  "language_info": {
   "codemirror_mode": {
    "name": "ipython",
    "version": 3
   },
   "file_extension": ".py",
   "mimetype": "text/x-python",
   "name": "python",
   "nbconvert_exporter": "python",
   "pygments_lexer": "ipython3",
   "version": "3.6.8"
  }
 },
 "nbformat": 4,
 "nbformat_minor": 2
}
