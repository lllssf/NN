{
 "cells": [
  {
   "cell_type": "markdown",
   "metadata": {},
   "source": [
    "# 一维CNN实现三类信号识别\n",
    "<!-- TOC -->\n",
    "\n",
    "- [一维CNN实现三类信号识别](#一维cnn实现三类信号识别)\n",
    "    - [基于联合采集数据集](#基于联合采集数据集)\n",
    "        - [一维信号分类结果](#一维信号分类结果)\n",
    "        - [二维信号分类结果](#二维信号分类结果)\n",
    "    - [基于混合数据集](#基于混合数据集)\n",
    "        - [一维混合信号分类结果](#一维混合信号分类结果)\n",
    "        - [二维混合信号分类结果](#二维混合信号分类结果)\n",
    "    - [基于剔除无效信号的混合数据集](#基于剔除无效信号的混合数据集)\n",
    "        - [一维有效信号分类结果](#一维有效信号分类结果)\n",
    "        - [二维有效信号分类结果](#二维有效信号分类结果)\n",
    "\n",
    "<!-- /TOC -->"
   ]
  },
  {
   "cell_type": "code",
   "execution_count": 1,
   "metadata": {},
   "outputs": [],
   "source": [
    "import numpy as np\n",
    "import matplotlib.pyplot as plt\n",
    "from sklearn.utils import shuffle\n",
    "\n",
    "from tensorflow import keras\n",
    "from tensorflow.keras.models import Model\n",
    "from tensorflow.keras.preprocessing.sequence import pad_sequences\n",
    "from tensorflow.keras.layers import Input, Activation, Conv1D, Add, Multiply, BatchNormalization, GlobalMaxPooling1D, Dropout\n",
    "from tensorflow.keras.optimizers import Adam\n",
    "from tensorflow.keras.callbacks import ModelCheckpoint, ReduceLROnPlateau"
   ]
  },
  {
   "cell_type": "markdown",
   "metadata": {},
   "source": [
    "## 基于联合采集数据集\n",
    "\n",
    "- 数据集来源：对前中后三个光纤同时进行脚踏、手触和棒击操作\n",
    "- 数据集制作（过程详见[wave_dataset]()）：\n",
    "  - 一维信号：有4995条训练数据，501条验证数据，501条测试数据\n",
    "  - 多组一维信号叠加的二维信号：有4869条训练数据，489条验证数据，489条测试数据"
   ]
  },
  {
   "cell_type": "code",
   "execution_count": 2,
   "metadata": {},
   "outputs": [],
   "source": [
    "# 加载数据集\n",
    "X_train, X_val, X_test = [], [], []\n",
    "Y_train, Y_val, Y_test = [], [], []\n",
    "with open('three/train_data.txt','r') as f:\n",
    "    for line in f:\n",
    "        temp = line.strip().split(',')\n",
    "        X_train.append([int(x) for x in temp])\n",
    "with open('three/val_data.txt','r') as f:\n",
    "    for line in f:\n",
    "        temp = line.strip().split(',')\n",
    "        X_val.append([int(x) for x in temp])\n",
    "with open('three/test_data.txt','r') as f:\n",
    "    for line in f:\n",
    "        temp = line.strip().split(',')\n",
    "        X_test.append([int(x) for x in temp])\n",
    "with open('three/train_label.txt','r') as f:\n",
    "    for line in f:\n",
    "        Y_train.append(line.strip())\n",
    "with open('three/val_label.txt','r') as f:\n",
    "    for line in f:\n",
    "        Y_val.append(line.strip())\n",
    "with open('three/test_label.txt','r') as f:\n",
    "    for line in f:\n",
    "        Y_test.append(line.strip())\n",
    "X_train, X_val, X_test = np.array(X_train), np.array(X_val), np.array(X_test)\n",
    "Y_train, Y_val, Y_test = np.array(Y_train), np.array(Y_val), np.array(Y_test)"
   ]
  },
  {
   "cell_type": "code",
   "execution_count": 3,
   "metadata": {},
   "outputs": [],
   "source": [
    "# 升维\n",
    "X_train, X_val, X_test = np.expand_dims(X_train,axis = 1),np.expand_dims(X_val,axis = 1),np.expand_dims(X_test,axis = 1)\n",
    "Y_train, Y_val, Y_test = np.expand_dims(Y_train,axis = 1),np.expand_dims(Y_val,axis = 1),np.expand_dims(Y_test,axis = 1)"
   ]
  },
  {
   "cell_type": "code",
   "execution_count": 4,
   "metadata": {},
   "outputs": [
    {
     "data": {
      "text/plain": [
       "(4995, 1, 50)"
      ]
     },
     "execution_count": 4,
     "metadata": {},
     "output_type": "execute_result"
    }
   ],
   "source": [
    "X_train.shape"
   ]
  },
  {
   "cell_type": "markdown",
   "metadata": {},
   "source": [
    "### 一维信号分类结果\n",
    "\n",
    "- 4995条训练数据，501条验证数据，501条测试数据\n",
    "- 训练集准确率为0.9453125, 测试集准确率为0.9061876535415649\n"
   ]
  },
  {
   "cell_type": "code",
   "execution_count": 5,
   "metadata": {},
   "outputs": [],
   "source": [
    "batch_size = 256\n",
    "\n",
    "def batch_generator(x, y, batch_size=batch_size): \n",
    "    offset = 0\n",
    "    while True:\n",
    "        offset += batch_size\n",
    "        \n",
    "        if offset == batch_size or offset >= len(x):\n",
    "            x, y = shuffle(x, y)\n",
    "            offset = batch_size\n",
    "            \n",
    "        X_batch = x[offset - batch_size: offset]    \n",
    "        Y_batch = y[offset - batch_size: offset]\n",
    "        \n",
    "        yield (X_batch, Y_batch)"
   ]
  },
  {
   "cell_type": "code",
   "execution_count": 15,
   "metadata": {
    "scrolled": true
   },
   "outputs": [
    {
     "name": "stdout",
     "output_type": "stream",
     "text": [
      "Epoch 1/30\n",
      "19/19 [==============================] - 257s 14s/step - loss: 0.6320 - accuracy: 0.7568 - val_loss: 9.4608 - val_accuracy: 0.3359\n",
      "Epoch 2/30\n",
      "19/19 [==============================] - 3s 177ms/step - loss: 0.4503 - accuracy: 0.8347 - val_loss: 2.1400 - val_accuracy: 0.4844\n",
      "Epoch 3/30\n",
      "19/19 [==============================] - 3s 178ms/step - loss: 0.3780 - accuracy: 0.8602 - val_loss: 0.6984 - val_accuracy: 0.7305\n",
      "Epoch 4/30\n",
      "19/19 [==============================] - 3s 178ms/step - loss: 0.3712 - accuracy: 0.8600 - val_loss: 1.0526 - val_accuracy: 0.7031\n",
      "Epoch 5/30\n",
      "19/19 [==============================] - 3s 172ms/step - loss: 0.3233 - accuracy: 0.8787 - val_loss: 0.4733 - val_accuracy: 0.8672\n",
      "Epoch 6/30\n",
      "19/19 [==============================] - 3s 176ms/step - loss: 0.3069 - accuracy: 0.8836 - val_loss: 0.6636 - val_accuracy: 0.8203\n",
      "Epoch 7/30\n",
      "19/19 [==============================] - 4s 187ms/step - loss: 0.2834 - accuracy: 0.8941 - val_loss: 0.8991 - val_accuracy: 0.7539\n",
      "Epoch 8/30\n",
      "19/19 [==============================] - 3s 173ms/step - loss: 0.2879 - accuracy: 0.8892 - val_loss: 0.3724 - val_accuracy: 0.8750\n",
      "Epoch 9/30\n",
      "19/19 [==============================] - 3s 180ms/step - loss: 0.2459 - accuracy: 0.9071 - val_loss: 0.3431 - val_accuracy: 0.8906\n",
      "Epoch 10/30\n",
      "19/19 [==============================] - 3s 180ms/step - loss: 0.2201 - accuracy: 0.9186 - val_loss: 0.3192 - val_accuracy: 0.8867\n",
      "Epoch 11/30\n",
      "19/19 [==============================] - 3s 178ms/step - loss: 0.2067 - accuracy: 0.9270 - val_loss: 0.2485 - val_accuracy: 0.9219\n",
      "Epoch 12/30\n",
      "19/19 [==============================] - 3s 176ms/step - loss: 0.1945 - accuracy: 0.9317 - val_loss: 0.3283 - val_accuracy: 0.8945\n",
      "Epoch 13/30\n",
      "19/19 [==============================] - 3s 177ms/step - loss: 0.1915 - accuracy: 0.9311 - val_loss: 0.3585 - val_accuracy: 0.8516\n",
      "Epoch 14/30\n",
      "19/19 [==============================] - 3s 173ms/step - loss: 0.1953 - accuracy: 0.9274 - val_loss: 0.3179 - val_accuracy: 0.8750\n",
      "Epoch 15/30\n",
      "19/19 [==============================] - 3s 171ms/step - loss: 0.1874 - accuracy: 0.9354 - val_loss: 0.2979 - val_accuracy: 0.8867\n",
      "Epoch 16/30\n",
      "19/19 [==============================] - 3s 176ms/step - loss: 0.1769 - accuracy: 0.9379 - val_loss: 0.3163 - val_accuracy: 0.8828\n",
      "Epoch 17/30\n",
      "19/19 [==============================] - 3s 179ms/step - loss: 0.1774 - accuracy: 0.9387 - val_loss: 0.2651 - val_accuracy: 0.9062\n",
      "Epoch 18/30\n",
      "19/19 [==============================] - 3s 177ms/step - loss: 0.1795 - accuracy: 0.9346 - val_loss: 0.2904 - val_accuracy: 0.8789\n",
      "Epoch 19/30\n",
      "19/19 [==============================] - 3s 182ms/step - loss: 0.1740 - accuracy: 0.9400 - val_loss: 0.2501 - val_accuracy: 0.9180\n",
      "Epoch 20/30\n",
      "19/19 [==============================] - 3s 179ms/step - loss: 0.1714 - accuracy: 0.9426 - val_loss: 0.2297 - val_accuracy: 0.9062\n",
      "Epoch 21/30\n",
      "19/19 [==============================] - 3s 172ms/step - loss: 0.1766 - accuracy: 0.9375 - val_loss: 0.2857 - val_accuracy: 0.8945\n",
      "Epoch 22/30\n",
      "19/19 [==============================] - 3s 174ms/step - loss: 0.1656 - accuracy: 0.9428 - val_loss: 0.2848 - val_accuracy: 0.9023\n",
      "Epoch 23/30\n",
      "19/19 [==============================] - 3s 176ms/step - loss: 0.1748 - accuracy: 0.9363 - val_loss: 0.2857 - val_accuracy: 0.8906\n",
      "Epoch 24/30\n",
      "19/19 [==============================] - 3s 178ms/step - loss: 0.1669 - accuracy: 0.9443 - val_loss: 0.3148 - val_accuracy: 0.8672\n",
      "Epoch 25/30\n",
      "19/19 [==============================] - 3s 169ms/step - loss: 0.1676 - accuracy: 0.9437 - val_loss: 0.2569 - val_accuracy: 0.8867\n",
      "Epoch 26/30\n",
      "19/19 [==============================] - 3s 181ms/step - loss: 0.1711 - accuracy: 0.9408 - val_loss: 0.2974 - val_accuracy: 0.8828\n",
      "Epoch 27/30\n",
      "19/19 [==============================] - 3s 173ms/step - loss: 0.1683 - accuracy: 0.9451 - val_loss: 0.3148 - val_accuracy: 0.8750\n",
      "Epoch 28/30\n",
      "19/19 [==============================] - 3s 170ms/step - loss: 0.1675 - accuracy: 0.9424 - val_loss: 0.2496 - val_accuracy: 0.8945\n",
      "Epoch 29/30\n",
      "19/19 [==============================] - 3s 169ms/step - loss: 0.1671 - accuracy: 0.9445 - val_loss: 0.2675 - val_accuracy: 0.9102\n",
      "Epoch 30/30\n",
      "19/19 [==============================] - 3s 174ms/step - loss: 0.1649 - accuracy: 0.9453 - val_loss: 0.2779 - val_accuracy: 0.8984\n"
     ]
    }
   ],
   "source": [
    "epochs = 30\n",
    "num_blocks = 3\n",
    "filters = 128\n",
    "drop_rate = 0.5\n",
    "num_class = 3\n",
    "\n",
    "X = Input(shape=(1,50), dtype='float32')\n",
    "\n",
    "def conv1d(inputs, filters, kernel_size, dilation_rate):\n",
    "    return Conv1D(filters=filters, kernel_size=kernel_size, strides=1, padding='causal', activation=None, dilation_rate=dilation_rate)(inputs)\n",
    "\n",
    "def batchnorm(inputs):\n",
    "    return BatchNormalization()(inputs)\n",
    "\n",
    "def activation(inputs, activation):\n",
    "    return Activation(activation)(inputs)\n",
    "\n",
    "def res_block(inputs, filters, kernel_size, dilation_rate):\n",
    "    hf = activation(batchnorm(conv1d(inputs, filters, kernel_size, dilation_rate)), 'relu')\n",
    "    hg = activation(batchnorm(conv1d(inputs, filters, kernel_size, dilation_rate)), 'sigmoid')\n",
    "    h0 = Multiply()([hf, hg])\n",
    "    \n",
    "    ha = activation(batchnorm(conv1d(h0, filters, 2, 1)), 'relu')\n",
    "    hs = activation(batchnorm(conv1d(h0, filters, 2, 1)), 'relu')\n",
    "    \n",
    "    return Add()([ha, inputs]), hs\n",
    "\n",
    "h0 = activation(batchnorm(conv1d(X, filters, 2, 1)), 'relu')\n",
    "shortcut = []\n",
    "for i in range(num_blocks):\n",
    "    for r in [1, 2, 4, 8, 16]:\n",
    "        h0, s = res_block(h0, filters, 7, r)\n",
    "        shortcut.append(s)\n",
    "\n",
    "h1 = activation(Add()(shortcut), 'relu')\n",
    "h1 = activation(batchnorm(conv1d(h1, filters, 2, 1)), 'relu') # batch_size, seq_len, filters\n",
    "h1 = batchnorm(conv1d(h1, num_class, 2, 1)) # batch_size, seq_len, num_class\n",
    "h1 = GlobalMaxPooling1D()(h1) # batch_size, num_class\n",
    "Y = activation(h1, 'softmax')\n",
    "\n",
    "optimizer = Adam(lr=0.01, clipnorm=5)\n",
    "model = Model(inputs=X, outputs=Y)\n",
    "model.compile(loss='sparse_categorical_crossentropy', optimizer=optimizer, metrics=['accuracy'])\n",
    "\n",
    "checkpointer = ModelCheckpoint(filepath='zhuhai.h5', verbose=0)\n",
    "lr_decay = ReduceLROnPlateau(monitor='loss', factor=0.2, patience=1, min_lr=0.000)\n",
    "\n",
    "history = model.fit_generator(\n",
    "    generator=batch_generator(X_train, Y_train), \n",
    "    steps_per_epoch=len(X_train) // batch_size,\n",
    "    epochs=epochs, \n",
    "    validation_data=batch_generator(X_val, Y_val), \n",
    "    validation_steps=len(X_val) // batch_size, \n",
    "    callbacks=[checkpointer, lr_decay])"
   ]
  },
  {
   "cell_type": "code",
   "execution_count": 16,
   "metadata": {},
   "outputs": [
    {
     "data": {
      "image/png": "[encoded data removed]",
      "text/plain": [
       "<Figure size 432x288 with 1 Axes>"
      ]
     },
     "metadata": {
      "needs_background": "light"
     },
     "output_type": "display_data"
    },
    {
     "data": {
      "image/png": "[encoded data removed]",
      "text/plain": [
       "<Figure size 432x288 with 1 Axes>"
      ]
     },
     "metadata": {
      "needs_background": "light"
     },
     "output_type": "display_data"
    }
   ],
   "source": [
    "# 损失函数变化曲线\n",
    "train_loss = history.history['loss']\n",
    "valid_loss = history.history['val_loss']\n",
    "plt.plot(train_loss, label='train')\n",
    "plt.plot(valid_loss, label='valid')\n",
    "plt.legend(loc='upper right')\n",
    "plt.xlabel('Epoch')\n",
    "plt.ylabel('Loss')\n",
    "plt.show()\n",
    "\n",
    "train_acc = history.history['accuracy']\n",
    "valid_acc = history.history['val_accuracy']\n",
    "plt.plot(train_acc, label='train')\n",
    "plt.plot(valid_acc, label='valid')\n",
    "plt.legend(loc='upper right')\n",
    "plt.xlabel('Epoch')\n",
    "plt.ylabel('Accuracy')\n",
    "plt.show()"
   ]
  },
  {
   "cell_type": "code",
   "execution_count": 17,
   "metadata": {},
   "outputs": [
    {
     "name": "stdout",
     "output_type": "stream",
     "text": [
      "训练集loss为0.16494275355025342，准确率为0.9453125\n",
      "验证集loss为0.2779066562652588，准确率为0.8984375\n",
      "测试集loss为0.2515614760106433，准确率为0.9061876535415649\n"
     ]
    }
   ],
   "source": [
    "# 准确率\n",
    "print('训练集loss为{}，准确率为{}'.format(history.history['loss'][-1], history.history['accuracy'][-1]))\n",
    "print('验证集loss为{}，准确率为{}'.format(history.history['val_loss'][-1], history.history['val_accuracy'][-1]))\n",
    "score = model.evaluate(X_test, Y_test, verbose=0)\n",
    "print('测试集loss为{}，准确率为{}'.format(score[0], score[1]))"
   ]
  },
  {
   "cell_type": "code",
   "execution_count": 18,
   "metadata": {},
   "outputs": [
    {
     "name": "stdout",
     "output_type": "stream",
     "text": [
      "预测结果是foot，其标签为foot\n"
     ]
    }
   ],
   "source": [
    "# 对测试集任一信号进行分类\n",
    "num = 34\n",
    "prediction = model.predict(np.expand_dims(X_test[num],axis=0))\n",
    "prediction = np.argmax(prediction, axis=1)[0]\n",
    "label = ['noraml','foot','hand','stick']\n",
    "print('预测结果是{}，其标签为{}'.format(label[prediction], label[int(Y_test[num][0])]))"
   ]
  },
  {
   "cell_type": "markdown",
   "metadata": {},
   "source": [
    "### 二维信号分类结果\n",
    "\n",
    "- 4869条训练数据，489条验证数据，489条测试数据\n",
    "- 训练集准确率为1.0, 测试集准确率为1.0"
   ]
  },
  {
   "cell_type": "code",
   "execution_count": 1,
   "metadata": {},
   "outputs": [],
   "source": [
    "import numpy as np\n",
    "import matplotlib.pyplot as plt\n",
    "from sklearn.utils import shuffle\n",
    "\n",
    "from tensorflow.keras.models import Model\n",
    "from tensorflow.keras.preprocessing.sequence import pad_sequences\n",
    "from tensorflow.keras.layers import Input, Activation, Conv1D,Conv2D, Add, Multiply, BatchNormalization, GlobalMaxPooling1D, GlobalMaxPooling2D,Dropout\n",
    "from tensorflow.keras.optimizers import Adam\n",
    "from tensorflow.keras.callbacks import ModelCheckpoint, ReduceLROnPlateau"
   ]
  },
  {
   "cell_type": "code",
   "execution_count": 2,
   "metadata": {},
   "outputs": [],
   "source": [
    "# 加载数据集\n",
    "X_train, X_val, X_test = [], [], []\n",
    "Y_train, Y_val, Y_test = [], [], []\n",
    "\n",
    "with open('three2D/train_data.txt','r') as f:\n",
    "    for line in f:\n",
    "        X_train.append(line.strip().split('\\t'))\n",
    "for i in range(len(X_train)):\n",
    "    for j in range(len(X_train[i])):\n",
    "        X_train[i][j] = [int(x) for x in X_train[i][j].strip('[]').split(',')]\n",
    "\n",
    "with open('three2D/val_data.txt','r') as f:\n",
    "    for line in f:\n",
    "        X_val.append(line.strip().split('\\t'))\n",
    "for i in range(len(X_val)):\n",
    "    for j in range(len(X_val[i])):\n",
    "        X_val[i][j] = [int(x) for x in X_val[i][j].strip('[]').split(',')]\n",
    "\n",
    "with open('three2D/test_data.txt','r') as f:\n",
    "    for line in f:\n",
    "        X_test.append(line.strip().split('\\t'))\n",
    "for i in range(len(X_test)):\n",
    "    for j in range(len(X_test[i])):\n",
    "        X_test[i][j] = [int(x) for x in X_test[i][j].strip('[]').split(',')]        \n",
    "\n",
    "with open('three2D/train_label.txt','r') as f:\n",
    "    for line in f:\n",
    "        Y_train.append(line.strip())\n",
    "with open('three2D/val_label.txt','r') as f:\n",
    "    for line in f:\n",
    "        Y_val.append(line.strip())\n",
    "with open('three2D/test_label.txt','r') as f:\n",
    "    for line in f:\n",
    "        Y_test.append(line.strip())\n",
    "X_train, X_val, X_test = np.array(X_train), np.array(X_val), np.array(X_test)\n",
    "Y_train, Y_val, Y_test = np.array(Y_train), np.array(Y_val), np.array(Y_test)"
   ]
  },
  {
   "cell_type": "code",
   "execution_count": 3,
   "metadata": {},
   "outputs": [
    {
     "data": {
      "text/plain": [
       "(4869, 50, 50)"
      ]
     },
     "execution_count": 3,
     "metadata": {},
     "output_type": "execute_result"
    }
   ],
   "source": [
    "X_train.shape"
   ]
  },
  {
   "cell_type": "code",
   "execution_count": 4,
   "metadata": {},
   "outputs": [],
   "source": [
    "batch_size = 64\n",
    "\n",
    "def batch_generator(x, y, batch_size=batch_size): \n",
    "    offset = 0\n",
    "    while True:\n",
    "        offset += batch_size\n",
    "        \n",
    "        if offset == batch_size or offset >= len(x):\n",
    "            x, y = shuffle(x, y)\n",
    "            offset = batch_size\n",
    "            \n",
    "        X_batch = x[offset - batch_size: offset]    \n",
    "        Y_batch = y[offset - batch_size: offset]\n",
    "        \n",
    "        yield (X_batch, Y_batch)"
   ]
  },
  {
   "cell_type": "code",
   "execution_count": 5,
   "metadata": {
    "scrolled": true
   },
   "outputs": [
    {
     "name": "stdout",
     "output_type": "stream",
     "text": [
      "Epoch 1/20\n"
     ]
    },
    {
     "name": "stderr",
     "output_type": "stream",
     "text": [
      "WARNING: Logging before flag parsing goes to stderr.\n",
      "W1225 03:16:51.223271 139819754923840 deprecation.py:323] From /usr/local/lib/python3.6/dist-packages/tensorflow_core/python/ops/math_grad.py:1251: add_dispatch_support.<locals>.wrapper (from tensorflow.python.ops.array_ops) is deprecated and will be removed in a future version.\n",
      "Instructions for updating:\n",
      "Use tf.where in 2.0, which has the same broadcast rule as np.where\n",
      "W1225 03:17:21.986194 139819754923840 deprecation.py:323] From /usr/local/lib/python3.6/dist-packages/tensorflow_core/python/keras/optimizer_v2/optimizer_v2.py:460: BaseResourceVariable.constraint (from tensorflow.python.ops.resource_variable_ops) is deprecated and will be removed in a future version.\n",
      "Instructions for updating:\n",
      "Apply a constraint manually following the optimizer update step.\n"
     ]
    },
    {
     "name": "stdout",
     "output_type": "stream",
     "text": [
      "76/76 [==============================] - 81s 1s/step - loss: 0.3746 - accuracy: 0.8604 - val_loss: 2.9455 - val_accuracy: 0.3549\n",
      "Epoch 2/20\n",
      "76/76 [==============================] - 11s 141ms/step - loss: 0.0481 - accuracy: 0.9901 - val_loss: 1.1298 - val_accuracy: 0.8080\n",
      "Epoch 3/20\n",
      "76/76 [==============================] - 10s 138ms/step - loss: 0.0454 - accuracy: 0.9907 - val_loss: 1.1112 - val_accuracy: 0.7009\n",
      "Epoch 4/20\n",
      "76/76 [==============================] - 11s 139ms/step - loss: 0.0074 - accuracy: 0.9994 - val_loss: 0.0270 - val_accuracy: 0.9911\n",
      "Epoch 5/20\n",
      "76/76 [==============================] - 11s 138ms/step - loss: 0.0226 - accuracy: 0.9940 - val_loss: 1.8435 - val_accuracy: 0.7143\n",
      "Epoch 6/20\n",
      "76/76 [==============================] - 10s 138ms/step - loss: 0.0069 - accuracy: 0.9994 - val_loss: 0.0052 - val_accuracy: 1.0000\n",
      "Epoch 7/20\n",
      "76/76 [==============================] - 10s 137ms/step - loss: 0.0035 - accuracy: 0.9996 - val_loss: 0.0227 - val_accuracy: 1.0000\n",
      "Epoch 8/20\n",
      "76/76 [==============================] - 10s 137ms/step - loss: 0.0031 - accuracy: 0.9996 - val_loss: 0.0590 - val_accuracy: 0.9821\n",
      "Epoch 9/20\n",
      "76/76 [==============================] - 10s 136ms/step - loss: 0.0020 - accuracy: 1.0000 - val_loss: 0.0895 - val_accuracy: 0.9732\n",
      "Epoch 10/20\n",
      "76/76 [==============================] - 10s 136ms/step - loss: 0.0013 - accuracy: 1.0000 - val_loss: 0.1085 - val_accuracy: 0.9665\n",
      "Epoch 11/20\n",
      "76/76 [==============================] - 10s 137ms/step - loss: 0.0010 - accuracy: 1.0000 - val_loss: 0.1033 - val_accuracy: 0.9621\n",
      "Epoch 12/20\n",
      "76/76 [==============================] - 10s 135ms/step - loss: 0.0012 - accuracy: 1.0000 - val_loss: 0.1144 - val_accuracy: 0.9420\n",
      "Epoch 13/20\n",
      "76/76 [==============================] - 10s 136ms/step - loss: 0.0011 - accuracy: 1.0000 - val_loss: 0.1236 - val_accuracy: 0.9330\n",
      "Epoch 14/20\n",
      "76/76 [==============================] - 10s 137ms/step - loss: 8.4439e-04 - accuracy: 1.0000 - val_loss: 0.1144 - val_accuracy: 0.9487\n",
      "Epoch 15/20\n",
      "76/76 [==============================] - 10s 136ms/step - loss: 0.0015 - accuracy: 0.9996 - val_loss: 0.1356 - val_accuracy: 0.9487\n",
      "Epoch 16/20\n",
      "76/76 [==============================] - 10s 137ms/step - loss: 0.0011 - accuracy: 1.0000 - val_loss: 0.1222 - val_accuracy: 0.9598\n",
      "Epoch 17/20\n",
      "76/76 [==============================] - 10s 138ms/step - loss: 8.1200e-04 - accuracy: 1.0000 - val_loss: 0.1176 - val_accuracy: 0.9576\n",
      "Epoch 18/20\n",
      "76/76 [==============================] - 10s 136ms/step - loss: 8.9525e-04 - accuracy: 1.0000 - val_loss: 0.1265 - val_accuracy: 0.9509\n",
      "Epoch 19/20\n",
      "76/76 [==============================] - 10s 135ms/step - loss: 8.8543e-04 - accuracy: 1.0000 - val_loss: 0.1283 - val_accuracy: 0.9509\n",
      "Epoch 20/20\n",
      "76/76 [==============================] - 10s 137ms/step - loss: 8.9061e-04 - accuracy: 1.0000 - val_loss: 0.1290 - val_accuracy: 0.9576\n"
     ]
    }
   ],
   "source": [
    "epochs = 20\n",
    "num_blocks = 3\n",
    "filters = 64\n",
    "drop_rate = 0.8\n",
    "num_class = 3\n",
    "\n",
    "X = Input(shape=(50,50), dtype='float32')\n",
    "\n",
    "def conv1d(inputs, filters, kernel_size, dilation_rate):\n",
    "    return Conv1D(filters=filters, kernel_size=kernel_size, strides=1, padding='causal', activation=None, dilation_rate=dilation_rate)(inputs)\n",
    "\n",
    "def batchnorm(inputs):\n",
    "    return BatchNormalization()(inputs)\n",
    "\n",
    "def activation(inputs, activation):\n",
    "    return Activation(activation)(inputs)\n",
    "\n",
    "def res_block(inputs, filters, kernel_size, dilation_rate):\n",
    "    hf = activation(batchnorm(conv1d(inputs, filters, kernel_size, dilation_rate)), 'relu')\n",
    "    hg = activation(batchnorm(conv1d(inputs, filters, kernel_size, dilation_rate)), 'sigmoid')\n",
    "    h0 = Multiply()([hf, hg])\n",
    "    \n",
    "    ha = activation(batchnorm(conv1d(h0, filters, 3, 1)), 'relu')\n",
    "    hs = activation(batchnorm(conv1d(h0, filters, 3, 1)), 'relu')\n",
    "    \n",
    "    return Add()([ha, inputs]), hs\n",
    "\n",
    "h0 = activation(batchnorm(conv1d(X, filters, 3, 1)), 'relu')\n",
    "shortcut = []\n",
    "for i in range(num_blocks):\n",
    "    for r in [1, 2, 4, 8, 16]:\n",
    "        h0, s = res_block(h0, filters, 7, r)\n",
    "        shortcut.append(s)\n",
    "\n",
    "h1 = activation(Add()(shortcut), 'relu')\n",
    "h1 = activation(batchnorm(conv1d(h1, filters, 3, 1)), 'relu') # batch_size, seq_len, filters\n",
    "h1 = batchnorm(conv1d(h1, num_class, 3, 1)) # batch_size, seq_len, num_class\n",
    "h1 = GlobalMaxPooling1D()(h1) # batch_size, num_class\n",
    "Y = activation(h1, 'softmax')\n",
    "\n",
    "optimizer = Adam(lr=0.01, clipnorm=5)\n",
    "model = Model(inputs=X, outputs=Y)\n",
    "model.compile(loss='sparse_categorical_crossentropy', optimizer=optimizer, metrics=['accuracy'])\n",
    "\n",
    "checkpointer = ModelCheckpoint(filepath='zhuhai.h5', verbose=0)\n",
    "lr_decay = ReduceLROnPlateau(monitor='loss', factor=0.2, patience=1, min_lr=0.000)\n",
    "\n",
    "history = model.fit_generator(\n",
    "    generator=batch_generator(X_train, Y_train), \n",
    "    steps_per_epoch=len(X_train) // batch_size,\n",
    "    epochs=epochs, \n",
    "    validation_data=batch_generator(X_val, Y_val), \n",
    "    validation_steps=len(X_val) // batch_size, \n",
    "    callbacks=[checkpointer, lr_decay])"
   ]
  },
  {
   "cell_type": "code",
   "execution_count": 6,
   "metadata": {},
   "outputs": [
    {
     "data": {
      "image/png": "[encoded data removed]",
      "text/plain": [
       "<Figure size 432x288 with 1 Axes>"
      ]
     },
     "metadata": {
      "needs_background": "light"
     },
     "output_type": "display_data"
    },
    {
     "data": {
      "image/png": "[encoded data removed]",
      "text/plain": [
       "<Figure size 432x288 with 1 Axes>"
      ]
     },
     "metadata": {
      "needs_background": "light"
     },
     "output_type": "display_data"
    }
   ],
   "source": [
    "# 损失函数变化曲线\n",
    "train_loss = history.history['loss']\n",
    "valid_loss = history.history['val_loss']\n",
    "plt.plot(train_loss, label='train')\n",
    "plt.plot(valid_loss, label='valid')\n",
    "plt.legend(loc='upper right')\n",
    "plt.xlabel('Epoch')\n",
    "plt.ylabel('Loss')\n",
    "plt.show()\n",
    "\n",
    "train_acc = history.history['accuracy']\n",
    "valid_acc = history.history['val_accuracy']\n",
    "plt.plot(train_acc, label='train')\n",
    "plt.plot(valid_acc, label='valid')\n",
    "plt.legend(loc='upper right')\n",
    "plt.xlabel('Epoch')\n",
    "plt.ylabel('Accuracy')\n",
    "plt.show()"
   ]
  },
  {
   "cell_type": "code",
   "execution_count": 7,
   "metadata": {},
   "outputs": [
    {
     "name": "stdout",
     "output_type": "stream",
     "text": [
      "训练集loss为0.0008906088095452441，准确率为1.0\n",
      "验证集loss为0.12899631474699294，准确率为0.9575892686843872\n",
      "测试集loss为0.012940163985999389，准确率为1.0\n"
     ]
    }
   ],
   "source": [
    "# 准确率\n",
    "print('训练集loss为{}，准确率为{}'.format(history.history['loss'][-1], history.history['accuracy'][-1]))\n",
    "print('验证集loss为{}，准确率为{}'.format(history.history['val_loss'][-1], history.history['val_accuracy'][-1]))\n",
    "score = model.evaluate(X_test, Y_test, verbose=0)\n",
    "print('测试集loss为{}，准确率为{}'.format(score[0], score[1]))"
   ]
  },
  {
   "cell_type": "code",
   "execution_count": 8,
   "metadata": {},
   "outputs": [],
   "source": [
    "# 保存模型\n",
    "model.save('DVS2D.h5')\n",
    "model.save_weights('DVS2D_weights.h5')"
   ]
  },
  {
   "cell_type": "markdown",
   "metadata": {},
   "source": [
    "## 基于混合数据集\n",
    "\n",
    "- 数据来源：\n",
    "  - 对前中后三个光纤同时进行脚踏、手触和棒击操作\n",
    "  - 分别对前中后三个光纤进行脚踏、手触和棒击操作\n",
    "- 数据集制作（过程详见[wave_dataset]()）\n",
    "  - 一维信号：有19992条训练数据，1998条验证数据，1998条测试数据\n",
    "  - 二维信号：有19866条训练数据，1986条验证数据，1986条测试数据"
   ]
  },
  {
   "cell_type": "code",
   "execution_count": 1,
   "metadata": {},
   "outputs": [],
   "source": [
    "import numpy as np\n",
    "import matplotlib.pyplot as plt\n",
    "from sklearn.utils import shuffle\n",
    "\n",
    "from tensorflow.keras.models import Model\n",
    "from tensorflow.keras.preprocessing.sequence import pad_sequences\n",
    "from tensorflow.keras.layers import Input, Activation, Conv1D, Add, Multiply, BatchNormalization, GlobalMaxPooling1D,Dropout\n",
    "from tensorflow.keras.optimizers import Adam\n",
    "from tensorflow.keras.callbacks import ModelCheckpoint, ReduceLROnPlateau"
   ]
  },
  {
   "cell_type": "code",
   "execution_count": 2,
   "metadata": {},
   "outputs": [],
   "source": [
    "# 加载数据集\n",
    "X_train, X_val, X_test = [], [], []\n",
    "Y_train, Y_val, Y_test = [], [], []\n",
    "with open('mix/train_data.txt','r') as f:\n",
    "    for line in f:\n",
    "        temp = line.strip().split(',')\n",
    "        X_train.append([int(x) for x in temp])\n",
    "with open('mix/val_data.txt','r') as f:\n",
    "    for line in f:\n",
    "        temp = line.strip().split(',')\n",
    "        X_val.append([int(x) for x in temp])\n",
    "with open('mix/test_data.txt','r') as f:\n",
    "    for line in f:\n",
    "        temp = line.strip().split(',')\n",
    "        X_test.append([int(x) for x in temp])\n",
    "with open('mix/train_label.txt','r') as f:\n",
    "    for line in f:\n",
    "        Y_train.append(line.strip())\n",
    "with open('mix/val_label.txt','r') as f:\n",
    "    for line in f:\n",
    "        Y_val.append(line.strip())\n",
    "with open('mix/test_label.txt','r') as f:\n",
    "    for line in f:\n",
    "        Y_test.append(line.strip())\n",
    "X_train, X_val, X_test = np.array(X_train), np.array(X_val), np.array(X_test)\n",
    "Y_train, Y_val, Y_test = np.array(Y_train), np.array(Y_val), np.array(Y_test)"
   ]
  },
  {
   "cell_type": "code",
   "execution_count": 3,
   "metadata": {},
   "outputs": [
    {
     "data": {
      "text/plain": [
       "(19992, 1, 50)"
      ]
     },
     "execution_count": 3,
     "metadata": {},
     "output_type": "execute_result"
    }
   ],
   "source": [
    "# 升维\n",
    "X_train, X_val, X_test = np.expand_dims(X_train,axis = 1),np.expand_dims(X_val,axis = 1),np.expand_dims(X_test,axis = 1)\n",
    "Y_train, Y_val, Y_test = np.expand_dims(Y_train,axis = 1),np.expand_dims(Y_val,axis = 1),np.expand_dims(Y_test,axis = 1)\n",
    "X_train.shape"
   ]
  },
  {
   "cell_type": "markdown",
   "metadata": {},
   "source": [
    "### 一维混合信号分类结果\n",
    "\n",
    "- 19992条训练数据，1998条验证数据，1998条测试数据\n",
    "- 训练集准确率为0.7682291865348816, 测试集准确率为0.7077077031135559"
   ]
  },
  {
   "cell_type": "code",
   "execution_count": 4,
   "metadata": {},
   "outputs": [
    {
     "name": "stdout",
     "output_type": "stream",
     "text": [
      "Epoch 1/30\n"
     ]
    },
    {
     "name": "stderr",
     "output_type": "stream",
     "text": [
      "WARNING: Logging before flag parsing goes to stderr.\n",
      "W1225 08:56:18.146674 140568273020736 deprecation.py:323] From /usr/local/lib/python3.6/dist-packages/tensorflow_core/python/ops/math_grad.py:1251: add_dispatch_support.<locals>.wrapper (from tensorflow.python.ops.array_ops) is deprecated and will be removed in a future version.\n",
      "Instructions for updating:\n",
      "Use tf.where in 2.0, which has the same broadcast rule as np.where\n",
      "W1225 08:56:51.523704 140568273020736 deprecation.py:323] From /usr/local/lib/python3.6/dist-packages/tensorflow_core/python/keras/optimizer_v2/optimizer_v2.py:460: BaseResourceVariable.constraint (from tensorflow.python.ops.resource_variable_ops) is deprecated and will be removed in a future version.\n",
      "Instructions for updating:\n",
      "Apply a constraint manually following the optimizer update step.\n"
     ]
    },
    {
     "name": "stdout",
     "output_type": "stream",
     "text": [
      "156/156 [==============================] - 95s 608ms/step - loss: 0.9858 - accuracy: 0.4984 - val_loss: 1.3400 - val_accuracy: 0.5151\n",
      "Epoch 2/30\n",
      "156/156 [==============================] - 22s 141ms/step - loss: 0.8921 - accuracy: 0.5714 - val_loss: 1.0788 - val_accuracy: 0.5354\n",
      "Epoch 3/30\n",
      "156/156 [==============================] - 22s 141ms/step - loss: 0.8430 - accuracy: 0.6084 - val_loss: 0.8700 - val_accuracy: 0.6062\n",
      "Epoch 4/30\n",
      "156/156 [==============================] - 22s 141ms/step - loss: 0.8052 - accuracy: 0.6326 - val_loss: 0.9961 - val_accuracy: 0.5828\n",
      "Epoch 5/30\n",
      "156/156 [==============================] - 22s 139ms/step - loss: 0.7828 - accuracy: 0.6477 - val_loss: 0.9226 - val_accuracy: 0.5979\n",
      "Epoch 6/30\n",
      "156/156 [==============================] - 22s 142ms/step - loss: 0.7673 - accuracy: 0.6546 - val_loss: 0.8869 - val_accuracy: 0.6151\n",
      "Epoch 7/30\n",
      "156/156 [==============================] - 22s 141ms/step - loss: 0.7475 - accuracy: 0.6666 - val_loss: 0.8303 - val_accuracy: 0.6214\n",
      "Epoch 8/30\n",
      "156/156 [==============================] - 22s 141ms/step - loss: 0.7293 - accuracy: 0.6760 - val_loss: 0.8369 - val_accuracy: 0.6505\n",
      "Epoch 9/30\n",
      "156/156 [==============================] - 22s 140ms/step - loss: 0.7246 - accuracy: 0.6792 - val_loss: 0.7916 - val_accuracy: 0.6516\n",
      "Epoch 10/30\n",
      "156/156 [==============================] - 22s 140ms/step - loss: 0.7070 - accuracy: 0.6880 - val_loss: 0.7982 - val_accuracy: 0.6495\n",
      "Epoch 11/30\n",
      "156/156 [==============================] - 22s 140ms/step - loss: 0.6917 - accuracy: 0.6947 - val_loss: 0.7996 - val_accuracy: 0.6536\n",
      "Epoch 12/30\n",
      "156/156 [==============================] - 22s 140ms/step - loss: 0.6849 - accuracy: 0.7002 - val_loss: 0.7531 - val_accuracy: 0.6583\n",
      "Epoch 13/30\n",
      "156/156 [==============================] - 22s 139ms/step - loss: 0.6668 - accuracy: 0.7084 - val_loss: 0.7886 - val_accuracy: 0.6552\n",
      "Epoch 14/30\n",
      "156/156 [==============================] - 22s 140ms/step - loss: 0.6598 - accuracy: 0.7097 - val_loss: 0.7525 - val_accuracy: 0.6823\n",
      "Epoch 15/30\n",
      "156/156 [==============================] - 22s 139ms/step - loss: 0.6470 - accuracy: 0.7172 - val_loss: 0.7841 - val_accuracy: 0.6641\n",
      "Epoch 16/30\n",
      "156/156 [==============================] - 22s 139ms/step - loss: 0.6334 - accuracy: 0.7243 - val_loss: 0.7660 - val_accuracy: 0.6448\n",
      "Epoch 17/30\n",
      "156/156 [==============================] - 22s 140ms/step - loss: 0.6235 - accuracy: 0.7320 - val_loss: 0.7823 - val_accuracy: 0.6531\n",
      "Epoch 18/30\n",
      "156/156 [==============================] - 22s 141ms/step - loss: 0.6144 - accuracy: 0.7350 - val_loss: 0.8238 - val_accuracy: 0.6443\n",
      "Epoch 19/30\n",
      "156/156 [==============================] - 22s 139ms/step - loss: 0.6081 - accuracy: 0.7351 - val_loss: 0.8141 - val_accuracy: 0.6516\n",
      "Epoch 20/30\n",
      "156/156 [==============================] - 22s 140ms/step - loss: 0.5963 - accuracy: 0.7404 - val_loss: 0.7715 - val_accuracy: 0.6589\n",
      "Epoch 21/30\n",
      "156/156 [==============================] - 22s 140ms/step - loss: 0.5746 - accuracy: 0.7520 - val_loss: 0.7498 - val_accuracy: 0.6865\n",
      "Epoch 22/30\n",
      "156/156 [==============================] - 22s 139ms/step - loss: 0.5726 - accuracy: 0.7528 - val_loss: 0.8559 - val_accuracy: 0.6365\n",
      "Epoch 23/30\n",
      "156/156 [==============================] - 22s 139ms/step - loss: 0.5576 - accuracy: 0.7584 - val_loss: 0.7587 - val_accuracy: 0.6927\n",
      "Epoch 24/30\n",
      "156/156 [==============================] - 22s 138ms/step - loss: 0.5481 - accuracy: 0.7645 - val_loss: 0.8270 - val_accuracy: 0.6516\n",
      "Epoch 25/30\n",
      "156/156 [==============================] - 22s 139ms/step - loss: 0.5331 - accuracy: 0.7694 - val_loss: 0.8408 - val_accuracy: 0.6656\n",
      "Epoch 26/30\n",
      "156/156 [==============================] - 22s 138ms/step - loss: 0.5318 - accuracy: 0.7716 - val_loss: 0.8250 - val_accuracy: 0.6531\n",
      "Epoch 27/30\n",
      "156/156 [==============================] - 22s 139ms/step - loss: 0.5134 - accuracy: 0.7814 - val_loss: 0.8157 - val_accuracy: 0.6573\n",
      "Epoch 28/30\n",
      "156/156 [==============================] - 22s 138ms/step - loss: 0.4998 - accuracy: 0.7870 - val_loss: 0.8439 - val_accuracy: 0.6542\n",
      "Epoch 29/30\n",
      "156/156 [==============================] - 22s 140ms/step - loss: 0.4912 - accuracy: 0.7894 - val_loss: 0.8393 - val_accuracy: 0.6724\n",
      "Epoch 30/30\n",
      "156/156 [==============================] - 22s 139ms/step - loss: 0.4870 - accuracy: 0.7910 - val_loss: 0.8597 - val_accuracy: 0.6724\n"
     ]
    }
   ],
   "source": [
    "batch_size = 128\n",
    "epochs = 30\n",
    "num_blocks = 3\n",
    "filters = 128\n",
    "drop_rate = 0.5\n",
    "num_class = 3\n",
    "\n",
    "def batch_generator(x, y, batch_size=batch_size): \n",
    "    offset = 0\n",
    "    while True:\n",
    "        offset += batch_size\n",
    "        \n",
    "        if offset == batch_size or offset >= len(x):\n",
    "            x, y = shuffle(x, y)\n",
    "            offset = batch_size\n",
    "            \n",
    "        X_batch = x[offset - batch_size: offset]    \n",
    "        Y_batch = y[offset - batch_size: offset]\n",
    "        \n",
    "        yield (X_batch, Y_batch)\n",
    "\n",
    "X = Input(shape=(1,50), dtype='float32')\n",
    "\n",
    "def conv1d(inputs, filters, kernel_size, dilation_rate):\n",
    "    return Conv1D(filters=filters, kernel_size=kernel_size, strides=1, padding='causal', activation=None, dilation_rate=dilation_rate)(inputs)\n",
    "\n",
    "def batchnorm(inputs):\n",
    "    return BatchNormalization()(inputs)\n",
    "\n",
    "def activation(inputs, activation):\n",
    "    return Activation(activation)(inputs)\n",
    "\n",
    "def res_block(inputs, filters, kernel_size, dilation_rate):\n",
    "    hf = activation(batchnorm(conv1d(inputs, filters, kernel_size, dilation_rate)), 'relu')\n",
    "    hg = activation(batchnorm(conv1d(inputs, filters, kernel_size, dilation_rate)), 'sigmoid')\n",
    "    h0 = Multiply()([hf, hg])\n",
    "    \n",
    "    ha = activation(batchnorm(conv1d(h0, filters, 1, 1)), 'relu')\n",
    "    hs = activation(batchnorm(conv1d(h0, filters, 1, 1)), 'relu')\n",
    "    \n",
    "    return Add()([ha, inputs]), hs\n",
    "\n",
    "h0 = activation(batchnorm(conv1d(X, filters,1, 1)), 'relu')\n",
    "shortcut = []\n",
    "for i in range(num_blocks):\n",
    "    for r in [1, 2, 4, 8, 16]:\n",
    "        h0, s = res_block(h0, filters, 7, r)\n",
    "        shortcut.append(s)\n",
    "\n",
    "h1 = activation(Add()(shortcut), 'relu')\n",
    "h1 = activation(batchnorm(conv1d(h1, filters, 1, 1)), 'relu') # batch_size, seq_len, filters\n",
    "h1 = batchnorm(conv1d(h1, num_class, 1, 1)) # batch_size, seq_len, num_class\n",
    "h1 = GlobalMaxPooling1D()(h1) # batch_size, num_class\n",
    "Y = activation(h1, 'softmax')\n",
    "\n",
    "optimizer = Adam(lr=0.01, clipnorm=5)\n",
    "model = Model(inputs=X, outputs=Y)\n",
    "model.compile(loss='sparse_categorical_crossentropy', optimizer=optimizer, metrics=['accuracy'])\n",
    "\n",
    "checkpointer = ModelCheckpoint(filepath='zhuhai.h5', verbose=0)\n",
    "lr_decay = ReduceLROnPlateau(monitor='loss', factor=0.2, patience=1, min_lr=0.000)\n",
    "\n",
    "history = model.fit_generator(\n",
    "    generator=batch_generator(X_train, Y_train), \n",
    "    steps_per_epoch=len(X_train) // batch_size,\n",
    "    epochs=epochs, \n",
    "    validation_data=batch_generator(X_val, Y_val), \n",
    "    validation_steps=len(X_val) // batch_size, \n",
    "    callbacks=[checkpointer, lr_decay])"
   ]
  },
  {
   "cell_type": "code",
   "execution_count": 5,
   "metadata": {},
   "outputs": [
    {
     "data": {
      "image/png": "[encoded data removed]",
      "text/plain": [
       "<Figure size 432x288 with 1 Axes>"
      ]
     },
     "metadata": {
      "needs_background": "light"
     },
     "output_type": "display_data"
    },
    {
     "data": {
      "image/png": "[encoded data removed]",
      "text/plain": [
       "<Figure size 432x288 with 1 Axes>"
      ]
     },
     "metadata": {
      "needs_background": "light"
     },
     "output_type": "display_data"
    },
    {
     "name": "stdout",
     "output_type": "stream",
     "text": [
      "训练集loss为0.44603905425621915，准确率为0.8120993375778198\n",
      "验证集loss为0.8690335239682879，准确率为0.6590401530265808\n",
      "测试集loss为0.8265927656515463，准确率为0.6766766905784607\n"
     ]
    }
   ],
   "source": [
    "# 损失函数变化曲线\n",
    "train_loss = history.history['loss']\n",
    "valid_loss = history.history['val_loss']\n",
    "plt.plot(train_loss, label='train')\n",
    "plt.plot(valid_loss, label='valid')\n",
    "plt.legend(loc='upper right')\n",
    "plt.xlabel('Epoch')\n",
    "plt.ylabel('Loss')\n",
    "plt.show()\n",
    "\n",
    "train_acc = history.history['accuracy']\n",
    "valid_acc = history.history['val_accuracy']\n",
    "plt.plot(train_acc, label='train')\n",
    "plt.plot(valid_acc, label='valid')\n",
    "plt.legend(loc='upper right')\n",
    "plt.xlabel('Epoch')\n",
    "plt.ylabel('Accuracy')\n",
    "plt.show()\n",
    "\n",
    "print('训练集loss为{}，准确率为{}'.format(history.history['loss'][-1], history.history['accuracy'][-1]))\n",
    "print('验证集loss为{}，准确率为{}'.format(history.history['val_loss'][-1], history.history['val_accuracy'][-1]))\n",
    "score = model.evaluate(X_test, Y_test, verbose=0)\n",
    "print('测试集loss为{}，准确率为{}'.format(score[0], score[1]))"
   ]
  },
  {
   "cell_type": "markdown",
   "metadata": {},
   "source": [
    "### 二维混合信号分类结果\n",
    "\n",
    "- 19866条训练数据，1986条验证数据，1986条测试数据\n",
    "- 训练集准确率为1.0, 测试集准确率为1.0"
   ]
  },
  {
   "cell_type": "code",
   "execution_count": 1,
   "metadata": {},
   "outputs": [],
   "source": [
    "import numpy as np\n",
    "import matplotlib.pyplot as plt\n",
    "from sklearn.utils import shuffle\n",
    "\n",
    "from tensorflow.keras.models import Model\n",
    "from tensorflow.keras.preprocessing.sequence import pad_sequences\n",
    "from tensorflow.keras.layers import Input, Activation, Conv1D, Add, Multiply, BatchNormalization, GlobalMaxPooling1D,Dropout\n",
    "from tensorflow.keras.optimizers import Adam\n",
    "from tensorflow.keras.callbacks import ModelCheckpoint, ReduceLROnPlateau"
   ]
  },
  {
   "cell_type": "code",
   "execution_count": 2,
   "metadata": {},
   "outputs": [],
   "source": [
    "# 加载数据集\n",
    "X_train, X_val, X_test = [], [], []\n",
    "Y_train, Y_val, Y_test = [], [], []\n",
    "\n",
    "with open('mix2D/train_data.txt','r') as f:\n",
    "    for line in f:\n",
    "        X_train.append(line.strip().split('\\t'))\n",
    "for i in range(len(X_train)):\n",
    "    for j in range(len(X_train[i])):\n",
    "        X_train[i][j] = [int(x) for x in X_train[i][j].strip('[]').split(',')]\n",
    "\n",
    "with open('mix2D/val_data.txt','r') as f:\n",
    "    for line in f:\n",
    "        X_val.append(line.strip().split('\\t'))\n",
    "for i in range(len(X_val)):\n",
    "    for j in range(len(X_val[i])):\n",
    "        X_val[i][j] = [int(x) for x in X_val[i][j].strip('[]').split(',')]\n",
    "\n",
    "with open('mix2D/test_data.txt','r') as f:\n",
    "    for line in f:\n",
    "        X_test.append(line.strip().split('\\t'))\n",
    "for i in range(len(X_test)):\n",
    "    for j in range(len(X_test[i])):\n",
    "        X_test[i][j] = [int(x) for x in X_test[i][j].strip('[]').split(',')]        \n",
    "\n",
    "with open('mix2D/train_label.txt','r') as f:\n",
    "    for line in f:\n",
    "        Y_train.append(line.strip())\n",
    "with open('mix2D/val_label.txt','r') as f:\n",
    "    for line in f:\n",
    "        Y_val.append(line.strip())\n",
    "with open('mix2D/test_label.txt','r') as f:\n",
    "    for line in f:\n",
    "        Y_test.append(line.strip())\n",
    "X_train, X_val, X_test = np.array(X_train), np.array(X_val), np.array(X_test)\n",
    "Y_train, Y_val, Y_test = np.array(Y_train), np.array(Y_val), np.array(Y_test)"
   ]
  },
  {
   "cell_type": "code",
   "execution_count": 3,
   "metadata": {},
   "outputs": [
    {
     "data": {
      "text/plain": [
       "(19866, 50, 50)"
      ]
     },
     "execution_count": 3,
     "metadata": {},
     "output_type": "execute_result"
    }
   ],
   "source": [
    "X_train.shape"
   ]
  },
  {
   "cell_type": "code",
   "execution_count": 4,
   "metadata": {},
   "outputs": [
    {
     "name": "stdout",
     "output_type": "stream",
     "text": [
      "Epoch 1/10\n"
     ]
    },
    {
     "name": "stderr",
     "output_type": "stream",
     "text": [
      "WARNING: Logging before flag parsing goes to stderr.\n",
      "W1226 09:06:28.068663 139623848634176 deprecation.py:323] From /usr/local/lib/python3.6/dist-packages/tensorflow_core/python/ops/math_grad.py:1251: add_dispatch_support.<locals>.wrapper (from tensorflow.python.ops.array_ops) is deprecated and will be removed in a future version.\n",
      "Instructions for updating:\n",
      "Use tf.where in 2.0, which has the same broadcast rule as np.where\n",
      "W1226 09:07:02.556975 139623848634176 deprecation.py:323] From /usr/local/lib/python3.6/dist-packages/tensorflow_core/python/keras/optimizer_v2/optimizer_v2.py:460: BaseResourceVariable.constraint (from tensorflow.python.ops.resource_variable_ops) is deprecated and will be removed in a future version.\n",
      "Instructions for updating:\n",
      "Apply a constraint manually following the optimizer update step.\n"
     ]
    },
    {
     "name": "stdout",
     "output_type": "stream",
     "text": [
      "155/155 [==============================] - 99s 638ms/step - loss: 0.6453 - accuracy: 0.7079 - val_loss: 1.3016 - val_accuracy: 0.7115\n",
      "Epoch 2/10\n",
      "155/155 [==============================] - 25s 158ms/step - loss: 0.0793 - accuracy: 0.9747 - val_loss: 0.3205 - val_accuracy: 0.9047\n",
      "Epoch 3/10\n",
      "155/155 [==============================] - 25s 158ms/step - loss: 0.0295 - accuracy: 0.9901 - val_loss: 0.0060 - val_accuracy: 0.9990\n",
      "Epoch 4/10\n",
      "155/155 [==============================] - 24s 157ms/step - loss: 0.0063 - accuracy: 0.9982 - val_loss: 0.0068 - val_accuracy: 0.9995\n",
      "Epoch 5/10\n",
      "155/155 [==============================] - 24s 157ms/step - loss: 0.0107 - accuracy: 0.9970 - val_loss: 0.0348 - val_accuracy: 0.9839\n",
      "Epoch 6/10\n",
      "155/155 [==============================] - 24s 156ms/step - loss: 0.0021 - accuracy: 0.9997 - val_loss: 8.4081e-04 - val_accuracy: 1.0000\n",
      "Epoch 7/10\n",
      "155/155 [==============================] - 24s 156ms/step - loss: 8.4173e-04 - accuracy: 0.9999 - val_loss: 5.5869e-04 - val_accuracy: 1.0000\n",
      "Epoch 8/10\n",
      "155/155 [==============================] - 24s 156ms/step - loss: 4.8340e-04 - accuracy: 1.0000 - val_loss: 3.5646e-04 - val_accuracy: 1.0000\n",
      "Epoch 9/10\n",
      "155/155 [==============================] - 24s 157ms/step - loss: 3.6629e-04 - accuracy: 1.0000 - val_loss: 2.7418e-04 - val_accuracy: 1.0000\n",
      "Epoch 10/10\n",
      "155/155 [==============================] - 24s 156ms/step - loss: 2.8638e-04 - accuracy: 1.0000 - val_loss: 1.8953e-04 - val_accuracy: 1.0000\n"
     ]
    }
   ],
   "source": [
    "batch_size = 128\n",
    "epochs = 10\n",
    "num_blocks = 3\n",
    "filters = 128\n",
    "drop_rate = 0.5\n",
    "num_class = 3\n",
    "\n",
    "def batch_generator(x, y, batch_size=batch_size): \n",
    "    offset = 0\n",
    "    while True:\n",
    "        offset += batch_size\n",
    "        \n",
    "        if offset == batch_size or offset >= len(x):\n",
    "            x, y = shuffle(x, y)\n",
    "            offset = batch_size\n",
    "            \n",
    "        X_batch = x[offset - batch_size: offset]    \n",
    "        Y_batch = y[offset - batch_size: offset]\n",
    "        \n",
    "        yield (X_batch, Y_batch)\n",
    "\n",
    "X = Input(shape=(50,50), dtype='float32')\n",
    "\n",
    "def conv1d(inputs, filters, kernel_size, dilation_rate):\n",
    "    return Conv1D(filters=filters, kernel_size=kernel_size, strides=1, padding='causal', activation=None, dilation_rate=dilation_rate)(inputs)\n",
    "\n",
    "def batchnorm(inputs):\n",
    "    return BatchNormalization()(inputs)\n",
    "\n",
    "def activation(inputs, activation):\n",
    "    return Activation(activation)(inputs)\n",
    "\n",
    "def res_block(inputs, filters, kernel_size, dilation_rate):\n",
    "    hf = activation(batchnorm(conv1d(inputs, filters, kernel_size, dilation_rate)), 'relu')\n",
    "    hg = activation(batchnorm(conv1d(inputs, filters, kernel_size, dilation_rate)), 'sigmoid')\n",
    "    h0 = Multiply()([hf, hg])\n",
    "    \n",
    "    ha = activation(batchnorm(conv1d(h0, filters, 1, 1)), 'relu')\n",
    "    hs = activation(batchnorm(conv1d(h0, filters, 1, 1)), 'relu')\n",
    "    \n",
    "    return Add()([ha, inputs]), hs\n",
    "\n",
    "h0 = activation(batchnorm(conv1d(X, filters, 1, 1)), 'relu')\n",
    "shortcut = []\n",
    "for i in range(num_blocks):\n",
    "    for r in [1, 2, 4, 8, 16]:\n",
    "        h0, s = res_block(h0, filters, 7, r)\n",
    "        shortcut.append(s)\n",
    "\n",
    "h1 = activation(Add()(shortcut), 'relu')\n",
    "h1 = activation(batchnorm(conv1d(h1, filters, 1, 1)), 'relu') # batch_size, seq_len, filters\n",
    "h1 = batchnorm(conv1d(h1, num_class, 1, 1)) # batch_size, seq_len, num_class\n",
    "h1 = GlobalMaxPooling1D()(h1) # batch_size, num_class\n",
    "Y = activation(h1, 'softmax')\n",
    "\n",
    "optimizer = Adam(lr=0.01, clipnorm=5)\n",
    "model = Model(inputs=X, outputs=Y)\n",
    "model.compile(loss='sparse_categorical_crossentropy', optimizer=optimizer, metrics=['accuracy'])\n",
    "\n",
    "checkpointer = ModelCheckpoint(filepath='zhuhai.h5', verbose=0)\n",
    "lr_decay = ReduceLROnPlateau(monitor='loss', factor=0.2, patience=1, min_lr=0.000)\n",
    "\n",
    "history = model.fit_generator(\n",
    "    generator=batch_generator(X_train, Y_train), \n",
    "    steps_per_epoch=len(X_train) // batch_size,\n",
    "    epochs=epochs, \n",
    "    validation_data=batch_generator(X_val, Y_val), \n",
    "    validation_steps=len(X_val) // batch_size, \n",
    "    callbacks=[checkpointer, lr_decay])"
   ]
  },
  {
   "cell_type": "code",
   "execution_count": 5,
   "metadata": {},
   "outputs": [
    {
     "data": {
      "image/png": "[encoded data removed]",
      "text/plain": [
       "<Figure size 432x288 with 1 Axes>"
      ]
     },
     "metadata": {
      "needs_background": "light"
     },
     "output_type": "display_data"
    },
    {
     "data": {
      "image/png": "[encoded data removed]",
      "text/plain": [
       "<Figure size 432x288 with 1 Axes>"
      ]
     },
     "metadata": {
      "needs_background": "light"
     },
     "output_type": "display_data"
    },
    {
     "name": "stdout",
     "output_type": "stream",
     "text": [
      "训练集loss为0.00028638489499327636，准确率为1.0\n",
      "验证集loss为0.00018953311227960513，准确率为1.0\n",
      "测试集loss为0.0002214296437855735，准确率为1.0\n"
     ]
    }
   ],
   "source": [
    "# 损失函数变化曲线\n",
    "train_loss = history.history['loss']\n",
    "valid_loss = history.history['val_loss']\n",
    "plt.plot(train_loss, label='train')\n",
    "plt.plot(valid_loss, label='valid')\n",
    "plt.legend(loc='upper right')\n",
    "plt.xlabel('Epoch')\n",
    "plt.ylabel('Loss')\n",
    "plt.show()\n",
    "\n",
    "train_acc = history.history['accuracy']\n",
    "valid_acc = history.history['val_accuracy']\n",
    "plt.plot(train_acc, label='train')\n",
    "plt.plot(valid_acc, label='valid')\n",
    "plt.legend(loc='upper right')\n",
    "plt.xlabel('Epoch')\n",
    "plt.ylabel('Accuracy')\n",
    "plt.show()\n",
    "\n",
    "print('训练集loss为{}，准确率为{}'.format(history.history['loss'][-1], history.history['accuracy'][-1]))\n",
    "print('验证集loss为{}，准确率为{}'.format(history.history['val_loss'][-1], history.history['val_accuracy'][-1]))\n",
    "score = model.evaluate(X_test, Y_test, verbose=0)\n",
    "print('测试集loss为{}，准确率为{}'.format(score[0], score[1]))"
   ]
  },
  {
   "cell_type": "code",
   "execution_count": 6,
   "metadata": {},
   "outputs": [],
   "source": [
    "# 保存模型\n",
    "model.save('DVS2D.h5')\n",
    "model.save_weights('DVS2D_weights.h5')"
   ]
  },
  {
   "cell_type": "markdown",
   "metadata": {},
   "source": [
    "## 基于剔除无效信号的混合数据集\n",
    "\n",
    "将峰值低于2000的数据剔除\n",
    "\n",
    "### 一维有效信号分类结果\n",
    "\n",
    "- 7329条训练数据，732条验证数据，732条测试数据\n",
    "- 训练集准确率为0.9128069281578064, 测试集准确率为0.7240437269210815"
   ]
  },
  {
   "cell_type": "code",
   "execution_count": 1,
   "metadata": {},
   "outputs": [],
   "source": [
    "import numpy as np\n",
    "import matplotlib.pyplot as plt\n",
    "from sklearn.utils import shuffle\n",
    "\n",
    "from tensorflow import keras\n",
    "from tensorflow.keras.models import Model\n",
    "from tensorflow.keras.preprocessing.sequence import pad_sequences\n",
    "from tensorflow.keras.layers import Input, Activation, Conv1D, Add, Multiply, BatchNormalization, GlobalMaxPooling1D, Dropout\n",
    "from tensorflow.keras.optimizers import Adam\n",
    "from tensorflow.keras.callbacks import ModelCheckpoint, ReduceLROnPlateau"
   ]
  },
  {
   "cell_type": "code",
   "execution_count": 2,
   "metadata": {},
   "outputs": [],
   "source": [
    "# 加载数据集\n",
    "X_train, X_val, X_test = [], [], []\n",
    "Y_train, Y_val, Y_test = [], [], []\n",
    "with open('valid/train_data.txt','r') as f:\n",
    "    for line in f:\n",
    "        temp = line.strip().split(',')\n",
    "        X_train.append([int(x) for x in temp])\n",
    "with open('valid/val_data.txt','r') as f:\n",
    "    for line in f:\n",
    "        temp = line.strip().split(',')\n",
    "        X_val.append([int(x) for x in temp])\n",
    "with open('valid/test_data.txt','r') as f:\n",
    "    for line in f:\n",
    "        temp = line.strip().split(',')\n",
    "        X_test.append([int(x) for x in temp])\n",
    "with open('valid/train_label.txt','r') as f:\n",
    "    for line in f:\n",
    "        Y_train.append(line.strip())\n",
    "with open('valid/val_label.txt','r') as f:\n",
    "    for line in f:\n",
    "        Y_val.append(line.strip())\n",
    "with open('valid/test_label.txt','r') as f:\n",
    "    for line in f:\n",
    "        Y_test.append(line.strip())\n",
    "X_train, X_val, X_test = np.array(X_train), np.array(X_val), np.array(X_test)\n",
    "Y_train, Y_val, Y_test = np.array(Y_train), np.array(Y_val), np.array(Y_test)"
   ]
  },
  {
   "cell_type": "code",
   "execution_count": 3,
   "metadata": {},
   "outputs": [],
   "source": [
    "# 升维\n",
    "X_train, X_val, X_test = np.expand_dims(X_train,axis = 1),np.expand_dims(X_val,axis = 1),np.expand_dims(X_test,axis = 1)\n",
    "Y_train, Y_val, Y_test = np.expand_dims(Y_train,axis = 1),np.expand_dims(Y_val,axis = 1),np.expand_dims(Y_test,axis = 1)"
   ]
  },
  {
   "cell_type": "code",
   "execution_count": 4,
   "metadata": {},
   "outputs": [
    {
     "data": {
      "text/plain": [
       "(7329, 1, 50)"
      ]
     },
     "execution_count": 4,
     "metadata": {},
     "output_type": "execute_result"
    }
   ],
   "source": [
    "X_train.shape"
   ]
  },
  {
   "cell_type": "code",
   "execution_count": 5,
   "metadata": {},
   "outputs": [
    {
     "name": "stdout",
     "output_type": "stream",
     "text": [
      "Epoch 1/30\n"
     ]
    },
    {
     "name": "stderr",
     "output_type": "stream",
     "text": [
      "WARNING: Logging before flag parsing goes to stderr.\n",
      "W1226 08:01:15.589410 140388107028288 deprecation.py:323] From /usr/local/lib/python3.6/dist-packages/tensorflow_core/python/ops/math_grad.py:1251: add_dispatch_support.<locals>.wrapper (from tensorflow.python.ops.array_ops) is deprecated and will be removed in a future version.\n",
      "Instructions for updating:\n",
      "Use tf.where in 2.0, which has the same broadcast rule as np.where\n",
      "W1226 08:01:48.218830 140388107028288 deprecation.py:323] From /usr/local/lib/python3.6/dist-packages/tensorflow_core/python/keras/optimizer_v2/optimizer_v2.py:460: BaseResourceVariable.constraint (from tensorflow.python.ops.resource_variable_ops) is deprecated and will be removed in a future version.\n",
      "Instructions for updating:\n",
      "Apply a constraint manually following the optimizer update step.\n"
     ]
    },
    {
     "name": "stdout",
     "output_type": "stream",
     "text": [
      "28/28 [==============================] - 81s 3s/step - loss: 0.9917 - accuracy: 0.5080 - val_loss: 10.3803 - val_accuracy: 0.3301\n",
      "Epoch 2/30\n",
      "28/28 [==============================] - 5s 170ms/step - loss: 0.8630 - accuracy: 0.5971 - val_loss: 2.2984 - val_accuracy: 0.4062\n",
      "Epoch 3/30\n",
      "28/28 [==============================] - 5s 175ms/step - loss: 0.8012 - accuracy: 0.6380 - val_loss: 1.7395 - val_accuracy: 0.5684\n",
      "Epoch 4/30\n",
      "28/28 [==============================] - 5s 170ms/step - loss: 0.7507 - accuracy: 0.6645 - val_loss: 1.2182 - val_accuracy: 0.5957\n",
      "Epoch 5/30\n",
      "28/28 [==============================] - 5s 179ms/step - loss: 0.7210 - accuracy: 0.6795 - val_loss: 1.2676 - val_accuracy: 0.5645\n",
      "Epoch 6/30\n",
      "28/28 [==============================] - 5s 179ms/step - loss: 0.6730 - accuracy: 0.7047 - val_loss: 0.9902 - val_accuracy: 0.6660\n",
      "Epoch 7/30\n",
      "28/28 [==============================] - 5s 181ms/step - loss: 0.6633 - accuracy: 0.7090 - val_loss: 1.5970 - val_accuracy: 0.5977\n",
      "Epoch 8/30\n",
      "28/28 [==============================] - 5s 177ms/step - loss: 0.6410 - accuracy: 0.7236 - val_loss: 0.9402 - val_accuracy: 0.7012\n",
      "Epoch 9/30\n",
      "28/28 [==============================] - 5s 181ms/step - loss: 0.6057 - accuracy: 0.7401 - val_loss: 1.0965 - val_accuracy: 0.6094\n",
      "Epoch 10/30\n",
      "28/28 [==============================] - 5s 178ms/step - loss: 0.6009 - accuracy: 0.7439 - val_loss: 0.9068 - val_accuracy: 0.6875\n",
      "Epoch 11/30\n",
      "28/28 [==============================] - 5s 174ms/step - loss: 0.5835 - accuracy: 0.7543 - val_loss: 1.2159 - val_accuracy: 0.6465\n",
      "Epoch 12/30\n",
      "28/28 [==============================] - 5s 171ms/step - loss: 0.5713 - accuracy: 0.7609 - val_loss: 0.8301 - val_accuracy: 0.7051\n",
      "Epoch 13/30\n",
      "28/28 [==============================] - 5s 164ms/step - loss: 0.5417 - accuracy: 0.7757 - val_loss: 0.8638 - val_accuracy: 0.7012\n",
      "Epoch 14/30\n",
      "28/28 [==============================] - 5s 166ms/step - loss: 0.5424 - accuracy: 0.7712 - val_loss: 0.7469 - val_accuracy: 0.7441\n",
      "Epoch 15/30\n",
      "28/28 [==============================] - 4s 160ms/step - loss: 0.4562 - accuracy: 0.8184 - val_loss: 0.6196 - val_accuracy: 0.7617\n",
      "Epoch 16/30\n",
      "28/28 [==============================] - 5s 169ms/step - loss: 0.4088 - accuracy: 0.8368 - val_loss: 0.6288 - val_accuracy: 0.7109\n",
      "Epoch 17/30\n",
      "28/28 [==============================] - 5s 180ms/step - loss: 0.3796 - accuracy: 0.8489 - val_loss: 0.5889 - val_accuracy: 0.7676\n",
      "Epoch 18/30\n",
      "28/28 [==============================] - 5s 174ms/step - loss: 0.3685 - accuracy: 0.8542 - val_loss: 0.6383 - val_accuracy: 0.7461\n",
      "Epoch 19/30\n",
      "28/28 [==============================] - 5s 170ms/step - loss: 0.3601 - accuracy: 0.8609 - val_loss: 0.6363 - val_accuracy: 0.7461\n",
      "Epoch 20/30\n",
      "28/28 [==============================] - 5s 172ms/step - loss: 0.3482 - accuracy: 0.8610 - val_loss: 0.5808 - val_accuracy: 0.7500\n",
      "Epoch 21/30\n",
      "28/28 [==============================] - 5s 169ms/step - loss: 0.3400 - accuracy: 0.8657 - val_loss: 0.6344 - val_accuracy: 0.7363\n",
      "Epoch 22/30\n",
      "28/28 [==============================] - 5s 178ms/step - loss: 0.3250 - accuracy: 0.8740 - val_loss: 0.6346 - val_accuracy: 0.7402\n",
      "Epoch 23/30\n",
      "28/28 [==============================] - 5s 171ms/step - loss: 0.3134 - accuracy: 0.8758 - val_loss: 0.6891 - val_accuracy: 0.7383\n",
      "Epoch 24/30\n",
      "28/28 [==============================] - 5s 165ms/step - loss: 0.3039 - accuracy: 0.8842 - val_loss: 0.6432 - val_accuracy: 0.7559\n",
      "Epoch 25/30\n",
      "28/28 [==============================] - 5s 165ms/step - loss: 0.2989 - accuracy: 0.8825 - val_loss: 0.6388 - val_accuracy: 0.7383\n",
      "Epoch 26/30\n",
      "28/28 [==============================] - 5s 168ms/step - loss: 0.2725 - accuracy: 0.8929 - val_loss: 0.6913 - val_accuracy: 0.7441\n",
      "Epoch 27/30\n",
      "28/28 [==============================] - 5s 166ms/step - loss: 0.2638 - accuracy: 0.8987 - val_loss: 0.6956 - val_accuracy: 0.7598\n",
      "Epoch 28/30\n",
      "28/28 [==============================] - 5s 164ms/step - loss: 0.2513 - accuracy: 0.9051 - val_loss: 0.7373 - val_accuracy: 0.7285\n",
      "Epoch 29/30\n",
      "28/28 [==============================] - 5s 164ms/step - loss: 0.2399 - accuracy: 0.9089 - val_loss: 0.7379 - val_accuracy: 0.7227\n",
      "Epoch 30/30\n",
      "28/28 [==============================] - 5s 165ms/step - loss: 0.2323 - accuracy: 0.9128 - val_loss: 0.7321 - val_accuracy: 0.7266\n"
     ]
    }
   ],
   "source": [
    "batch_size = 256\n",
    "epochs = 30\n",
    "num_blocks = 3\n",
    "filters = 128\n",
    "drop_rate = 0.5\n",
    "num_class = 3\n",
    "\n",
    "def batch_generator(x, y, batch_size=batch_size): \n",
    "    offset = 0\n",
    "    while True:\n",
    "        offset += batch_size\n",
    "        \n",
    "        if offset == batch_size or offset >= len(x):\n",
    "            x, y = shuffle(x, y)\n",
    "            offset = batch_size\n",
    "            \n",
    "        X_batch = x[offset - batch_size: offset]    \n",
    "        Y_batch = y[offset - batch_size: offset]\n",
    "        \n",
    "        yield (X_batch, Y_batch)\n",
    "\n",
    "X = Input(shape=(1,50), dtype='float32')\n",
    "\n",
    "def conv1d(inputs, filters, kernel_size, dilation_rate):\n",
    "    return Conv1D(filters=filters, kernel_size=kernel_size, strides=1, padding='causal', activation=None, dilation_rate=dilation_rate)(inputs)\n",
    "\n",
    "def batchnorm(inputs):\n",
    "    return BatchNormalization()(inputs)\n",
    "\n",
    "def activation(inputs, activation):\n",
    "    return Activation(activation)(inputs)\n",
    "\n",
    "def res_block(inputs, filters, kernel_size, dilation_rate):\n",
    "    hf = activation(batchnorm(conv1d(inputs, filters, kernel_size, dilation_rate)), 'relu')\n",
    "    hg = activation(batchnorm(conv1d(inputs, filters, kernel_size, dilation_rate)), 'sigmoid')\n",
    "    h0 = Multiply()([hf, hg])\n",
    "    \n",
    "    ha = activation(batchnorm(conv1d(h0, filters, 3, 1)), 'relu')\n",
    "    hs = activation(batchnorm(conv1d(h0, filters, 3, 1)), 'relu')\n",
    "    \n",
    "    return Add()([ha, inputs]), hs\n",
    "\n",
    "h0 = activation(batchnorm(conv1d(X, filters,1, 1)), 'relu')\n",
    "shortcut = []\n",
    "for i in range(num_blocks):\n",
    "    for r in [1, 2, 4, 8, 16]:\n",
    "        h0, s = res_block(h0, filters, 7, r)\n",
    "        shortcut.append(s)\n",
    "\n",
    "h1 = activation(Add()(shortcut), 'relu')\n",
    "h1 = activation(batchnorm(conv1d(h1, filters, 1, 1)), 'relu') # batch_size, seq_len, filters\n",
    "h1 = batchnorm(conv1d(h1, num_class, 1, 1)) # batch_size, seq_len, num_class\n",
    "h1 = GlobalMaxPooling1D()(h1) # batch_size, num_class\n",
    "Y = activation(h1, 'softmax')\n",
    "\n",
    "optimizer = Adam(lr=0.01, clipnorm=5)\n",
    "model = Model(inputs=X, outputs=Y)\n",
    "model.compile(loss='sparse_categorical_crossentropy', optimizer=optimizer, metrics=['accuracy'])\n",
    "\n",
    "checkpointer = ModelCheckpoint(filepath='zhuhai.h5', verbose=0)\n",
    "lr_decay = ReduceLROnPlateau(monitor='loss', factor=0.2, patience=1, min_lr=0.000)\n",
    "\n",
    "history = model.fit_generator(\n",
    "    generator=batch_generator(X_train, Y_train), \n",
    "    steps_per_epoch=len(X_train) // batch_size,\n",
    "    epochs=epochs, \n",
    "    validation_data=batch_generator(X_val, Y_val), \n",
    "    validation_steps=len(X_val) // batch_size, \n",
    "    callbacks=[checkpointer, lr_decay])"
   ]
  },
  {
   "cell_type": "code",
   "execution_count": 7,
   "metadata": {},
   "outputs": [
    {
     "data": {
      "image/png": "[encoded data removed]",
      "text/plain": [
       "<Figure size 432x288 with 1 Axes>"
      ]
     },
     "metadata": {
      "needs_background": "light"
     },
     "output_type": "display_data"
    },
    {
     "data": {
      "image/png": "[encoded data removed]",
      "text/plain": [
       "<Figure size 432x288 with 1 Axes>"
      ]
     },
     "metadata": {
      "needs_background": "light"
     },
     "output_type": "display_data"
    },
    {
     "name": "stdout",
     "output_type": "stream",
     "text": [
      "训练集loss为0.23229187726974487，准确率为0.9128069281578064\n",
      "验证集loss为0.7320838272571564，准确率为0.7265625\n",
      "测试集loss为0.7672629939402388，准确率为0.7240437269210815\n"
     ]
    }
   ],
   "source": [
    "# 损失函数变化曲线\n",
    "train_loss = history.history['loss']\n",
    "valid_loss = history.history['val_loss']\n",
    "plt.plot(train_loss, label='train')\n",
    "plt.plot(valid_loss, label='valid')\n",
    "plt.legend(loc='upper right')\n",
    "plt.xlabel('Epoch')\n",
    "plt.ylabel('Loss')\n",
    "plt.show()\n",
    "\n",
    "train_acc = history.history['accuracy']\n",
    "valid_acc = history.history['val_accuracy']\n",
    "plt.plot(train_acc, label='train')\n",
    "plt.plot(valid_acc, label='valid')\n",
    "plt.legend(loc='upper right')\n",
    "plt.xlabel('Epoch')\n",
    "plt.ylabel('Accuracy')\n",
    "plt.show()\n",
    "\n",
    "print('训练集loss为{}，准确率为{}'.format(history.history['loss'][-1], history.history['accuracy'][-1]))\n",
    "print('验证集loss为{}，准确率为{}'.format(history.history['val_loss'][-1], history.history['val_accuracy'][-1]))\n",
    "score = model.evaluate(X_test, Y_test, verbose=0)\n",
    "print('测试集loss为{}，准确率为{}'.format(score[0], score[1]))"
   ]
  },
  {
   "cell_type": "markdown",
   "metadata": {},
   "source": [
    "### 二维有效信号分类结果\n",
    "\n",
    "- 12198条训练数据，1219条验证数据，1219条测试数据\n",
    "- 训练集准确率为0.99991774559021, 测试集准确率为1.0"
   ]
  },
  {
   "cell_type": "code",
   "execution_count": 1,
   "metadata": {},
   "outputs": [],
   "source": [
    "import numpy as np\n",
    "import matplotlib.pyplot as plt\n",
    "from sklearn.utils import shuffle\n",
    "\n",
    "from tensorflow.keras.models import Model\n",
    "from tensorflow.keras.preprocessing.sequence import pad_sequences\n",
    "from tensorflow.keras.layers import Input, Activation, Conv1D, Add, Multiply, BatchNormalization, GlobalMaxPooling1D,Dropout\n",
    "from tensorflow.keras.optimizers import Adam\n",
    "from tensorflow.keras.callbacks import ModelCheckpoint, ReduceLROnPlateau"
   ]
  },
  {
   "cell_type": "code",
   "execution_count": 2,
   "metadata": {},
   "outputs": [],
   "source": [
    "# 加载数据集\n",
    "X_train, X_val, X_test = [], [], []\n",
    "Y_train, Y_val, Y_test = [], [], []\n",
    "\n",
    "with open('valid2D/train_data.txt','r') as f:\n",
    "    for line in f:\n",
    "        X_train.append(line.strip().split('\\t'))\n",
    "for i in range(len(X_train)):\n",
    "    for j in range(len(X_train[i])):\n",
    "        X_train[i][j] = [int(x) for x in X_train[i][j].strip('[]').split(',')]\n",
    "\n",
    "with open('valid2D/val_data.txt','r') as f:\n",
    "    for line in f:\n",
    "        X_val.append(line.strip().split('\\t'))\n",
    "for i in range(len(X_val)):\n",
    "    for j in range(len(X_val[i])):\n",
    "        X_val[i][j] = [int(x) for x in X_val[i][j].strip('[]').split(',')]\n",
    "\n",
    "with open('valid2D/test_data.txt','r') as f:\n",
    "    for line in f:\n",
    "        X_test.append(line.strip().split('\\t'))\n",
    "for i in range(len(X_test)):\n",
    "    for j in range(len(X_test[i])):\n",
    "        X_test[i][j] = [int(x) for x in X_test[i][j].strip('[]').split(',')]        \n",
    "\n",
    "with open('valid2D/train_label.txt','r') as f:\n",
    "    for line in f:\n",
    "        Y_train.append(line.strip())\n",
    "with open('valid2D/val_label.txt','r') as f:\n",
    "    for line in f:\n",
    "        Y_val.append(line.strip())\n",
    "with open('valid2D/test_label.txt','r') as f:\n",
    "    for line in f:\n",
    "        Y_test.append(line.strip())\n",
    "X_train, X_val, X_test = np.array(X_train), np.array(X_val), np.array(X_test)\n",
    "Y_train, Y_val, Y_test = np.array(Y_train), np.array(Y_val), np.array(Y_test)"
   ]
  },
  {
   "cell_type": "code",
   "execution_count": 3,
   "metadata": {},
   "outputs": [
    {
     "data": {
      "text/plain": [
       "(1219, 50, 50)"
      ]
     },
     "execution_count": 3,
     "metadata": {},
     "output_type": "execute_result"
    }
   ],
   "source": [
    "X_test.shape"
   ]
  },
  {
   "cell_type": "code",
   "execution_count": 4,
   "metadata": {},
   "outputs": [
    {
     "name": "stdout",
     "output_type": "stream",
     "text": [
      "Epoch 1/10\n"
     ]
    },
    {
     "name": "stderr",
     "output_type": "stream",
     "text": [
      "WARNING: Logging before flag parsing goes to stderr.\n",
      "W1226 08:48:18.193036 139927085029184 deprecation.py:323] From /usr/local/lib/python3.6/dist-packages/tensorflow_core/python/ops/math_grad.py:1251: add_dispatch_support.<locals>.wrapper (from tensorflow.python.ops.array_ops) is deprecated and will be removed in a future version.\n",
      "Instructions for updating:\n",
      "Use tf.where in 2.0, which has the same broadcast rule as np.where\n",
      "W1226 08:48:49.754099 139927085029184 deprecation.py:323] From /usr/local/lib/python3.6/dist-packages/tensorflow_core/python/keras/optimizer_v2/optimizer_v2.py:460: BaseResourceVariable.constraint (from tensorflow.python.ops.resource_variable_ops) is deprecated and will be removed in a future version.\n",
      "Instructions for updating:\n",
      "Apply a constraint manually following the optimizer update step.\n"
     ]
    },
    {
     "name": "stdout",
     "output_type": "stream",
     "text": [
      "95/95 [==============================] - 88s 925ms/step - loss: 0.8076 - accuracy: 0.5789 - val_loss: 3.4790 - val_accuracy: 0.4280\n",
      "Epoch 2/10\n",
      "95/95 [==============================] - 16s 167ms/step - loss: 0.1499 - accuracy: 0.9465 - val_loss: 0.7052 - val_accuracy: 0.7734\n",
      "Epoch 3/10\n",
      "95/95 [==============================] - 16s 165ms/step - loss: 0.0318 - accuracy: 0.9916 - val_loss: 0.0328 - val_accuracy: 0.9905\n",
      "Epoch 4/10\n",
      "95/95 [==============================] - 16s 167ms/step - loss: 0.0113 - accuracy: 0.9967 - val_loss: 0.0217 - val_accuracy: 0.9913\n",
      "Epoch 5/10\n",
      "95/95 [==============================] - 16s 164ms/step - loss: 0.0175 - accuracy: 0.9946 - val_loss: 1.9956 - val_accuracy: 0.6866\n",
      "Epoch 6/10\n",
      "95/95 [==============================] - 16s 163ms/step - loss: 0.0058 - accuracy: 0.9984 - val_loss: 0.0040 - val_accuracy: 0.9991\n",
      "Epoch 7/10\n",
      "95/95 [==============================] - 16s 165ms/step - loss: 0.0016 - accuracy: 0.9998 - val_loss: 0.0023 - val_accuracy: 0.9991\n",
      "Epoch 8/10\n",
      "95/95 [==============================] - 15s 163ms/step - loss: 8.2527e-04 - accuracy: 1.0000 - val_loss: 0.0017 - val_accuracy: 0.9991\n",
      "Epoch 9/10\n",
      "95/95 [==============================] - 16s 164ms/step - loss: 6.8532e-04 - accuracy: 1.0000 - val_loss: 0.0014 - val_accuracy: 0.9991\n",
      "Epoch 10/10\n",
      "95/95 [==============================] - 16s 165ms/step - loss: 6.2154e-04 - accuracy: 0.9999 - val_loss: 0.0012 - val_accuracy: 0.9991\n"
     ]
    }
   ],
   "source": [
    "batch_size = 128\n",
    "epochs = 10\n",
    "num_blocks = 3\n",
    "filters = 128\n",
    "drop_rate = 0.5\n",
    "num_class = 3\n",
    "\n",
    "def batch_generator(x, y, batch_size=batch_size): \n",
    "    offset = 0\n",
    "    while True:\n",
    "        offset += batch_size\n",
    "        \n",
    "        if offset == batch_size or offset >= len(x):\n",
    "            x, y = shuffle(x, y)\n",
    "            offset = batch_size\n",
    "            \n",
    "        X_batch = x[offset - batch_size: offset]    \n",
    "        Y_batch = y[offset - batch_size: offset]\n",
    "        \n",
    "        yield (X_batch, Y_batch)\n",
    "\n",
    "X = Input(shape=(50,50), dtype='float32')\n",
    "\n",
    "def conv1d(inputs, filters, kernel_size, dilation_rate):\n",
    "    return Conv1D(filters=filters, kernel_size=kernel_size, strides=1, padding='causal', activation=None, dilation_rate=dilation_rate)(inputs)\n",
    "\n",
    "def batchnorm(inputs):\n",
    "    return BatchNormalization()(inputs)\n",
    "\n",
    "def activation(inputs, activation):\n",
    "    return Activation(activation)(inputs)\n",
    "\n",
    "def res_block(inputs, filters, kernel_size, dilation_rate):\n",
    "    hf = activation(batchnorm(conv1d(inputs, filters, kernel_size, dilation_rate)), 'relu')\n",
    "    hg = activation(batchnorm(conv1d(inputs, filters, kernel_size, dilation_rate)), 'sigmoid')\n",
    "    h0 = Multiply()([hf, hg])\n",
    "    \n",
    "    ha = activation(batchnorm(conv1d(h0, filters, 1, 1)), 'relu')\n",
    "    hs = activation(batchnorm(conv1d(h0, filters, 1, 1)), 'relu')\n",
    "    \n",
    "    return Add()([ha, inputs]), hs\n",
    "\n",
    "h0 = activation(batchnorm(conv1d(X, filters, 1, 1)), 'relu')\n",
    "shortcut = []\n",
    "for i in range(num_blocks):\n",
    "    for r in [1, 2, 4, 8, 16]:\n",
    "        h0, s = res_block(h0, filters, 7, r)\n",
    "        shortcut.append(s)\n",
    "\n",
    "h1 = activation(Add()(shortcut), 'relu')\n",
    "h1 = activation(batchnorm(conv1d(h1, filters, 1, 1)), 'relu') # batch_size, seq_len, filters\n",
    "h1 = batchnorm(conv1d(h1, num_class, 1, 1)) # batch_size, seq_len, num_class\n",
    "h1 = GlobalMaxPooling1D()(h1) # batch_size, num_class\n",
    "Y = activation(h1, 'softmax')\n",
    "\n",
    "optimizer = Adam(lr=0.01, clipnorm=5)\n",
    "model = Model(inputs=X, outputs=Y)\n",
    "model.compile(loss='sparse_categorical_crossentropy', optimizer=optimizer, metrics=['accuracy'])\n",
    "\n",
    "checkpointer = ModelCheckpoint(filepath='zhuhai.h5', verbose=0)\n",
    "lr_decay = ReduceLROnPlateau(monitor='loss', factor=0.2, patience=1, min_lr=0.000)\n",
    "\n",
    "history = model.fit_generator(\n",
    "    generator=batch_generator(X_train, Y_train), \n",
    "    steps_per_epoch=len(X_train) // batch_size,\n",
    "    epochs=epochs, \n",
    "    validation_data=batch_generator(X_val, Y_val), \n",
    "    validation_steps=len(X_val) // batch_size, \n",
    "    callbacks=[checkpointer, lr_decay])"
   ]
  },
  {
   "cell_type": "code",
   "execution_count": 5,
   "metadata": {},
   "outputs": [
    {
     "data": {
      "image/png": "[encoded data removed]",
      "text/plain": [
       "<Figure size 432x288 with 1 Axes>"
      ]
     },
     "metadata": {
      "needs_background": "light"
     },
     "output_type": "display_data"
    },
    {
     "data": {
      "image/png": "[encoded data removed]",
      "text/plain": [
       "<Figure size 432x288 with 1 Axes>"
      ]
     },
     "metadata": {
      "needs_background": "light"
     },
     "output_type": "display_data"
    },
    {
     "name": "stdout",
     "output_type": "stream",
     "text": [
      "训练集loss为0.0006215424989166326，准确率为0.99991774559021\n",
      "验证集loss为0.0011786948857156353，准确率为0.9991319179534912\n",
      "测试集loss为0.0004675436675877267，准确率为1.0\n"
     ]
    }
   ],
   "source": [
    "# 损失函数变化曲线\n",
    "train_loss = history.history['loss']\n",
    "valid_loss = history.history['val_loss']\n",
    "plt.plot(train_loss, label='train')\n",
    "plt.plot(valid_loss, label='valid')\n",
    "plt.legend(loc='upper right')\n",
    "plt.xlabel('Epoch')\n",
    "plt.ylabel('Loss')\n",
    "plt.show()\n",
    "\n",
    "train_acc = history.history['accuracy']\n",
    "valid_acc = history.history['val_accuracy']\n",
    "plt.plot(train_acc, label='train')\n",
    "plt.plot(valid_acc, label='valid')\n",
    "plt.legend(loc='upper right')\n",
    "plt.xlabel('Epoch')\n",
    "plt.ylabel('Accuracy')\n",
    "plt.show()\n",
    "\n",
    "print('训练集loss为{}，准确率为{}'.format(history.history['loss'][-1], history.history['accuracy'][-1]))\n",
    "print('验证集loss为{}，准确率为{}'.format(history.history['val_loss'][-1], history.history['val_accuracy'][-1]))\n",
    "score = model.evaluate(X_test, Y_test, verbose=0)\n",
    "print('测试集loss为{}，准确率为{}'.format(score[0], score[1]))"
   ]
  },
  {
   "cell_type": "code",
   "execution_count": null,
   "metadata": {},
   "outputs": [],
   "source": []
  }
 ],
 "metadata": {
  "kernelspec": {
   "display_name": "Python 3",
   "language": "python",
   "name": "python3"
  },
  "language_info": {
   "codemirror_mode": {
    "name": "ipython",
    "version": 3
   },
   "file_extension": ".py",
   "mimetype": "text/x-python",
   "name": "python",
   "nbconvert_exporter": "python",
   "pygments_lexer": "ipython3",
   "version": "3.6.8"
  }
 },
 "nbformat": 4,
 "nbformat_minor": 2
}
