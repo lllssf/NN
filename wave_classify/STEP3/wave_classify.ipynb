{
 "cells": [
  {
   "cell_type": "markdown",
   "metadata": {},
   "source": [
    "# 一维CNN实现三类信号识别\n",
    "\n",
    "<!-- TOC -->\n",
    "\n",
    "- [一维CNN实现三类信号识别](#一维cnn实现三类信号识别)\n",
    "    - [基于联合采集数据集](#基于联合采集数据集)\n",
    "        - [一维信号分类结果](#一维信号分类结果)\n",
    "        - [二维信号分类结果](#二维信号分类结果)\n",
    "    - [基于混合数据集](#基于混合数据集)\n",
    "        - [一维混合信号分类结果](#一维混合信号分类结果)\n",
    "        - [二维混合信号分类结果](#二维混合信号分类结果)\n",
    "\n",
    "<!-- /TOC -->"
   ]
  },
  {
   "cell_type": "code",
   "execution_count": 1,
   "metadata": {},
   "outputs": [],
   "source": [
    "import numpy as np\n",
    "import matplotlib.pyplot as plt\n",
    "from sklearn.utils import shuffle\n",
    "\n",
    "from tensorflow import keras\n",
    "from tensorflow.keras.models import Model\n",
    "from tensorflow.keras.preprocessing.sequence import pad_sequences\n",
    "from tensorflow.keras.layers import Input, Activation, Conv1D, Add, Multiply, BatchNormalization, GlobalMaxPooling1D, Dropout\n",
    "from tensorflow.keras.optimizers import Adam\n",
    "from tensorflow.keras.callbacks import ModelCheckpoint, ReduceLROnPlateau"
   ]
  },
  {
   "cell_type": "markdown",
   "metadata": {},
   "source": [
    "## 基于联合采集数据集\n",
    "\n",
    "- 数据集来源：对前中后三个光纤同时进行脚踏、手触和棒击操作\n",
    "- 数据集制作（过程详见[wave_dataset]()）：\n",
    "  - 一维信号：有4995条训练数据，501条验证数据，501条测试数据\n",
    "  - 多组一维信号叠加的二维信号：有4869条训练数据，489条验证数据，489条测试数据"
   ]
  },
  {
   "cell_type": "code",
   "execution_count": 2,
   "metadata": {},
   "outputs": [],
   "source": [
    "# 加载数据集\n",
    "X_train, X_val, X_test = [], [], []\n",
    "Y_train, Y_val, Y_test = [], [], []\n",
    "with open('three/train_data.txt','r') as f:\n",
    "    for line in f:\n",
    "        temp = line.strip().split(',')\n",
    "        X_train.append([int(x) for x in temp])\n",
    "with open('three/val_data.txt','r') as f:\n",
    "    for line in f:\n",
    "        temp = line.strip().split(',')\n",
    "        X_val.append([int(x) for x in temp])\n",
    "with open('three/test_data.txt','r') as f:\n",
    "    for line in f:\n",
    "        temp = line.strip().split(',')\n",
    "        X_test.append([int(x) for x in temp])\n",
    "with open('three/train_label.txt','r') as f:\n",
    "    for line in f:\n",
    "        Y_train.append(line.strip())\n",
    "with open('three/val_label.txt','r') as f:\n",
    "    for line in f:\n",
    "        Y_val.append(line.strip())\n",
    "with open('three/test_label.txt','r') as f:\n",
    "    for line in f:\n",
    "        Y_test.append(line.strip())\n",
    "X_train, X_val, X_test = np.array(X_train), np.array(X_val), np.array(X_test)\n",
    "Y_train, Y_val, Y_test = np.array(Y_train), np.array(Y_val), np.array(Y_test)"
   ]
  },
  {
   "cell_type": "code",
   "execution_count": 3,
   "metadata": {},
   "outputs": [],
   "source": [
    "# 升维\n",
    "X_train, X_val, X_test = np.expand_dims(X_train,axis = 1),np.expand_dims(X_val,axis = 1),np.expand_dims(X_test,axis = 1)\n",
    "Y_train, Y_val, Y_test = np.expand_dims(Y_train,axis = 1),np.expand_dims(Y_val,axis = 1),np.expand_dims(Y_test,axis = 1)"
   ]
  },
  {
   "cell_type": "code",
   "execution_count": 4,
   "metadata": {},
   "outputs": [
    {
     "data": {
      "text/plain": [
       "(4995, 1, 50)"
      ]
     },
     "execution_count": 4,
     "metadata": {},
     "output_type": "execute_result"
    }
   ],
   "source": [
    "X_train.shape"
   ]
  },
  {
   "cell_type": "markdown",
   "metadata": {},
   "source": [
    "### 一维信号分类结果\n",
    "\n",
    "- 4995条训练数据，501条验证数据，501条测试数据\n",
    "- 训练集准确率为0.9453125, 测试集准确率为0.9061876535415649\n"
   ]
  },
  {
   "cell_type": "code",
   "execution_count": 5,
   "metadata": {},
   "outputs": [],
   "source": [
    "batch_size = 256\n",
    "\n",
    "def batch_generator(x, y, batch_size=batch_size): \n",
    "    offset = 0\n",
    "    while True:\n",
    "        offset += batch_size\n",
    "        \n",
    "        if offset == batch_size or offset >= len(x):\n",
    "            x, y = shuffle(x, y)\n",
    "            offset = batch_size\n",
    "            \n",
    "        X_batch = x[offset - batch_size: offset]    \n",
    "        Y_batch = y[offset - batch_size: offset]\n",
    "        \n",
    "        yield (X_batch, Y_batch)"
   ]
  },
  {
   "cell_type": "code",
   "execution_count": 15,
   "metadata": {
    "scrolled": true
   },
   "outputs": [
    {
     "name": "stdout",
     "output_type": "stream",
     "text": [
      "Epoch 1/30\n",
      "19/19 [==============================] - 257s 14s/step - loss: 0.6320 - accuracy: 0.7568 - val_loss: 9.4608 - val_accuracy: 0.3359\n",
      "Epoch 2/30\n",
      "19/19 [==============================] - 3s 177ms/step - loss: 0.4503 - accuracy: 0.8347 - val_loss: 2.1400 - val_accuracy: 0.4844\n",
      "Epoch 3/30\n",
      "19/19 [==============================] - 3s 178ms/step - loss: 0.3780 - accuracy: 0.8602 - val_loss: 0.6984 - val_accuracy: 0.7305\n",
      "Epoch 4/30\n",
      "19/19 [==============================] - 3s 178ms/step - loss: 0.3712 - accuracy: 0.8600 - val_loss: 1.0526 - val_accuracy: 0.7031\n",
      "Epoch 5/30\n",
      "19/19 [==============================] - 3s 172ms/step - loss: 0.3233 - accuracy: 0.8787 - val_loss: 0.4733 - val_accuracy: 0.8672\n",
      "Epoch 6/30\n",
      "19/19 [==============================] - 3s 176ms/step - loss: 0.3069 - accuracy: 0.8836 - val_loss: 0.6636 - val_accuracy: 0.8203\n",
      "Epoch 7/30\n",
      "19/19 [==============================] - 4s 187ms/step - loss: 0.2834 - accuracy: 0.8941 - val_loss: 0.8991 - val_accuracy: 0.7539\n",
      "Epoch 8/30\n",
      "19/19 [==============================] - 3s 173ms/step - loss: 0.2879 - accuracy: 0.8892 - val_loss: 0.3724 - val_accuracy: 0.8750\n",
      "Epoch 9/30\n",
      "19/19 [==============================] - 3s 180ms/step - loss: 0.2459 - accuracy: 0.9071 - val_loss: 0.3431 - val_accuracy: 0.8906\n",
      "Epoch 10/30\n",
      "19/19 [==============================] - 3s 180ms/step - loss: 0.2201 - accuracy: 0.9186 - val_loss: 0.3192 - val_accuracy: 0.8867\n",
      "Epoch 11/30\n",
      "19/19 [==============================] - 3s 178ms/step - loss: 0.2067 - accuracy: 0.9270 - val_loss: 0.2485 - val_accuracy: 0.9219\n",
      "Epoch 12/30\n",
      "19/19 [==============================] - 3s 176ms/step - loss: 0.1945 - accuracy: 0.9317 - val_loss: 0.3283 - val_accuracy: 0.8945\n",
      "Epoch 13/30\n",
      "19/19 [==============================] - 3s 177ms/step - loss: 0.1915 - accuracy: 0.9311 - val_loss: 0.3585 - val_accuracy: 0.8516\n",
      "Epoch 14/30\n",
      "19/19 [==============================] - 3s 173ms/step - loss: 0.1953 - accuracy: 0.9274 - val_loss: 0.3179 - val_accuracy: 0.8750\n",
      "Epoch 15/30\n",
      "19/19 [==============================] - 3s 171ms/step - loss: 0.1874 - accuracy: 0.9354 - val_loss: 0.2979 - val_accuracy: 0.8867\n",
      "Epoch 16/30\n",
      "19/19 [==============================] - 3s 176ms/step - loss: 0.1769 - accuracy: 0.9379 - val_loss: 0.3163 - val_accuracy: 0.8828\n",
      "Epoch 17/30\n",
      "19/19 [==============================] - 3s 179ms/step - loss: 0.1774 - accuracy: 0.9387 - val_loss: 0.2651 - val_accuracy: 0.9062\n",
      "Epoch 18/30\n",
      "19/19 [==============================] - 3s 177ms/step - loss: 0.1795 - accuracy: 0.9346 - val_loss: 0.2904 - val_accuracy: 0.8789\n",
      "Epoch 19/30\n",
      "19/19 [==============================] - 3s 182ms/step - loss: 0.1740 - accuracy: 0.9400 - val_loss: 0.2501 - val_accuracy: 0.9180\n",
      "Epoch 20/30\n",
      "19/19 [==============================] - 3s 179ms/step - loss: 0.1714 - accuracy: 0.9426 - val_loss: 0.2297 - val_accuracy: 0.9062\n",
      "Epoch 21/30\n",
      "19/19 [==============================] - 3s 172ms/step - loss: 0.1766 - accuracy: 0.9375 - val_loss: 0.2857 - val_accuracy: 0.8945\n",
      "Epoch 22/30\n",
      "19/19 [==============================] - 3s 174ms/step - loss: 0.1656 - accuracy: 0.9428 - val_loss: 0.2848 - val_accuracy: 0.9023\n",
      "Epoch 23/30\n",
      "19/19 [==============================] - 3s 176ms/step - loss: 0.1748 - accuracy: 0.9363 - val_loss: 0.2857 - val_accuracy: 0.8906\n",
      "Epoch 24/30\n",
      "19/19 [==============================] - 3s 178ms/step - loss: 0.1669 - accuracy: 0.9443 - val_loss: 0.3148 - val_accuracy: 0.8672\n",
      "Epoch 25/30\n",
      "19/19 [==============================] - 3s 169ms/step - loss: 0.1676 - accuracy: 0.9437 - val_loss: 0.2569 - val_accuracy: 0.8867\n",
      "Epoch 26/30\n",
      "19/19 [==============================] - 3s 181ms/step - loss: 0.1711 - accuracy: 0.9408 - val_loss: 0.2974 - val_accuracy: 0.8828\n",
      "Epoch 27/30\n",
      "19/19 [==============================] - 3s 173ms/step - loss: 0.1683 - accuracy: 0.9451 - val_loss: 0.3148 - val_accuracy: 0.8750\n",
      "Epoch 28/30\n",
      "19/19 [==============================] - 3s 170ms/step - loss: 0.1675 - accuracy: 0.9424 - val_loss: 0.2496 - val_accuracy: 0.8945\n",
      "Epoch 29/30\n",
      "19/19 [==============================] - 3s 169ms/step - loss: 0.1671 - accuracy: 0.9445 - val_loss: 0.2675 - val_accuracy: 0.9102\n",
      "Epoch 30/30\n",
      "19/19 [==============================] - 3s 174ms/step - loss: 0.1649 - accuracy: 0.9453 - val_loss: 0.2779 - val_accuracy: 0.8984\n"
     ]
    }
   ],
   "source": [
    "epochs = 30\n",
    "num_blocks = 3\n",
    "filters = 128\n",
    "drop_rate = 0.5\n",
    "num_class = 3\n",
    "\n",
    "X = Input(shape=(1,50), dtype='float32')\n",
    "\n",
    "def conv1d(inputs, filters, kernel_size, dilation_rate):\n",
    "    return Conv1D(filters=filters, kernel_size=kernel_size, strides=1, padding='causal', activation=None, dilation_rate=dilation_rate)(inputs)\n",
    "\n",
    "def batchnorm(inputs):\n",
    "    return BatchNormalization()(inputs)\n",
    "\n",
    "def activation(inputs, activation):\n",
    "    return Activation(activation)(inputs)\n",
    "\n",
    "def res_block(inputs, filters, kernel_size, dilation_rate):\n",
    "    hf = activation(batchnorm(conv1d(inputs, filters, kernel_size, dilation_rate)), 'relu')\n",
    "    hg = activation(batchnorm(conv1d(inputs, filters, kernel_size, dilation_rate)), 'sigmoid')\n",
    "    h0 = Multiply()([hf, hg])\n",
    "    \n",
    "    ha = activation(batchnorm(conv1d(h0, filters, 2, 1)), 'relu')\n",
    "    hs = activation(batchnorm(conv1d(h0, filters, 2, 1)), 'relu')\n",
    "    \n",
    "    return Add()([ha, inputs]), hs\n",
    "\n",
    "h0 = activation(batchnorm(conv1d(X, filters, 2, 1)), 'relu')\n",
    "shortcut = []\n",
    "for i in range(num_blocks):\n",
    "    for r in [1, 2, 4, 8, 16]:\n",
    "        h0, s = res_block(h0, filters, 7, r)\n",
    "        shortcut.append(s)\n",
    "\n",
    "h1 = activation(Add()(shortcut), 'relu')\n",
    "h1 = activation(batchnorm(conv1d(h1, filters, 2, 1)), 'relu') # batch_size, seq_len, filters\n",
    "h1 = batchnorm(conv1d(h1, num_class, 2, 1)) # batch_size, seq_len, num_class\n",
    "h1 = GlobalMaxPooling1D()(h1) # batch_size, num_class\n",
    "Y = activation(h1, 'softmax')\n",
    "\n",
    "optimizer = Adam(lr=0.01, clipnorm=5)\n",
    "model = Model(inputs=X, outputs=Y)\n",
    "model.compile(loss='sparse_categorical_crossentropy', optimizer=optimizer, metrics=['accuracy'])\n",
    "\n",
    "checkpointer = ModelCheckpoint(filepath='zhuhai.h5', verbose=0)\n",
    "lr_decay = ReduceLROnPlateau(monitor='loss', factor=0.2, patience=1, min_lr=0.000)\n",
    "\n",
    "history = model.fit_generator(\n",
    "    generator=batch_generator(X_train, Y_train), \n",
    "    steps_per_epoch=len(X_train) // batch_size,\n",
    "    epochs=epochs, \n",
    "    validation_data=batch_generator(X_val, Y_val), \n",
    "    validation_steps=len(X_val) // batch_size, \n",
    "    callbacks=[checkpointer, lr_decay])"
   ]
  },
  {
   "cell_type": "code",
   "execution_count": 16,
   "metadata": {},
   "outputs": [
    {
     "data": {
      "image/png": "[encoded data removed]",
      "text/plain": [
       "<Figure size 432x288 with 1 Axes>"
      ]
     },
     "metadata": {
      "needs_background": "light"
     },
     "output_type": "display_data"
    },
    {
     "data": {
      "image/png": "[encoded data removed]",
      "text/plain": [
       "<Figure size 432x288 with 1 Axes>"
      ]
     },
     "metadata": {
      "needs_background": "light"
     },
     "output_type": "display_data"
    }
   ],
   "source": [
    "# 损失函数变化曲线\n",
    "train_loss = history.history['loss']\n",
    "valid_loss = history.history['val_loss']\n",
    "plt.plot(train_loss, label='train')\n",
    "plt.plot(valid_loss, label='valid')\n",
    "plt.legend(loc='upper right')\n",
    "plt.xlabel('Epoch')\n",
    "plt.ylabel('Loss')\n",
    "plt.show()\n",
    "\n",
    "train_acc = history.history['accuracy']\n",
    "valid_acc = history.history['val_accuracy']\n",
    "plt.plot(train_acc, label='train')\n",
    "plt.plot(valid_acc, label='valid')\n",
    "plt.legend(loc='upper right')\n",
    "plt.xlabel('Epoch')\n",
    "plt.ylabel('Accuracy')\n",
    "plt.show()"
   ]
  },
  {
   "cell_type": "code",
   "execution_count": 17,
   "metadata": {},
   "outputs": [
    {
     "name": "stdout",
     "output_type": "stream",
     "text": [
      "训练集loss为0.16494275355025342，准确率为0.9453125\n",
      "验证集loss为0.2779066562652588，准确率为0.8984375\n",
      "测试集loss为0.2515614760106433，准确率为0.9061876535415649\n"
     ]
    }
   ],
   "source": [
    "# 准确率\n",
    "print('训练集loss为{}，准确率为{}'.format(history.history['loss'][-1], history.history['accuracy'][-1]))\n",
    "print('验证集loss为{}，准确率为{}'.format(history.history['val_loss'][-1], history.history['val_accuracy'][-1]))\n",
    "score = model.evaluate(X_test, Y_test, verbose=0)\n",
    "print('测试集loss为{}，准确率为{}'.format(score[0], score[1]))"
   ]
  },
  {
   "cell_type": "code",
   "execution_count": 18,
   "metadata": {},
   "outputs": [
    {
     "name": "stdout",
     "output_type": "stream",
     "text": [
      "预测结果是foot，其标签为foot\n"
     ]
    }
   ],
   "source": [
    "# 对测试集任一信号进行分类\n",
    "num = 34\n",
    "prediction = model.predict(np.expand_dims(X_test[num],axis=0))\n",
    "prediction = np.argmax(prediction, axis=1)[0]\n",
    "label = ['noraml','foot','hand','stick']\n",
    "print('预测结果是{}，其标签为{}'.format(label[prediction], label[int(Y_test[num][0])]))"
   ]
  },
  {
   "cell_type": "markdown",
   "metadata": {},
   "source": [
    "### 二维信号分类结果\n",
    "\n",
    "- 4869条训练数据，489条验证数据，489条测试数据\n",
    "- 训练集准确率为1.0, 测试集准确率为1.0"
   ]
  },
  {
   "cell_type": "code",
   "execution_count": 1,
   "metadata": {},
   "outputs": [],
   "source": [
    "import numpy as np\n",
    "import matplotlib.pyplot as plt\n",
    "from sklearn.utils import shuffle\n",
    "\n",
    "from tensorflow.keras.models import Model\n",
    "from tensorflow.keras.preprocessing.sequence import pad_sequences\n",
    "from tensorflow.keras.layers import Input, Activation, Conv1D,Conv2D, Add, Multiply, BatchNormalization, GlobalMaxPooling1D, GlobalMaxPooling2D,Dropout\n",
    "from tensorflow.keras.optimizers import Adam\n",
    "from tensorflow.keras.callbacks import ModelCheckpoint, ReduceLROnPlateau"
   ]
  },
  {
   "cell_type": "code",
   "execution_count": 2,
   "metadata": {},
   "outputs": [],
   "source": [
    "# 加载数据集\n",
    "X_train, X_val, X_test = [], [], []\n",
    "Y_train, Y_val, Y_test = [], [], []\n",
    "\n",
    "with open('three2D/train_data.txt','r') as f:\n",
    "    for line in f:\n",
    "        X_train.append(line.strip().split('\\t'))\n",
    "for i in range(len(X_train)):\n",
    "    for j in range(len(X_train[i])):\n",
    "        X_train[i][j] = [int(x) for x in X_train[i][j].strip('[]').split(',')]\n",
    "\n",
    "with open('three2D/val_data.txt','r') as f:\n",
    "    for line in f:\n",
    "        X_val.append(line.strip().split('\\t'))\n",
    "for i in range(len(X_val)):\n",
    "    for j in range(len(X_val[i])):\n",
    "        X_val[i][j] = [int(x) for x in X_val[i][j].strip('[]').split(',')]\n",
    "\n",
    "with open('three2D/test_data.txt','r') as f:\n",
    "    for line in f:\n",
    "        X_test.append(line.strip().split('\\t'))\n",
    "for i in range(len(X_test)):\n",
    "    for j in range(len(X_test[i])):\n",
    "        X_test[i][j] = [int(x) for x in X_test[i][j].strip('[]').split(',')]        \n",
    "\n",
    "with open('three2D/train_label.txt','r') as f:\n",
    "    for line in f:\n",
    "        Y_train.append(line.strip())\n",
    "with open('three2D/val_label.txt','r') as f:\n",
    "    for line in f:\n",
    "        Y_val.append(line.strip())\n",
    "with open('three2D/test_label.txt','r') as f:\n",
    "    for line in f:\n",
    "        Y_test.append(line.strip())\n",
    "X_train, X_val, X_test = np.array(X_train), np.array(X_val), np.array(X_test)\n",
    "Y_train, Y_val, Y_test = np.array(Y_train), np.array(Y_val), np.array(Y_test)"
   ]
  },
  {
   "cell_type": "code",
   "execution_count": 3,
   "metadata": {},
   "outputs": [
    {
     "data": {
      "text/plain": [
       "(4869, 50, 50)"
      ]
     },
     "execution_count": 3,
     "metadata": {},
     "output_type": "execute_result"
    }
   ],
   "source": [
    "X_train.shape"
   ]
  },
  {
   "cell_type": "code",
   "execution_count": 4,
   "metadata": {},
   "outputs": [],
   "source": [
    "batch_size = 64\n",
    "\n",
    "def batch_generator(x, y, batch_size=batch_size): \n",
    "    offset = 0\n",
    "    while True:\n",
    "        offset += batch_size\n",
    "        \n",
    "        if offset == batch_size or offset >= len(x):\n",
    "            x, y = shuffle(x, y)\n",
    "            offset = batch_size\n",
    "            \n",
    "        X_batch = x[offset - batch_size: offset]    \n",
    "        Y_batch = y[offset - batch_size: offset]\n",
    "        \n",
    "        yield (X_batch, Y_batch)"
   ]
  },
  {
   "cell_type": "code",
   "execution_count": 5,
   "metadata": {
    "scrolled": true
   },
   "outputs": [
    {
     "name": "stdout",
     "output_type": "stream",
     "text": [
      "Epoch 1/20\n"
     ]
    },
    {
     "name": "stderr",
     "output_type": "stream",
     "text": [
      "WARNING: Logging before flag parsing goes to stderr.\n",
      "W1225 03:16:51.223271 139819754923840 deprecation.py:323] From /usr/local/lib/python3.6/dist-packages/tensorflow_core/python/ops/math_grad.py:1251: add_dispatch_support.<locals>.wrapper (from tensorflow.python.ops.array_ops) is deprecated and will be removed in a future version.\n",
      "Instructions for updating:\n",
      "Use tf.where in 2.0, which has the same broadcast rule as np.where\n",
      "W1225 03:17:21.986194 139819754923840 deprecation.py:323] From /usr/local/lib/python3.6/dist-packages/tensorflow_core/python/keras/optimizer_v2/optimizer_v2.py:460: BaseResourceVariable.constraint (from tensorflow.python.ops.resource_variable_ops) is deprecated and will be removed in a future version.\n",
      "Instructions for updating:\n",
      "Apply a constraint manually following the optimizer update step.\n"
     ]
    },
    {
     "name": "stdout",
     "output_type": "stream",
     "text": [
      "76/76 [==============================] - 81s 1s/step - loss: 0.3746 - accuracy: 0.8604 - val_loss: 2.9455 - val_accuracy: 0.3549\n",
      "Epoch 2/20\n",
      "76/76 [==============================] - 11s 141ms/step - loss: 0.0481 - accuracy: 0.9901 - val_loss: 1.1298 - val_accuracy: 0.8080\n",
      "Epoch 3/20\n",
      "76/76 [==============================] - 10s 138ms/step - loss: 0.0454 - accuracy: 0.9907 - val_loss: 1.1112 - val_accuracy: 0.7009\n",
      "Epoch 4/20\n",
      "76/76 [==============================] - 11s 139ms/step - loss: 0.0074 - accuracy: 0.9994 - val_loss: 0.0270 - val_accuracy: 0.9911\n",
      "Epoch 5/20\n",
      "76/76 [==============================] - 11s 138ms/step - loss: 0.0226 - accuracy: 0.9940 - val_loss: 1.8435 - val_accuracy: 0.7143\n",
      "Epoch 6/20\n",
      "76/76 [==============================] - 10s 138ms/step - loss: 0.0069 - accuracy: 0.9994 - val_loss: 0.0052 - val_accuracy: 1.0000\n",
      "Epoch 7/20\n",
      "76/76 [==============================] - 10s 137ms/step - loss: 0.0035 - accuracy: 0.9996 - val_loss: 0.0227 - val_accuracy: 1.0000\n",
      "Epoch 8/20\n",
      "76/76 [==============================] - 10s 137ms/step - loss: 0.0031 - accuracy: 0.9996 - val_loss: 0.0590 - val_accuracy: 0.9821\n",
      "Epoch 9/20\n",
      "76/76 [==============================] - 10s 136ms/step - loss: 0.0020 - accuracy: 1.0000 - val_loss: 0.0895 - val_accuracy: 0.9732\n",
      "Epoch 10/20\n",
      "76/76 [==============================] - 10s 136ms/step - loss: 0.0013 - accuracy: 1.0000 - val_loss: 0.1085 - val_accuracy: 0.9665\n",
      "Epoch 11/20\n",
      "76/76 [==============================] - 10s 137ms/step - loss: 0.0010 - accuracy: 1.0000 - val_loss: 0.1033 - val_accuracy: 0.9621\n",
      "Epoch 12/20\n",
      "76/76 [==============================] - 10s 135ms/step - loss: 0.0012 - accuracy: 1.0000 - val_loss: 0.1144 - val_accuracy: 0.9420\n",
      "Epoch 13/20\n",
      "76/76 [==============================] - 10s 136ms/step - loss: 0.0011 - accuracy: 1.0000 - val_loss: 0.1236 - val_accuracy: 0.9330\n",
      "Epoch 14/20\n",
      "76/76 [==============================] - 10s 137ms/step - loss: 8.4439e-04 - accuracy: 1.0000 - val_loss: 0.1144 - val_accuracy: 0.9487\n",
      "Epoch 15/20\n",
      "76/76 [==============================] - 10s 136ms/step - loss: 0.0015 - accuracy: 0.9996 - val_loss: 0.1356 - val_accuracy: 0.9487\n",
      "Epoch 16/20\n",
      "76/76 [==============================] - 10s 137ms/step - loss: 0.0011 - accuracy: 1.0000 - val_loss: 0.1222 - val_accuracy: 0.9598\n",
      "Epoch 17/20\n",
      "76/76 [==============================] - 10s 138ms/step - loss: 8.1200e-04 - accuracy: 1.0000 - val_loss: 0.1176 - val_accuracy: 0.9576\n",
      "Epoch 18/20\n",
      "76/76 [==============================] - 10s 136ms/step - loss: 8.9525e-04 - accuracy: 1.0000 - val_loss: 0.1265 - val_accuracy: 0.9509\n",
      "Epoch 19/20\n",
      "76/76 [==============================] - 10s 135ms/step - loss: 8.8543e-04 - accuracy: 1.0000 - val_loss: 0.1283 - val_accuracy: 0.9509\n",
      "Epoch 20/20\n",
      "76/76 [==============================] - 10s 137ms/step - loss: 8.9061e-04 - accuracy: 1.0000 - val_loss: 0.1290 - val_accuracy: 0.9576\n"
     ]
    }
   ],
   "source": [
    "epochs = 20\n",
    "num_blocks = 3\n",
    "filters = 64\n",
    "drop_rate = 0.8\n",
    "num_class = 3\n",
    "\n",
    "X = Input(shape=(50,50), dtype='float32')\n",
    "\n",
    "def conv1d(inputs, filters, kernel_size, dilation_rate):\n",
    "    return Conv1D(filters=filters, kernel_size=kernel_size, strides=1, padding='causal', activation=None, dilation_rate=dilation_rate)(inputs)\n",
    "\n",
    "def batchnorm(inputs):\n",
    "    return BatchNormalization()(inputs)\n",
    "\n",
    "def activation(inputs, activation):\n",
    "    return Activation(activation)(inputs)\n",
    "\n",
    "def res_block(inputs, filters, kernel_size, dilation_rate):\n",
    "    hf = activation(batchnorm(conv1d(inputs, filters, kernel_size, dilation_rate)), 'relu')\n",
    "    hg = activation(batchnorm(conv1d(inputs, filters, kernel_size, dilation_rate)), 'sigmoid')\n",
    "    h0 = Multiply()([hf, hg])\n",
    "    \n",
    "    ha = activation(batchnorm(conv1d(h0, filters, 3, 1)), 'relu')\n",
    "    hs = activation(batchnorm(conv1d(h0, filters, 3, 1)), 'relu')\n",
    "    \n",
    "    return Add()([ha, inputs]), hs\n",
    "\n",
    "h0 = activation(batchnorm(conv1d(X, filters, 3, 1)), 'relu')\n",
    "shortcut = []\n",
    "for i in range(num_blocks):\n",
    "    for r in [1, 2, 4, 8, 16]:\n",
    "        h0, s = res_block(h0, filters, 7, r)\n",
    "        shortcut.append(s)\n",
    "\n",
    "h1 = activation(Add()(shortcut), 'relu')\n",
    "h1 = activation(batchnorm(conv1d(h1, filters, 3, 1)), 'relu') # batch_size, seq_len, filters\n",
    "h1 = batchnorm(conv1d(h1, num_class, 3, 1)) # batch_size, seq_len, num_class\n",
    "h1 = GlobalMaxPooling1D()(h1) # batch_size, num_class\n",
    "Y = activation(h1, 'softmax')\n",
    "\n",
    "optimizer = Adam(lr=0.01, clipnorm=5)\n",
    "model = Model(inputs=X, outputs=Y)\n",
    "model.compile(loss='sparse_categorical_crossentropy', optimizer=optimizer, metrics=['accuracy'])\n",
    "\n",
    "checkpointer = ModelCheckpoint(filepath='zhuhai.h5', verbose=0)\n",
    "lr_decay = ReduceLROnPlateau(monitor='loss', factor=0.2, patience=1, min_lr=0.000)\n",
    "\n",
    "history = model.fit_generator(\n",
    "    generator=batch_generator(X_train, Y_train), \n",
    "    steps_per_epoch=len(X_train) // batch_size,\n",
    "    epochs=epochs, \n",
    "    validation_data=batch_generator(X_val, Y_val), \n",
    "    validation_steps=len(X_val) // batch_size, \n",
    "    callbacks=[checkpointer, lr_decay])"
   ]
  },
  {
   "cell_type": "code",
   "execution_count": 6,
   "metadata": {},
   "outputs": [
    {
     "data": {
      "image/png": "[encoded data removed]",
      "text/plain": [
       "<Figure size 432x288 with 1 Axes>"
      ]
     },
     "metadata": {
      "needs_background": "light"
     },
     "output_type": "display_data"
    },
    {
     "data": {
      "image/png": "[encoded data removed]",
      "text/plain": [
       "<Figure size 432x288 with 1 Axes>"
      ]
     },
     "metadata": {
      "needs_background": "light"
     },
     "output_type": "display_data"
    }
   ],
   "source": [
    "# 损失函数变化曲线\n",
    "train_loss = history.history['loss']\n",
    "valid_loss = history.history['val_loss']\n",
    "plt.plot(train_loss, label='train')\n",
    "plt.plot(valid_loss, label='valid')\n",
    "plt.legend(loc='upper right')\n",
    "plt.xlabel('Epoch')\n",
    "plt.ylabel('Loss')\n",
    "plt.show()\n",
    "\n",
    "train_acc = history.history['accuracy']\n",
    "valid_acc = history.history['val_accuracy']\n",
    "plt.plot(train_acc, label='train')\n",
    "plt.plot(valid_acc, label='valid')\n",
    "plt.legend(loc='upper right')\n",
    "plt.xlabel('Epoch')\n",
    "plt.ylabel('Accuracy')\n",
    "plt.show()"
   ]
  },
  {
   "cell_type": "code",
   "execution_count": 7,
   "metadata": {},
   "outputs": [
    {
     "name": "stdout",
     "output_type": "stream",
     "text": [
      "训练集loss为0.0008906088095452441，准确率为1.0\n",
      "验证集loss为0.12899631474699294，准确率为0.9575892686843872\n",
      "测试集loss为0.012940163985999389，准确率为1.0\n"
     ]
    }
   ],
   "source": [
    "# 准确率\n",
    "print('训练集loss为{}，准确率为{}'.format(history.history['loss'][-1], history.history['accuracy'][-1]))\n",
    "print('验证集loss为{}，准确率为{}'.format(history.history['val_loss'][-1], history.history['val_accuracy'][-1]))\n",
    "score = model.evaluate(X_test, Y_test, verbose=0)\n",
    "print('测试集loss为{}，准确率为{}'.format(score[0], score[1]))"
   ]
  },
  {
   "cell_type": "code",
   "execution_count": 8,
   "metadata": {},
   "outputs": [],
   "source": [
    "# 保存模型\n",
    "model.save('DVS2D.h5')\n",
    "model.save_weights('DVS2D_weights.h5')"
   ]
  },
  {
   "cell_type": "markdown",
   "metadata": {},
   "source": [
    "## 基于混合数据集\n",
    "\n",
    "- 数据来源：\n",
    "  - 对前中后三个光纤同时进行脚踏、手触和棒击操作\n",
    "  - 分别对前中后三个光纤进行脚踏、手触和棒击操作\n",
    "- 数据集制作（过程详见[wave_dataset]()）\n",
    "  - 一维信号：有19992条训练数据，1998条验证数据，1998条测试数据\n",
    "  - 二维信号：有19866条训练数据，1986条验证数据，1986条测试数据"
   ]
  },
  {
   "cell_type": "code",
   "execution_count": 1,
   "metadata": {},
   "outputs": [],
   "source": [
    "import numpy as np\n",
    "import matplotlib.pyplot as plt\n",
    "from sklearn.utils import shuffle\n",
    "\n",
    "from tensorflow.keras.models import Model\n",
    "from tensorflow.keras.preprocessing.sequence import pad_sequences\n",
    "from tensorflow.keras.layers import Input, Activation, Conv1D, Add, Multiply, BatchNormalization, GlobalMaxPooling1D,Dropout\n",
    "from tensorflow.keras.optimizers import Adam\n",
    "from tensorflow.keras.callbacks import ModelCheckpoint, ReduceLROnPlateau"
   ]
  },
  {
   "cell_type": "code",
   "execution_count": 2,
   "metadata": {},
   "outputs": [],
   "source": [
    "# 加载数据集\n",
    "X_train, X_val, X_test = [], [], []\n",
    "Y_train, Y_val, Y_test = [], [], []\n",
    "with open('mix/train_data.txt','r') as f:\n",
    "    for line in f:\n",
    "        temp = line.strip().split(',')\n",
    "        X_train.append([int(x) for x in temp])\n",
    "with open('mix/val_data.txt','r') as f:\n",
    "    for line in f:\n",
    "        temp = line.strip().split(',')\n",
    "        X_val.append([int(x) for x in temp])\n",
    "with open('mix/test_data.txt','r') as f:\n",
    "    for line in f:\n",
    "        temp = line.strip().split(',')\n",
    "        X_test.append([int(x) for x in temp])\n",
    "with open('mix/train_label.txt','r') as f:\n",
    "    for line in f:\n",
    "        Y_train.append(line.strip())\n",
    "with open('mix/val_label.txt','r') as f:\n",
    "    for line in f:\n",
    "        Y_val.append(line.strip())\n",
    "with open('mix/test_label.txt','r') as f:\n",
    "    for line in f:\n",
    "        Y_test.append(line.strip())\n",
    "X_train, X_val, X_test = np.array(X_train), np.array(X_val), np.array(X_test)\n",
    "Y_train, Y_val, Y_test = np.array(Y_train), np.array(Y_val), np.array(Y_test)"
   ]
  },
  {
   "cell_type": "code",
   "execution_count": 5,
   "metadata": {},
   "outputs": [
    {
     "data": {
      "text/plain": [
       "(19992, 1, 50)"
      ]
     },
     "execution_count": 5,
     "metadata": {},
     "output_type": "execute_result"
    }
   ],
   "source": [
    "# 升维\n",
    "X_train, X_val, X_test = np.expand_dims(X_train,axis = 1),np.expand_dims(X_val,axis = 1),np.expand_dims(X_test,axis = 1)\n",
    "Y_train, Y_val, Y_test = np.expand_dims(Y_train,axis = 1),np.expand_dims(Y_val,axis = 1),np.expand_dims(Y_test,axis = 1)\n",
    "X_train.shape"
   ]
  },
  {
   "cell_type": "markdown",
   "metadata": {},
   "source": [
    "### 一维混合信号分类结果\n",
    "\n",
    "- 19992条训练数据，1998条验证数据，1998条测试数据\n",
    "- 训练集准确率为0.7682291865348816, 测试集准确率为0.7077077031135559"
   ]
  },
  {
   "cell_type": "code",
   "execution_count": 6,
   "metadata": {},
   "outputs": [
    {
     "name": "stdout",
     "output_type": "stream",
     "text": [
      "Epoch 1/20\n"
     ]
    },
    {
     "name": "stderr",
     "output_type": "stream",
     "text": [
      "WARNING: Logging before flag parsing goes to stderr.\n",
      "W1225 06:09:38.320131 140546550105920 deprecation.py:323] From /usr/local/lib/python3.6/dist-packages/tensorflow_core/python/ops/math_grad.py:1251: add_dispatch_support.<locals>.wrapper (from tensorflow.python.ops.array_ops) is deprecated and will be removed in a future version.\n",
      "Instructions for updating:\n",
      "Use tf.where in 2.0, which has the same broadcast rule as np.where\n",
      "W1225 06:10:09.167811 140546550105920 deprecation.py:323] From /usr/local/lib/python3.6/dist-packages/tensorflow_core/python/keras/optimizer_v2/optimizer_v2.py:460: BaseResourceVariable.constraint (from tensorflow.python.ops.resource_variable_ops) is deprecated and will be removed in a future version.\n",
      "Instructions for updating:\n",
      "Apply a constraint manually following the optimizer update step.\n"
     ]
    },
    {
     "name": "stdout",
     "output_type": "stream",
     "text": [
      "156/156 [==============================] - 93s 594ms/step - loss: 0.9889 - accuracy: 0.5043 - val_loss: 1.0502 - val_accuracy: 0.5198\n",
      "Epoch 2/20\n",
      "156/156 [==============================] - 23s 145ms/step - loss: 0.8925 - accuracy: 0.5736 - val_loss: 0.9768 - val_accuracy: 0.5604\n",
      "Epoch 3/20\n",
      "156/156 [==============================] - 22s 143ms/step - loss: 0.8548 - accuracy: 0.6019 - val_loss: 0.9043 - val_accuracy: 0.6146\n",
      "Epoch 4/20\n",
      "156/156 [==============================] - 22s 143ms/step - loss: 0.8117 - accuracy: 0.6307 - val_loss: 0.9076 - val_accuracy: 0.6203\n",
      "Epoch 5/20\n",
      "156/156 [==============================] - 22s 141ms/step - loss: 0.7913 - accuracy: 0.6418 - val_loss: 0.8459 - val_accuracy: 0.6203\n",
      "Epoch 6/20\n",
      "156/156 [==============================] - 22s 139ms/step - loss: 0.7679 - accuracy: 0.6518 - val_loss: 0.8483 - val_accuracy: 0.6323\n",
      "Epoch 7/20\n",
      "156/156 [==============================] - 21s 137ms/step - loss: 0.7569 - accuracy: 0.6583 - val_loss: 0.8730 - val_accuracy: 0.6297\n",
      "Epoch 8/20\n",
      "156/156 [==============================] - 22s 140ms/step - loss: 0.7346 - accuracy: 0.6753 - val_loss: 0.8027 - val_accuracy: 0.6505\n",
      "Epoch 9/20\n",
      "156/156 [==============================] - 22s 139ms/step - loss: 0.7220 - accuracy: 0.6828 - val_loss: 0.7787 - val_accuracy: 0.6693\n",
      "Epoch 10/20\n",
      "156/156 [==============================] - 22s 138ms/step - loss: 0.7074 - accuracy: 0.6877 - val_loss: 0.7904 - val_accuracy: 0.6594\n",
      "Epoch 11/20\n",
      "156/156 [==============================] - 21s 138ms/step - loss: 0.6985 - accuracy: 0.6894 - val_loss: 0.7847 - val_accuracy: 0.6714\n",
      "Epoch 12/20\n",
      "156/156 [==============================] - 21s 138ms/step - loss: 0.6837 - accuracy: 0.6977 - val_loss: 0.7409 - val_accuracy: 0.6615\n",
      "Epoch 13/20\n",
      "156/156 [==============================] - 22s 139ms/step - loss: 0.6697 - accuracy: 0.7036 - val_loss: 0.7907 - val_accuracy: 0.6672\n",
      "Epoch 14/20\n",
      "156/156 [==============================] - 21s 137ms/step - loss: 0.6704 - accuracy: 0.7017 - val_loss: 0.8835 - val_accuracy: 0.6354\n",
      "Epoch 15/20\n",
      "156/156 [==============================] - 22s 140ms/step - loss: 0.6030 - accuracy: 0.7373 - val_loss: 0.6677 - val_accuracy: 0.7141\n",
      "Epoch 16/20\n",
      "156/156 [==============================] - 22s 138ms/step - loss: 0.5779 - accuracy: 0.7485 - val_loss: 0.6829 - val_accuracy: 0.6995\n",
      "Epoch 17/20\n",
      "156/156 [==============================] - 22s 139ms/step - loss: 0.5671 - accuracy: 0.7574 - val_loss: 0.7011 - val_accuracy: 0.6948\n",
      "Epoch 18/20\n",
      "156/156 [==============================] - 22s 139ms/step - loss: 0.5556 - accuracy: 0.7573 - val_loss: 0.7015 - val_accuracy: 0.6859\n",
      "Epoch 19/20\n",
      "156/156 [==============================] - 22s 139ms/step - loss: 0.5466 - accuracy: 0.7633 - val_loss: 0.7035 - val_accuracy: 0.6911\n",
      "Epoch 20/20\n",
      "156/156 [==============================] - 22s 140ms/step - loss: 0.5357 - accuracy: 0.7682 - val_loss: 0.6860 - val_accuracy: 0.7026\n"
     ]
    }
   ],
   "source": [
    "batch_size = 128\n",
    "epochs = 20\n",
    "num_blocks = 3\n",
    "filters = 128\n",
    "drop_rate = 0.8\n",
    "num_class = 3\n",
    "\n",
    "def batch_generator(x, y, batch_size=batch_size): \n",
    "    offset = 0\n",
    "    while True:\n",
    "        offset += batch_size\n",
    "        \n",
    "        if offset == batch_size or offset >= len(x):\n",
    "            x, y = shuffle(x, y)\n",
    "            offset = batch_size\n",
    "            \n",
    "        X_batch = x[offset - batch_size: offset]    \n",
    "        Y_batch = y[offset - batch_size: offset]\n",
    "        \n",
    "        yield (X_batch, Y_batch)\n",
    "\n",
    "X = Input(shape=(1,50), dtype='float32')\n",
    "\n",
    "def conv1d(inputs, filters, kernel_size, dilation_rate):\n",
    "    return Conv1D(filters=filters, kernel_size=kernel_size, strides=1, padding='causal', activation=None, dilation_rate=dilation_rate)(inputs)\n",
    "\n",
    "def batchnorm(inputs):\n",
    "    return BatchNormalization()(inputs)\n",
    "\n",
    "def activation(inputs, activation):\n",
    "    return Activation(activation)(inputs)\n",
    "\n",
    "def res_block(inputs, filters, kernel_size, dilation_rate):\n",
    "    hf = activation(batchnorm(conv1d(inputs, filters, kernel_size, dilation_rate)), 'relu')\n",
    "    hg = activation(batchnorm(conv1d(inputs, filters, kernel_size, dilation_rate)), 'sigmoid')\n",
    "    h0 = Multiply()([hf, hg])\n",
    "    \n",
    "    ha = activation(batchnorm(conv1d(h0, filters, 3, 1)), 'relu')\n",
    "    hs = activation(batchnorm(conv1d(h0, filters, 3, 1)), 'relu')\n",
    "    \n",
    "    return Add()([ha, inputs]), hs\n",
    "\n",
    "h0 = activation(batchnorm(conv1d(X, filters, 3, 1)), 'relu')\n",
    "shortcut = []\n",
    "for i in range(num_blocks):\n",
    "    for r in [1, 2, 4, 8, 16]:\n",
    "        h0, s = res_block(h0, filters, 7, r)\n",
    "        shortcut.append(s)\n",
    "\n",
    "h1 = activation(Add()(shortcut), 'relu')\n",
    "h1 = activation(batchnorm(conv1d(h1, filters, 3, 1)), 'relu') # batch_size, seq_len, filters\n",
    "h1 = batchnorm(conv1d(h1, num_class, 3, 1)) # batch_size, seq_len, num_class\n",
    "h1 = GlobalMaxPooling1D()(h1) # batch_size, num_class\n",
    "Y = activation(h1, 'softmax')\n",
    "\n",
    "optimizer = Adam(lr=0.01, clipnorm=5)\n",
    "model = Model(inputs=X, outputs=Y)\n",
    "model.compile(loss='sparse_categorical_crossentropy', optimizer=optimizer, metrics=['accuracy'])\n",
    "\n",
    "checkpointer = ModelCheckpoint(filepath='zhuhai.h5', verbose=0)\n",
    "lr_decay = ReduceLROnPlateau(monitor='loss', factor=0.2, patience=1, min_lr=0.000)\n",
    "\n",
    "history = model.fit_generator(\n",
    "    generator=batch_generator(X_train, Y_train), \n",
    "    steps_per_epoch=len(X_train) // batch_size,\n",
    "    epochs=epochs, \n",
    "    validation_data=batch_generator(X_val, Y_val), \n",
    "    validation_steps=len(X_val) // batch_size, \n",
    "    callbacks=[checkpointer, lr_decay])"
   ]
  },
  {
   "cell_type": "code",
   "execution_count": 7,
   "metadata": {},
   "outputs": [
    {
     "data": {
      "image/png": "[encoded data removed]",
      "text/plain": [
       "<Figure size 432x288 with 1 Axes>"
      ]
     },
     "metadata": {
      "needs_background": "light"
     },
     "output_type": "display_data"
    },
    {
     "data": {
      "image/png": "[encoded data removed]",
      "text/plain": [
       "<Figure size 432x288 with 1 Axes>"
      ]
     },
     "metadata": {
      "needs_background": "light"
     },
     "output_type": "display_data"
    },
    {
     "name": "stdout",
     "output_type": "stream",
     "text": [
      "训练集loss为0.5357248085813645，准确率为0.7682291865348816\n",
      "验证集loss为0.6860355893770854，准确率为0.7026041746139526\n",
      "测试集loss为0.6904389860632422，准确率为0.7077077031135559\n"
     ]
    }
   ],
   "source": [
    "# 损失函数变化曲线\n",
    "train_loss = history.history['loss']\n",
    "valid_loss = history.history['val_loss']\n",
    "plt.plot(train_loss, label='train')\n",
    "plt.plot(valid_loss, label='valid')\n",
    "plt.legend(loc='upper right')\n",
    "plt.xlabel('Epoch')\n",
    "plt.ylabel('Loss')\n",
    "plt.show()\n",
    "\n",
    "train_acc = history.history['accuracy']\n",
    "valid_acc = history.history['val_accuracy']\n",
    "plt.plot(train_acc, label='train')\n",
    "plt.plot(valid_acc, label='valid')\n",
    "plt.legend(loc='upper right')\n",
    "plt.xlabel('Epoch')\n",
    "plt.ylabel('Accuracy')\n",
    "plt.show()\n",
    "\n",
    "print('训练集loss为{}，准确率为{}'.format(history.history['loss'][-1], history.history['accuracy'][-1]))\n",
    "print('验证集loss为{}，准确率为{}'.format(history.history['val_loss'][-1], history.history['val_accuracy'][-1]))\n",
    "score = model.evaluate(X_test, Y_test, verbose=0)\n",
    "print('测试集loss为{}，准确率为{}'.format(score[0], score[1]))"
   ]
  },
  {
   "cell_type": "markdown",
   "metadata": {},
   "source": [
    "### 二维混合信号分类结果\n",
    "\n",
    "- 19866条训练数据，1986条验证数据，1986条测试数据\n",
    "- 训练集准确率为0.9996955990791321, 测试集准确率为0.9003021121025085"
   ]
  },
  {
   "cell_type": "code",
   "execution_count": 1,
   "metadata": {},
   "outputs": [],
   "source": [
    "import numpy as np\n",
    "import matplotlib.pyplot as plt\n",
    "from sklearn.utils import shuffle\n",
    "\n",
    "from tensorflow.keras.models import Model\n",
    "from tensorflow.keras.preprocessing.sequence import pad_sequences\n",
    "from tensorflow.keras.layers import Input, Activation, Conv1D, Add, Multiply, BatchNormalization, GlobalMaxPooling1D,Dropout\n",
    "from tensorflow.keras.optimizers import Adam\n",
    "from tensorflow.keras.callbacks import ModelCheckpoint, ReduceLROnPlateau"
   ]
  },
  {
   "cell_type": "code",
   "execution_count": 2,
   "metadata": {},
   "outputs": [],
   "source": [
    "# 加载数据集\n",
    "X_train, X_val, X_test = [], [], []\n",
    "Y_train, Y_val, Y_test = [], [], []\n",
    "\n",
    "with open('mix2D/train_data.txt','r') as f:\n",
    "    for line in f:\n",
    "        X_train.append(line.strip().split('\\t'))\n",
    "for i in range(len(X_train)):\n",
    "    for j in range(len(X_train[i])):\n",
    "        X_train[i][j] = [int(x) for x in X_train[i][j].strip('[]').split(',')]\n",
    "\n",
    "with open('mix2D/val_data.txt','r') as f:\n",
    "    for line in f:\n",
    "        X_val.append(line.strip().split('\\t'))\n",
    "for i in range(len(X_val)):\n",
    "    for j in range(len(X_val[i])):\n",
    "        X_val[i][j] = [int(x) for x in X_val[i][j].strip('[]').split(',')]\n",
    "\n",
    "with open('mix2D/test_data.txt','r') as f:\n",
    "    for line in f:\n",
    "        X_test.append(line.strip().split('\\t'))\n",
    "for i in range(len(X_test)):\n",
    "    for j in range(len(X_test[i])):\n",
    "        X_test[i][j] = [int(x) for x in X_test[i][j].strip('[]').split(',')]        \n",
    "\n",
    "with open('mix2D/train_label.txt','r') as f:\n",
    "    for line in f:\n",
    "        Y_train.append(line.strip())\n",
    "with open('mix2D/val_label.txt','r') as f:\n",
    "    for line in f:\n",
    "        Y_val.append(line.strip())\n",
    "with open('mix2D/test_label.txt','r') as f:\n",
    "    for line in f:\n",
    "        Y_test.append(line.strip())\n",
    "X_train, X_val, X_test = np.array(X_train), np.array(X_val), np.array(X_test)\n",
    "Y_train, Y_val, Y_test = np.array(Y_train), np.array(Y_val), np.array(Y_test)"
   ]
  },
  {
   "cell_type": "code",
   "execution_count": 3,
   "metadata": {},
   "outputs": [
    {
     "data": {
      "text/plain": [
       "(19866, 50, 50)"
      ]
     },
     "execution_count": 3,
     "metadata": {},
     "output_type": "execute_result"
    }
   ],
   "source": [
    "X_train.shape"
   ]
  },
  {
   "cell_type": "code",
   "execution_count": 4,
   "metadata": {},
   "outputs": [
    {
     "name": "stdout",
     "output_type": "stream",
     "text": [
      "Epoch 1/10\n"
     ]
    },
    {
     "name": "stderr",
     "output_type": "stream",
     "text": [
      "WARNING: Logging before flag parsing goes to stderr.\n",
      "W1225 07:00:46.604415 140206232676160 deprecation.py:323] From /usr/local/lib/python3.6/dist-packages/tensorflow_core/python/ops/math_grad.py:1251: add_dispatch_support.<locals>.wrapper (from tensorflow.python.ops.array_ops) is deprecated and will be removed in a future version.\n",
      "Instructions for updating:\n",
      "Use tf.where in 2.0, which has the same broadcast rule as np.where\n",
      "W1225 07:01:18.623269 140206232676160 deprecation.py:323] From /usr/local/lib/python3.6/dist-packages/tensorflow_core/python/keras/optimizer_v2/optimizer_v2.py:460: BaseResourceVariable.constraint (from tensorflow.python.ops.resource_variable_ops) is deprecated and will be removed in a future version.\n",
      "Instructions for updating:\n",
      "Apply a constraint manually following the optimizer update step.\n"
     ]
    },
    {
     "name": "stdout",
     "output_type": "stream",
     "text": [
      "77/77 [==============================] - 91s 1s/step - loss: 0.6014 - accuracy: 0.7301 - val_loss: 10.2573 - val_accuracy: 0.3365\n",
      "Epoch 2/10\n",
      "77/77 [==============================] - 19s 253ms/step - loss: 0.1338 - accuracy: 0.9550 - val_loss: 7.0286 - val_accuracy: 0.4487\n",
      "Epoch 3/10\n",
      "77/77 [==============================] - 20s 259ms/step - loss: 0.0758 - accuracy: 0.9774 - val_loss: 0.5423 - val_accuracy: 0.9330\n",
      "Epoch 4/10\n",
      "77/77 [==============================] - 20s 255ms/step - loss: 0.0546 - accuracy: 0.9829 - val_loss: 2.2989 - val_accuracy: 0.7494\n",
      "Epoch 5/10\n",
      "77/77 [==============================] - 19s 253ms/step - loss: 0.0158 - accuracy: 0.9959 - val_loss: 1.0726 - val_accuracy: 0.8253\n",
      "Epoch 6/10\n",
      "77/77 [==============================] - 19s 251ms/step - loss: 0.0185 - accuracy: 0.9952 - val_loss: 1.7219 - val_accuracy: 0.8398\n",
      "Epoch 7/10\n",
      "77/77 [==============================] - 19s 253ms/step - loss: 0.0090 - accuracy: 0.9985 - val_loss: 0.6548 - val_accuracy: 0.8968\n",
      "Epoch 8/10\n",
      "77/77 [==============================] - 20s 254ms/step - loss: 0.0043 - accuracy: 0.9993 - val_loss: 0.4121 - val_accuracy: 0.9247\n",
      "Epoch 9/10\n",
      "77/77 [==============================] - 19s 250ms/step - loss: 0.0043 - accuracy: 0.9991 - val_loss: 0.3714 - val_accuracy: 0.9302\n",
      "Epoch 10/10\n",
      "77/77 [==============================] - 19s 249ms/step - loss: 0.0024 - accuracy: 0.9997 - val_loss: 0.4883 - val_accuracy: 0.9146\n"
     ]
    }
   ],
   "source": [
    "batch_size = 256\n",
    "epochs = 10\n",
    "num_blocks = 3\n",
    "filters = 128\n",
    "drop_rate = 0.5\n",
    "num_class = 3\n",
    "\n",
    "def batch_generator(x, y, batch_size=batch_size): \n",
    "    offset = 0\n",
    "    while True:\n",
    "        offset += batch_size\n",
    "        \n",
    "        if offset == batch_size or offset >= len(x):\n",
    "            x, y = shuffle(x, y)\n",
    "            offset = batch_size\n",
    "            \n",
    "        X_batch = x[offset - batch_size: offset]    \n",
    "        Y_batch = y[offset - batch_size: offset]\n",
    "        \n",
    "        yield (X_batch, Y_batch)\n",
    "\n",
    "X = Input(shape=(50,50), dtype='float32')\n",
    "\n",
    "def conv1d(inputs, filters, kernel_size, dilation_rate):\n",
    "    return Conv1D(filters=filters, kernel_size=kernel_size, strides=1, padding='causal', activation=None, dilation_rate=dilation_rate)(inputs)\n",
    "\n",
    "def batchnorm(inputs):\n",
    "    return BatchNormalization()(inputs)\n",
    "\n",
    "def activation(inputs, activation):\n",
    "    return Activation(activation)(inputs)\n",
    "\n",
    "def res_block(inputs, filters, kernel_size, dilation_rate):\n",
    "    hf = activation(batchnorm(conv1d(inputs, filters, kernel_size, dilation_rate)), 'relu')\n",
    "    hg = activation(batchnorm(conv1d(inputs, filters, kernel_size, dilation_rate)), 'sigmoid')\n",
    "    h0 = Multiply()([hf, hg])\n",
    "    \n",
    "    ha = activation(batchnorm(conv1d(h0, filters, 7, 1)), 'relu')\n",
    "    hs = activation(batchnorm(conv1d(h0, filters, 7, 1)), 'relu')\n",
    "    \n",
    "    return Add()([ha, inputs]), hs\n",
    "\n",
    "h0 = activation(batchnorm(conv1d(X, filters, 7, 1)), 'relu')\n",
    "shortcut = []\n",
    "for i in range(num_blocks):\n",
    "    for r in [1, 2, 4, 8, 16]:\n",
    "        h0, s = res_block(h0, filters, 7, r)\n",
    "        shortcut.append(s)\n",
    "\n",
    "h1 = activation(Add()(shortcut), 'relu')\n",
    "h1 = activation(batchnorm(conv1d(h1, filters, 7, 1)), 'relu') # batch_size, seq_len, filters\n",
    "h1 = batchnorm(conv1d(h1, num_class, 7, 1)) # batch_size, seq_len, num_class\n",
    "h1 = GlobalMaxPooling1D()(h1) # batch_size, num_class\n",
    "Y = activation(h1, 'softmax')\n",
    "\n",
    "optimizer = Adam(lr=0.01, clipnorm=5)\n",
    "model = Model(inputs=X, outputs=Y)\n",
    "model.compile(loss='sparse_categorical_crossentropy', optimizer=optimizer, metrics=['accuracy'])\n",
    "\n",
    "checkpointer = ModelCheckpoint(filepath='zhuhai.h5', verbose=0)\n",
    "lr_decay = ReduceLROnPlateau(monitor='loss', factor=0.2, patience=1, min_lr=0.000)\n",
    "\n",
    "history = model.fit_generator(\n",
    "    generator=batch_generator(X_train, Y_train), \n",
    "    steps_per_epoch=len(X_train) // batch_size,\n",
    "    epochs=epochs, \n",
    "    validation_data=batch_generator(X_val, Y_val), \n",
    "    validation_steps=len(X_val) // batch_size, \n",
    "    callbacks=[checkpointer, lr_decay])"
   ]
  },
  {
   "cell_type": "code",
   "execution_count": 5,
   "metadata": {},
   "outputs": [
    {
     "data": {
      "image/png": "[encoded data removed]",
      "text/plain": [
       "<Figure size 432x288 with 1 Axes>"
      ]
     },
     "metadata": {
      "needs_background": "light"
     },
     "output_type": "display_data"
    },
    {
     "data": {
      "image/png": "[encoded data removed]",
      "text/plain": [
       "<Figure size 432x288 with 1 Axes>"
      ]
     },
     "metadata": {
      "needs_background": "light"
     },
     "output_type": "display_data"
    },
    {
     "name": "stdout",
     "output_type": "stream",
     "text": [
      "训练集loss为0.0024497248323077894，准确率为0.9996955990791321\n",
      "验证集loss为0.4882708362170628，准确率为0.9146205186843872\n",
      "测试集loss为0.3124129925516865，准确率为0.9003021121025085\n"
     ]
    }
   ],
   "source": [
    "# 损失函数变化曲线\n",
    "train_loss = history.history['loss']\n",
    "valid_loss = history.history['val_loss']\n",
    "plt.plot(train_loss, label='train')\n",
    "plt.plot(valid_loss, label='valid')\n",
    "plt.legend(loc='upper right')\n",
    "plt.xlabel('Epoch')\n",
    "plt.ylabel('Loss')\n",
    "plt.show()\n",
    "\n",
    "train_acc = history.history['accuracy']\n",
    "valid_acc = history.history['val_accuracy']\n",
    "plt.plot(train_acc, label='train')\n",
    "plt.plot(valid_acc, label='valid')\n",
    "plt.legend(loc='upper right')\n",
    "plt.xlabel('Epoch')\n",
    "plt.ylabel('Accuracy')\n",
    "plt.show()\n",
    "\n",
    "print('训练集loss为{}，准确率为{}'.format(history.history['loss'][-1], history.history['accuracy'][-1]))\n",
    "print('验证集loss为{}，准确率为{}'.format(history.history['val_loss'][-1], history.history['val_accuracy'][-1]))\n",
    "score = model.evaluate(X_test, Y_test, verbose=0)\n",
    "print('测试集loss为{}，准确率为{}'.format(score[0], score[1]))"
   ]
  },
  {
   "cell_type": "code",
   "execution_count": null,
   "metadata": {},
   "outputs": [],
   "source": []
  }
 ],
 "metadata": {
  "kernelspec": {
   "display_name": "Python 3",
   "language": "python",
   "name": "python3"
  },
  "language_info": {
   "codemirror_mode": {
    "name": "ipython",
    "version": 3
   },
   "file_extension": ".py",
   "mimetype": "text/x-python",
   "name": "python",
   "nbconvert_exporter": "python",
   "pygments_lexer": "ipython3",
   "version": "3.6.8"
  }
 },
 "nbformat": 4,
 "nbformat_minor": 2
}
