{
 "cells": [
  {
   "cell_type": "markdown",
   "metadata": {},
   "source": [
    "# 构造数据集\n",
    "## 相差处理\n",
    "处理各个初始文件，3900为一组，后一组减去前一组，得到的数据的后3800个可视为有效信号，予以保留。\n",
    "首先明确各个文件名"
   ]
  },
  {
   "cell_type": "code",
   "execution_count": 7,
   "metadata": {},
   "outputs": [
    {
     "data": {
      "text/plain": [
       "['zhuhai.h5',\n",
       " 'hand-data-2019-12-04-09-11-55.txt',\n",
       " 'foot_data.txt',\n",
       " 'stick-data-2019-12-04-09-18-45.txt',\n",
       " 'train_label.txt',\n",
       " 'normal-data-2019-12-04-09-06-26.txt',\n",
       " 'train_data.txt',\n",
       " 'wave_classify.ipynb',\n",
       " 'stick-data-2019-12-04-09-04-41.txt',\n",
       " 'normal-data-2019-12-04-09-21-09.txt',\n",
       " 'normal_data.txt',\n",
       " 'test_data.txt',\n",
       " 'stick_data.txt',\n",
       " 'foot-data-2019-12-04-08-53-22.txt',\n",
       " 'dataset',\n",
       " 'fangyan.h5',\n",
       " 'hand_data.txt',\n",
       " 'hand-data-2019-12-04-09-19-55.txt',\n",
       " 'val_data.txt',\n",
       " 'train.txt',\n",
       " 'test.txt',\n",
       " 'val.txt',\n",
       " 'test_label.txt',\n",
       " 'val_label.txt',\n",
       " 'foot-data-2019-12-04-09-17-32.txt',\n",
       " 'wave_dataset.ipynb',\n",
       " '.ipynb_checkpoints',\n",
       " 'DVS.h5']"
      ]
     },
     "execution_count": 7,
     "metadata": {},
     "output_type": "execute_result"
    }
   ],
   "source": [
    "import os\n",
    "import numpy as np\n",
    "import matplotlib.pyplot as plt\n",
    "\n",
    "os.listdir('./')"
   ]
  },
  {
   "cell_type": "code",
   "execution_count": 8,
   "metadata": {},
   "outputs": [],
   "source": [
    "def loadData(data):\n",
    "    '''\n",
    "    相差法处理原始数据,得到有效数据\n",
    "    '''\n",
    "    data = np.array(data)\n",
    "    valid_data = []\n",
    "    for i in range(0,len(data)-3989,3900):\n",
    "        temp = [x for x in map(abs, data[i+3900:i+3900*2]-data[i:i+3900])]\n",
    "        valid_data.append(temp[100:])\n",
    "    print('共{}组数据，每组数据有{}个点'.format(len(valid_data),len(valid_data[0])))\n",
    "    return valid_data"
   ]
  },
  {
   "cell_type": "code",
   "execution_count": 14,
   "metadata": {},
   "outputs": [
    {
     "name": "stdout",
     "output_type": "stream",
     "text": [
      "共499组数据，每组数据有3800个点\n"
     ]
    }
   ],
   "source": [
    "# 处理脚踏数据\n",
    "data = []\n",
    "with open('foot-data-2019-12-04-08-53-22.txt','r') as f:\n",
    "    for line in f:\n",
    "        data.append(int(line.strip()))\n",
    "with open('foot-data-2019-12-04-09-17-32.txt','r') as f:\n",
    "    for line in f:\n",
    "        data.append(int(line.strip()))\n",
    "\n",
    "foot_data = loadData(data)    \n",
    "# 保存脚踏数据\n",
    "with open('foot_data.txt','w') as f:\n",
    "    for line in foot_data:\n",
    "        f.write(str(line)+'\\n')"
   ]
  },
  {
   "cell_type": "code",
   "execution_count": 18,
   "metadata": {},
   "outputs": [
    {
     "name": "stdout",
     "output_type": "stream",
     "text": [
      "共499组数据，每组数据有3800个点\n"
     ]
    }
   ],
   "source": [
    "# 处理手触数据\n",
    "data = []\n",
    "with open('hand-data-2019-12-04-09-11-55.txt','r') as f:\n",
    "    for line in f:\n",
    "        data.append(int(line.strip()))\n",
    "with open('hand-data-2019-12-04-09-19-55.txt','r') as f:\n",
    "    for line in f:\n",
    "        data.append(int(line.strip()))\n",
    "\n",
    "hand_data = loadData(data)\n",
    "# 保存手触数据\n",
    "with open('hand_data.txt','w') as f:\n",
    "    for line in hand_data:\n",
    "        f.write(str(line)+'\\n')"
   ]
  },
  {
   "cell_type": "code",
   "execution_count": 21,
   "metadata": {},
   "outputs": [
    {
     "name": "stdout",
     "output_type": "stream",
     "text": [
      "共499组数据，每组数据有3800个点\n"
     ]
    }
   ],
   "source": [
    "# 处理stick数据\n",
    "data = []\n",
    "with open('stick-data-2019-12-04-09-04-41.txt','r') as f:\n",
    "    for line in f:\n",
    "        data.append(int(line.strip()))\n",
    "with open('stick-data-2019-12-04-09-18-45.txt','r') as f:\n",
    "    for line in f:\n",
    "        data.append(int(line.strip()))\n",
    "\n",
    "stick_data = loadData(data)\n",
    "# 保存手触数据\n",
    "with open('stick_data.txt','w') as f:\n",
    "    for line in stick_data:\n",
    "        f.write(str(line)+'\\n')"
   ]
  },
  {
   "cell_type": "code",
   "execution_count": 23,
   "metadata": {},
   "outputs": [
    {
     "name": "stdout",
     "output_type": "stream",
     "text": [
      "共499组数据，每组数据有3800个点\n"
     ]
    }
   ],
   "source": [
    "# 处理normal数据\n",
    "data = []\n",
    "with open('normal-data-2019-12-04-09-06-26.txt','r') as f:\n",
    "    for line in f:\n",
    "        data.append(int(line.strip()))\n",
    "with open('normal-data-2019-12-04-09-21-09.txt','r') as f:\n",
    "    for line in f:\n",
    "        data.append(int(line.strip()))\n",
    "\n",
    "normal_data = loadData(data)\n",
    "# 保存手触数据\n",
    "with open('normal_data.txt','w') as f:\n",
    "    for line in normal_data:\n",
    "        f.write(str(line)+'\\n')"
   ]
  },
  {
   "cell_type": "code",
   "execution_count": 6,
   "metadata": {},
   "outputs": [
    {
     "ename": "NameError",
     "evalue": "name 'plt' is not defined",
     "output_type": "error",
     "traceback": [
      "\u001b[0;31m---------------------------------------------------------------------------\u001b[0m",
      "\u001b[0;31mNameError\u001b[0m                                 Traceback (most recent call last)",
      "\u001b[0;32m<ipython-input-6-a9314167316f>\u001b[0m in \u001b[0;36m<module>\u001b[0;34m\u001b[0m\n\u001b[0;32m----> 1\u001b[0;31m \u001b[0mplt\u001b[0m\u001b[0;34m.\u001b[0m\u001b[0mfigure\u001b[0m\u001b[0;34m(\u001b[0m\u001b[0mfigsize\u001b[0m\u001b[0;34m=\u001b[0m\u001b[0;34m(\u001b[0m\u001b[0;36m12\u001b[0m\u001b[0;34m,\u001b[0m\u001b[0;36m8\u001b[0m\u001b[0;34m)\u001b[0m\u001b[0;34m)\u001b[0m\u001b[0;34m\u001b[0m\u001b[0;34m\u001b[0m\u001b[0m\n\u001b[0m\u001b[1;32m      2\u001b[0m \u001b[0mplt\u001b[0m\u001b[0;34m.\u001b[0m\u001b[0msubplot\u001b[0m\u001b[0;34m(\u001b[0m\u001b[0;36m221\u001b[0m\u001b[0;34m)\u001b[0m\u001b[0;34m\u001b[0m\u001b[0;34m\u001b[0m\u001b[0m\n\u001b[1;32m      3\u001b[0m \u001b[0mplt\u001b[0m\u001b[0;34m.\u001b[0m\u001b[0mtitle\u001b[0m\u001b[0;34m(\u001b[0m\u001b[0;34m'foot_data'\u001b[0m\u001b[0;34m)\u001b[0m\u001b[0;34m\u001b[0m\u001b[0;34m\u001b[0m\u001b[0m\n\u001b[1;32m      4\u001b[0m \u001b[0mplt\u001b[0m\u001b[0;34m.\u001b[0m\u001b[0mplot\u001b[0m\u001b[0;34m(\u001b[0m\u001b[0mfoot_data\u001b[0m\u001b[0;34m[\u001b[0m\u001b[0;36m1\u001b[0m\u001b[0;34m]\u001b[0m\u001b[0;34m)\u001b[0m\u001b[0;34m\u001b[0m\u001b[0;34m\u001b[0m\u001b[0m\n\u001b[1;32m      5\u001b[0m \u001b[0mplt\u001b[0m\u001b[0;34m.\u001b[0m\u001b[0msubplot\u001b[0m\u001b[0;34m(\u001b[0m\u001b[0;36m222\u001b[0m\u001b[0;34m)\u001b[0m\u001b[0;34m\u001b[0m\u001b[0;34m\u001b[0m\u001b[0m\n",
      "\u001b[0;31mNameError\u001b[0m: name 'plt' is not defined"
     ]
    }
   ],
   "source": [
    "plt.figure(figsize=(12,8))\n",
    "plt.subplot(221)\n",
    "plt.title('foot_data')\n",
    "plt.plot(foot_data[1])\n",
    "plt.subplot(222)\n",
    "plt.title('hand_data')\n",
    "plt.plot(hand_data[1])\n",
    "plt.subplot(223)\n",
    "plt.title('stick_data')\n",
    "plt.plot(stick_data[1])\n",
    "plt.subplot(224)\n",
    "plt.title('normal_data')\n",
    "plt.plot(normal_data[11])\n",
    "plt.show()"
   ]
  },
  {
   "cell_type": "markdown",
   "metadata": {},
   "source": [
    "## 划分数据集\n",
    "每类数据共499个，则训练数据417个，验证数据41个，测试数据41个。\\\n",
    "建立`train.txt`, `train_label.txt`, `val.txt`, `val_label.txt`, `test.txt`, `test_label.txt`。\n",
    "1. 依次取出四种数据，打乱内部顺序\n",
    "2. 取前417个放入`train_data`，接着41个放入`val_data`，最后41个放入`test_data`。\n",
    "3. 构造依次417个foot，hand，stick，normal的`train_label`，同样的还有`val_label`,`test_label`\n",
    "4. 利用`sklearn.utils.shuffle()`函数同步打乱data与其label并放入各自文件夹"
   ]
  },
  {
   "cell_type": "code",
   "execution_count": 1,
   "metadata": {},
   "outputs": [],
   "source": [
    "from sklearn.utils import shuffle"
   ]
  },
  {
   "cell_type": "code",
   "execution_count": 2,
   "metadata": {},
   "outputs": [],
   "source": [
    "def handle_data(name,data,train_data,val_data,test_data,train_label,val_label,test_label):\n",
    "    '''\n",
    "    拿出数据，打乱，存放\n",
    "    '''\n",
    "    data = shuffle(data)\n",
    "    for i in range(417):\n",
    "        train_data.append(data[i])\n",
    "    for i in range(417,417+41):\n",
    "        val_data.append(data[i])\n",
    "    for i in range(417+41,499):\n",
    "        test_data.append(data[i])\n",
    "        \n",
    "    # 将label编码为整数，normal-0，foot-1，hand-2,stick-3\n",
    "    if name == 'normal': name = 0\n",
    "    elif name == 'foot': name = 1\n",
    "    elif name == 'hand': name = 2\n",
    "    else: name = 3\n",
    "    for i in range(417):\n",
    "        train_label.append(name)\n",
    "    for i in range(41):\n",
    "        val_label.append(name)\n",
    "        test_label.append(name)\n",
    "    return train_data,val_data,test_data,train_label,val_label,test_label"
   ]
  },
  {
   "cell_type": "code",
   "execution_count": 3,
   "metadata": {},
   "outputs": [
    {
     "name": "stdout",
     "output_type": "stream",
     "text": [
      "当前有417条训练数据，41条验证数据，41条测试数据\n",
      "当前有417个训练标签，41个验证标签，41个测试标签\n",
      "当前有834条训练数据，82条验证数据，82条测试数据\n",
      "当前有834个训练标签，82个验证标签，82个测试标签\n",
      "当前有1251条训练数据，123条验证数据，123条测试数据\n",
      "当前有1251个训练标签，123个验证标签，123个测试标签\n",
      "当前有1668条训练数据，164条验证数据，164条测试数据\n",
      "当前有1668个训练标签，164个验证标签，164个测试标签\n"
     ]
    }
   ],
   "source": [
    "file_name = ['foot','hand','stick','normal']\n",
    "train_data,val_data,test_data,train_label,val_label,test_label = [],[],[],[],[],[]\n",
    "for name in file_name:\n",
    "    data = []\n",
    "    with open(name+'_data.txt','r') as f:\n",
    "        for line in f:\n",
    "            data.append(line.strip('[]\\n'))\n",
    "    handle_data(name,data,train_data,val_data,test_data,train_label,val_label,test_label)\n",
    "    print('当前有{}条训练数据，{}条验证数据，{}条测试数据'.format(len(train_data),len(val_data),len(test_data)))\n",
    "    print('当前有{}个训练标签，{}个验证标签，{}个测试标签'.format(len(train_label),len(val_label),len(test_label)))#"
   ]
  },
  {
   "cell_type": "code",
   "execution_count": 5,
   "metadata": {},
   "outputs": [],
   "source": [
    "# 成对打乱数据\n",
    "train_data, train_label = shuffle(train_data, train_label)\n",
    "val_data, val_label = shuffle(val_data, val_label)\n",
    "test_data, test_label = shuffle(test_data, test_label)\n",
    "# 写入文件\n",
    "with open('train_data.txt','w') as f:\n",
    "    for line in train_data:\n",
    "        f.write(line+'\\n')\n",
    "with open('val_data.txt','w') as f:\n",
    "    for line in val_data:\n",
    "        f.write(line+'\\n')\n",
    "with open('test_data.txt','w') as f:\n",
    "    for line in test_data:\n",
    "        f.write(line+'\\n')\n",
    "with open('train_label.txt','w') as f:\n",
    "    for line in train_label:\n",
    "        f.write(str(line)+'\\n')\n",
    "with open('val_label.txt','w') as f:\n",
    "    for line in val_label:\n",
    "        f.write(str(line)+'\\n')\n",
    "with open('test_label.txt','w') as f:\n",
    "    for line in test_label:\n",
    "        f.write(str(line)+'\\n')"
   ]
  },
  {
   "cell_type": "code",
   "execution_count": null,
   "metadata": {},
   "outputs": [],
   "source": []
  }
 ],
 "metadata": {
  "kernelspec": {
   "display_name": "Python 3",
   "language": "python",
   "name": "python3"
  },
  "language_info": {
   "codemirror_mode": {
    "name": "ipython",
    "version": 3
   },
   "file_extension": ".py",
   "mimetype": "text/x-python",
   "name": "python",
   "nbconvert_exporter": "python",
   "pygments_lexer": "ipython3",
   "version": "3.6.8"
  }
 },
 "nbformat": 4,
 "nbformat_minor": 2
}
