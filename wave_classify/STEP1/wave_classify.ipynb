{
 "cells": [
  {
   "cell_type": "markdown",
   "metadata": {},
   "source": [
    "# 扰动信号分类\n",
    "\n",
    "## 构建一维CNN实现四类信号识别"
   ]
  },
  {
   "cell_type": "code",
   "execution_count": 1,
   "metadata": {},
   "outputs": [],
   "source": [
    "import numpy as np\n",
    "import matplotlib.pyplot as plt\n",
    "from sklearn.utils import shuffle\n",
    "\n",
    "from tensorflow import keras\n",
    "from tensorflow.keras.models import Model\n",
    "from tensorflow.keras.preprocessing.sequence import pad_sequences\n",
    "from tensorflow.keras.layers import Input, Activation, Conv1D, Add, Multiply, BatchNormalization, GlobalMaxPooling1D, Dropout\n",
    "from tensorflow.keras.optimizers import Adam\n",
    "from tensorflow.keras.callbacks import ModelCheckpoint, ReduceLROnPlateau"
   ]
  },
  {
   "cell_type": "code",
   "execution_count": 2,
   "metadata": {},
   "outputs": [],
   "source": [
    "# 加载数据集\n",
    "X_train, X_val, X_test = [], [], []\n",
    "Y_train, Y_val, Y_test = [], [], []\n",
    "with open('train_data.txt','r') as f:\n",
    "    for line in f:\n",
    "        temp = line.strip().split(',')\n",
    "        X_train.append([int(x) for x in temp])\n",
    "with open('val_data.txt','r') as f:\n",
    "    for line in f:\n",
    "        temp = line.strip().split(',')\n",
    "        X_val.append([int(x) for x in temp])\n",
    "with open('test_data.txt','r') as f:\n",
    "    for line in f:\n",
    "        temp = line.strip().split(',')\n",
    "        X_test.append([int(x) for x in temp])\n",
    "with open('train_label.txt','r') as f:\n",
    "    for line in f:\n",
    "        Y_train.append(line.strip())\n",
    "with open('val_label.txt','r') as f:\n",
    "    for line in f:\n",
    "        Y_val.append(line.strip())\n",
    "with open('test_label.txt','r') as f:\n",
    "    for line in f:\n",
    "        Y_test.append(line.strip())\n",
    "X_train, X_val, X_test = np.array(X_train), np.array(X_val), np.array(X_test)\n",
    "Y_train, Y_val, Y_test = np.array(Y_train), np.array(Y_val), np.array(Y_test)"
   ]
  },
  {
   "cell_type": "code",
   "execution_count": 3,
   "metadata": {},
   "outputs": [],
   "source": [
    "# 升维\n",
    "X_train, X_val, X_test = np.expand_dims(X_train,axis = 1),np.expand_dims(X_val,axis = 1),np.expand_dims(X_test,axis = 1)\n",
    "Y_train, Y_val, Y_test = np.expand_dims(Y_train,axis = 1),np.expand_dims(Y_val,axis = 1),np.expand_dims(Y_test,axis = 1)"
   ]
  },
  {
   "cell_type": "code",
   "execution_count": 4,
   "metadata": {},
   "outputs": [],
   "source": [
    "batch_size = 32\n",
    "\n",
    "def batch_generator(x, y, batch_size=batch_size): \n",
    "    offset = 0\n",
    "    while True:\n",
    "        offset += batch_size\n",
    "        \n",
    "        if offset == batch_size or offset >= len(x):\n",
    "            x, y = shuffle(x, y)\n",
    "            offset = batch_size\n",
    "            \n",
    "        X_batch = x[offset - batch_size: offset]    \n",
    "        Y_batch = y[offset - batch_size: offset]\n",
    "        \n",
    "        yield (X_batch, Y_batch)"
   ]
  },
  {
   "cell_type": "code",
   "execution_count": 5,
   "metadata": {},
   "outputs": [
    {
     "name": "stdout",
     "output_type": "stream",
     "text": [
      "Epoch 1/10\n"
     ]
    },
    {
     "name": "stderr",
     "output_type": "stream",
     "text": [
      "WARNING: Logging before flag parsing goes to stderr.\n",
      "W1205 07:31:36.771817 140190377809728 deprecation.py:323] From /usr/local/lib/python3.6/dist-packages/tensorflow_core/python/ops/math_grad.py:1251: add_dispatch_support.<locals>.wrapper (from tensorflow.python.ops.array_ops) is deprecated and will be removed in a future version.\n",
      "Instructions for updating:\n",
      "Use tf.where in 2.0, which has the same broadcast rule as np.where\n",
      "W1205 07:32:08.249393 140190377809728 deprecation.py:323] From /usr/local/lib/python3.6/dist-packages/tensorflow_core/python/keras/optimizer_v2/optimizer_v2.py:460: BaseResourceVariable.constraint (from tensorflow.python.ops.resource_variable_ops) is deprecated and will be removed in a future version.\n",
      "Instructions for updating:\n",
      "Apply a constraint manually following the optimizer update step.\n"
     ]
    },
    {
     "name": "stdout",
     "output_type": "stream",
     "text": [
      "52/52 [==============================] - 82s 2s/step - loss: 0.4546 - accuracy: 0.8816 - val_loss: 8.0258 - val_accuracy: 0.2500\n",
      "Epoch 2/10\n",
      "52/52 [==============================] - 8s 145ms/step - loss: 0.1820 - accuracy: 0.9718 - val_loss: 0.4676 - val_accuracy: 0.8062\n",
      "Epoch 3/10\n",
      "52/52 [==============================] - 7s 142ms/step - loss: 0.1578 - accuracy: 0.9694 - val_loss: 0.5444 - val_accuracy: 0.8062\n",
      "Epoch 4/10\n",
      "52/52 [==============================] - 7s 142ms/step - loss: 0.0940 - accuracy: 0.9850 - val_loss: 0.3208 - val_accuracy: 0.9062\n",
      "Epoch 5/10\n",
      "52/52 [==============================] - 7s 141ms/step - loss: 0.0675 - accuracy: 0.9880 - val_loss: 0.0398 - val_accuracy: 0.9875\n",
      "Epoch 6/10\n",
      "52/52 [==============================] - 7s 142ms/step - loss: 0.0674 - accuracy: 0.9874 - val_loss: 0.3443 - val_accuracy: 0.8875\n",
      "Epoch 7/10\n",
      "52/52 [==============================] - 7s 143ms/step - loss: 0.0304 - accuracy: 0.9970 - val_loss: 0.0488 - val_accuracy: 0.9875\n",
      "Epoch 8/10\n",
      "52/52 [==============================] - 8s 144ms/step - loss: 0.0440 - accuracy: 0.9940 - val_loss: 0.0276 - val_accuracy: 1.0000\n",
      "Epoch 9/10\n",
      "52/52 [==============================] - 8s 146ms/step - loss: 0.0433 - accuracy: 0.9922 - val_loss: 0.0284 - val_accuracy: 1.0000\n",
      "Epoch 10/10\n",
      "52/52 [==============================] - 7s 143ms/step - loss: 0.0292 - accuracy: 0.9976 - val_loss: 0.0305 - val_accuracy: 1.0000\n"
     ]
    }
   ],
   "source": [
    "epochs = 10\n",
    "num_blocks = 3\n",
    "filters = 64\n",
    "drop_rate = 0.5\n",
    "num_class = 4\n",
    "\n",
    "X = Input(shape=(1,3800), dtype='float32')\n",
    "\n",
    "def conv1d(inputs, filters, kernel_size, dilation_rate):\n",
    "    return Conv1D(filters=filters, kernel_size=kernel_size, strides=1, padding='causal', activation=None, dilation_rate=dilation_rate)(inputs)\n",
    "\n",
    "def batchnorm(inputs):\n",
    "    return BatchNormalization()(inputs)\n",
    "\n",
    "def activation(inputs, activation):\n",
    "    return Activation(activation)(inputs)\n",
    "\n",
    "def res_block(inputs, filters, kernel_size, dilation_rate):\n",
    "    hf = activation(batchnorm(conv1d(inputs, filters, kernel_size, dilation_rate)), 'relu')\n",
    "    hg = activation(batchnorm(conv1d(inputs, filters, kernel_size, dilation_rate)), 'sigmoid')\n",
    "    h0 = Multiply()([hf, hg])\n",
    "    \n",
    "    ha = activation(batchnorm(conv1d(h0, filters, 1, 1)), 'relu')\n",
    "    hs = activation(batchnorm(conv1d(h0, filters, 1, 1)), 'relu')\n",
    "    \n",
    "    return Add()([ha, inputs]), hs\n",
    "\n",
    "h0 = activation(batchnorm(conv1d(X, filters, 1, 1)), 'relu')\n",
    "shortcut = []\n",
    "for i in range(num_blocks):\n",
    "    for r in [1, 2, 4, 8, 16]:\n",
    "        h0, s = res_block(h0, filters, 7, r)\n",
    "        shortcut.append(s)\n",
    "\n",
    "h1 = activation(Add()(shortcut), 'relu')\n",
    "h1 = activation(batchnorm(conv1d(h1, filters, 1, 1)), 'relu') # batch_size, seq_len, filters\n",
    "h1 = batchnorm(conv1d(h1, num_class, 1, 1)) # batch_size, seq_len, num_class\n",
    "h1 = GlobalMaxPooling1D()(h1) # batch_size, num_class\n",
    "Y = activation(h1, 'softmax')\n",
    "\n",
    "optimizer = Adam(lr=0.01, clipnorm=5)\n",
    "model = Model(inputs=X, outputs=Y)\n",
    "model.compile(loss='sparse_categorical_crossentropy', optimizer=optimizer, metrics=['accuracy'])\n",
    "\n",
    "checkpointer = ModelCheckpoint(filepath='zhuhai.h5', verbose=0)\n",
    "lr_decay = ReduceLROnPlateau(monitor='loss', factor=0.2, patience=1, min_lr=0.000)\n",
    "\n",
    "history = model.fit_generator(\n",
    "    generator=batch_generator(X_train, Y_train), \n",
    "    steps_per_epoch=len(X_train) // batch_size,\n",
    "    epochs=epochs, \n",
    "    validation_data=batch_generator(X_val, Y_val), \n",
    "    validation_steps=len(X_val) // batch_size, \n",
    "    callbacks=[checkpointer, lr_decay])"
   ]
  },
  {
   "cell_type": "markdown",
   "metadata": {},
   "source": [
    "## 对比训练集与验证集的loss及准确率变化"
   ]
  },
  {
   "cell_type": "code",
   "execution_count": 6,
   "metadata": {},
   "outputs": [
    {
     "data": {
      "image/png": "[encoded data removed]",
      "text/plain": [
       "<Figure size 432x288 with 1 Axes>"
      ]
     },
     "metadata": {
      "needs_background": "light"
     },
     "output_type": "display_data"
    },
    {
     "data": {
      "image/png": "[encoded data removed]",
      "text/plain": [
       "<Figure size 432x288 with 1 Axes>"
      ]
     },
     "metadata": {
      "needs_background": "light"
     },
     "output_type": "display_data"
    }
   ],
   "source": [
    "# 损失函数变化曲线\n",
    "train_loss = history.history['loss']\n",
    "valid_loss = history.history['val_loss']\n",
    "plt.plot(train_loss, label='train')\n",
    "plt.plot(valid_loss, label='valid')\n",
    "plt.legend(loc='upper right')\n",
    "plt.xlabel('Epoch')\n",
    "plt.ylabel('Loss')\n",
    "plt.show()\n",
    "\n",
    "train_acc = history.history['accuracy']\n",
    "valid_acc = history.history['val_accuracy']\n",
    "plt.plot(train_acc, label='train')\n",
    "plt.plot(valid_acc, label='valid')\n",
    "plt.legend(loc='upper right')\n",
    "plt.xlabel('Epoch')\n",
    "plt.ylabel('Accuracy')\n",
    "plt.show()"
   ]
  },
  {
   "cell_type": "markdown",
   "metadata": {},
   "source": [
    "## 在测试集上验证"
   ]
  },
  {
   "cell_type": "code",
   "execution_count": 8,
   "metadata": {},
   "outputs": [
    {
     "name": "stdout",
     "output_type": "stream",
     "text": [
      "训练集loss为0.029167114989832044，准确率为0.9975961446762085\n",
      "验证集loss为0.0305146723985672，准确率为1.0\n",
      "测试集loss为0.033884770986510486，准确率为1.0\n"
     ]
    }
   ],
   "source": [
    "# 准确率\n",
    "print('训练集loss为{}，准确率为{}'.format(history.history['loss'][-1], history.history['accuracy'][-1]))\n",
    "print('验证集loss为{}，准确率为{}'.format(history.history['val_loss'][-1], history.history['val_accuracy'][-1]))\n",
    "score = model.evaluate(X_test, Y_test, verbose=0)\n",
    "print('测试集loss为{}，准确率为{}'.format(score[0], score[1]))"
   ]
  },
  {
   "cell_type": "code",
   "execution_count": 9,
   "metadata": {},
   "outputs": [
    {
     "name": "stdout",
     "output_type": "stream",
     "text": [
      "预测结果是3，其标签为3\n"
     ]
    }
   ],
   "source": [
    "# 对测试集任一信号进行分类\n",
    "num = 34\n",
    "prediction = model.predict(np.expand_dims(X_test[num],axis=0))\n",
    "prediction = np.argmax(prediction, axis=1)[0]\n",
    "label = ['noraml','foot','hand','stick']\n",
    "print('预测结果是{}，其标签为{}'.format(label[prediction], label[int(Y_test[num][0])))"
   ]
  },
  {
   "cell_type": "markdown",
   "metadata": {},
   "source": [
    "## 保存训练好的模型"
   ]
  },
  {
   "cell_type": "code",
   "execution_count": 13,
   "metadata": {},
   "outputs": [],
   "source": [
    "# 保存模型\n",
    "model.save('DVS.h5')\n",
    "model.save_weights('DVS_weights.h5')"
   ]
  },
  {
   "cell_type": "markdown",
   "metadata": {},
   "source": [
    "## 模型格式转换\n",
    "1. 模型之后需要通过C++调用，C++有tensorflow接口，但是没有keras接口，因此需要将h5模型转换为pb模型。\n",
    "2. 关于C++使用pb模型，可以参考[C++调用pb文件](https://blog.csdn.net/wiscol/article/details/96492296)"
   ]
  },
  {
   "cell_type": "code",
   "execution_count": 11,
   "metadata": {},
   "outputs": [],
   "source": [
    "from tensorflow.keras.models import load_model\n",
    "from tensorflow.keras import backend\n",
    "import os"
   ]
  },
  {
   "cell_type": "code",
   "execution_count": 12,
   "metadata": {},
   "outputs": [],
   "source": [
    "def h52pb(h5_model,output_dir, model_name, out_prefix=\"output_\", log_tensorboard=True):\n",
    "    \"\"\".h5模型文件转换成pb模型文件\n",
    "    Argument:\n",
    "        h5_model: str\n",
    "            .h5模型文件\n",
    "        output_dir: str\n",
    "            pb模型文件保存路径\n",
    "        model_name: str\n",
    "            pb模型文件名称\n",
    "        out_prefix: str\n",
    "            根据训练，需要修改\n",
    "        log_tensorboard: bool\n",
    "            是否生成日志文件\n",
    "    Return:\n",
    "        pb模型文件\n",
    "    \"\"\"\n",
    "    if os.path.exists(output_dir) == False:\n",
    "        os.mkdir(output_dir)\n",
    "    out_nodes = []\n",
    "    for i in range(len(h5_model.outputs)):\n",
    "        out_nodes.append(out_prefix + str(i + 1))\n",
    "        tf.identity(h5_model.output[i], out_prefix + str(i + 1))\n",
    "    sess = backend.get_session()\n",
    " \n",
    "    from tensorflow.python.framework import graph_util, graph_io\n",
    "    # 写入pb模型文件\n",
    "    init_graph = sess.graph.as_graph_def()\n",
    "    main_graph = graph_util.convert_variables_to_constants(sess, init_graph, out_nodes)\n",
    "    graph_io.write_graph(main_graph, output_dir, name=model_name, as_text=False)\n",
    "    # 输出日志文件\n",
    "    if log_tensorboard:\n",
    "        from tensorflow.python.tools import import_pb_to_tensorboard\n",
    "        import_pb_to_tensorboard.import_to_tensorboard(os.path.join(output_dir, model_name), output_dir)"
   ]
  },
  {
   "cell_type": "code",
   "execution_count": null,
   "metadata": {},
   "outputs": [],
   "source": [
    "if __name__ == '__main__':\n",
    "\n",
    "    #  .h模型文件路径参数\n",
    "    input_path = './'\n",
    "    h5_file = 'DVS.h5'\n",
    "    h5_file_path = os.path.join(input_path, h5_file)\n",
    "    output_graph_name = h5_file[:-3] + '.pb'\n",
    " \n",
    "    #  pb模型文件输出输出路径\n",
    "    output_dir = os.path.join(os.getcwd(), \"./\")\n",
    " \n",
    "    #  加载模型\n",
    "    h5_model = load_model(h5_file_path)\n",
    "    h52pb(h5_model, output_dir=output_dir, model_name=output_graph_name)\n",
    "    print('Finished')"
   ]
  },
  {
   "cell_type": "code",
   "execution_count": null,
   "metadata": {},
   "outputs": [],
   "source": []
  }
 ],
 "metadata": {
  "kernelspec": {
   "display_name": "Python 3",
   "language": "python",
   "name": "python3"
  },
  "language_info": {
   "codemirror_mode": {
    "name": "ipython",
    "version": 3
   },
   "file_extension": ".py",
   "mimetype": "text/x-python",
   "name": "python",
   "nbconvert_exporter": "python",
   "pygments_lexer": "ipython3",
   "version": "3.6.8"
  }
 },
 "nbformat": 4,
 "nbformat_minor": 2
}
